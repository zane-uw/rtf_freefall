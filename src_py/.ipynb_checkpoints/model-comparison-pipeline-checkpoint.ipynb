{
 "cells": [
  {
   "cell_type": "code",
   "execution_count": 136,
   "metadata": {},
   "outputs": [],
   "source": [
    "import pandas as pd\n",
    "import numpy as np\n",
    "\n",
    "from sklearn import pipeline\n",
    "from sklearn import linear_model\n",
    "from sklearn.model_selection import train_test_split, cross_val_score\n",
    "import sklearn.feature_extraction as fe\n",
    "import sklearn.preprocessing as pp\n",
    "from sklearn.linear_model import SGDRegressor\n",
    "from sklearn.preprocessing import PolynomialFeatures\n",
    "from sklearn.ensemble import RandomForestRegressor\n",
    "\n",
    "from matplotlib import pyplot as plt\n",
    "\n",
    "%matplotlib inline"
   ]
  },
  {
   "cell_type": "code",
   "execution_count": 42,
   "metadata": {},
   "outputs": [],
   "source": [
    "# that was a fun exercise but ultimately fruitless in the face of pd.DataFrame weirdness with string vars\n",
    "\n",
    "# def conditional_freq_count(str_list):\n",
    "#     l = len(str_list)\n",
    "#     freqs = [str_list.count(i) for i in str_list]\n",
    "#     freqs = [i / l for i in freqs]\n",
    "#     return(freqs)\n",
    "\n",
    "# ls = ['a', 'a', 'b', 'b', 'c', 'c', 'd', 'd', 'e', 'f']\n",
    "# conditional_freq_count(ls)"
   ]
  },
  {
   "cell_type": "code",
   "execution_count": 1,
   "metadata": {},
   "outputs": [
    {
     "name": "stdout",
     "output_type": "stream",
     "text": [
      "Icon?                pydat.csv            pytrain.csv\r\n",
      "merged-dataset.RData pytest.csv           raw-data.RData\r\n"
     ]
    }
   ],
   "source": [
    "# !ls ../data"
   ]
  },
  {
   "cell_type": "code",
   "execution_count": 3,
   "metadata": {},
   "outputs": [],
   "source": [
    "dat = pd.read_csv('../data/pydat.csv')\n",
    "dat.columns\n",
    "dat.dropna(subset = ['Y'], inplace = True)"
   ]
  },
  {
   "cell_type": "code",
   "execution_count": 4,
   "metadata": {},
   "outputs": [],
   "source": [
    "dat['tran_major_abbr'].fillna(value = 'None', inplace = True)"
   ]
  },
  {
   "cell_type": "code",
   "execution_count": 5,
   "metadata": {},
   "outputs": [
    {
     "data": {
      "text/plain": [
       "PREMAJ    0.101119\n",
       "PRENGR    0.062217\n",
       "PSOCS     0.053329\n",
       "PRE HS    0.049497\n",
       "PRENUR    0.035056\n",
       "EPRMJ     0.034220\n",
       "BIOL      0.034019\n",
       "PSYCH     0.021493\n",
       "POL S     0.020528\n",
       "Name: tran_major_abbr, dtype: float64"
      ]
     },
     "execution_count": 5,
     "metadata": {},
     "output_type": "execute_result"
    }
   ],
   "source": [
    "mjr_orig_counts = dat['tran_major_abbr'].value_counts() / dat.shape[0]\n",
    "mjr_orig_counts[1:10]"
   ]
  },
  {
   "cell_type": "code",
   "execution_count": 6,
   "metadata": {},
   "outputs": [
    {
     "name": "stdout",
     "output_type": "stream",
     "text": [
      "<class 'pandas.core.frame.DataFrame'>\n",
      "Int64Index: 138836 entries, 0 to 156968\n",
      "Data columns (total 56 columns):\n",
      "Unnamed: 0                       138836 non-null int64\n",
      "system_key                       138836 non-null int64\n",
      "Y                                138836 non-null float64\n",
      "qtr.num                          138836 non-null int64\n",
      "class                            138836 non-null int64\n",
      "tenth_day_credits                138836 non-null float64\n",
      "scholarship_type                 138836 non-null int64\n",
      "num_courses                      138836 non-null int64\n",
      "pts                              138836 non-null float64\n",
      "attmp                            138836 non-null float64\n",
      "nongrd                           138836 non-null float64\n",
      "deduct                           138836 non-null int64\n",
      "qgpa                             135999 non-null float64\n",
      "tot_creds                        138836 non-null float64\n",
      "cum.pts                          138836 non-null float64\n",
      "cum.attmp                        138836 non-null float64\n",
      "s1_gender                        138762 non-null object\n",
      "child_of_alum                    138836 non-null bool\n",
      "running_start                    138836 non-null object\n",
      "s1_high_satm                     103772 non-null float64\n",
      "s1_high_satv                     103772 non-null float64\n",
      "s1_high_act                      40459 non-null float64\n",
      "EthnicGrpAfricanAmerInd          138836 non-null object\n",
      "EthnicGrpAsianInd                138836 non-null object\n",
      "EthnicGrpCaucasianInd            138836 non-null object\n",
      "EthnicGrpHawaiiPacIslanderInd    138836 non-null object\n",
      "EthnicGrpMultipleInd             138836 non-null object\n",
      "EthnicGrpNotIndicatedInd         138836 non-null object\n",
      "HispanicInd                      138836 non-null object\n",
      "ResidentDesc                     138836 non-null object\n",
      "age                              138836 non-null float64\n",
      "trans_gpa                        40569 non-null float64\n",
      "conditional                      137659 non-null float64\n",
      "with_distinction                 137659 non-null object\n",
      "low_family_income                137659 non-null object\n",
      "appl_class                       137659 non-null float64\n",
      "high_sch_gpa                     106481 non-null float64\n",
      "hs_for_lang_type                 137659 non-null float64\n",
      "hs_for_lang_yrs                  137659 non-null float64\n",
      "hs_yrs_for_lang                  137659 non-null float64\n",
      "hs_math_level                    137659 non-null float64\n",
      "hs_yrs_math                      137659 non-null float64\n",
      "hs_yrs_arts                      137659 non-null float64\n",
      "hs_yrs_science                   137659 non-null float64\n",
      "hs_yrs_soc_sci                   137659 non-null float64\n",
      "hs_yrs_english                   137659 non-null float64\n",
      "last_school_type                 137659 non-null float64\n",
      "reg.late.days                    138825 non-null float64\n",
      "reg.late.mean                    138726 non-null float64\n",
      "tran_major_abbr                  138836 non-null object\n",
      "major.change                     138836 non-null int64\n",
      "major.change.count               138836 non-null int64\n",
      "n.unmet                          138836 non-null int64\n",
      "n.unmet.cum                      138836 non-null int64\n",
      "ft                               138836 non-null bool\n",
      "ft.creds.over                    138836 non-null float64\n",
      "dtypes: bool(2), float64(30), int64(11), object(13)\n",
      "memory usage: 58.5+ MB\n"
     ]
    }
   ],
   "source": [
    "# dat.info()"
   ]
  },
  {
   "cell_type": "code",
   "execution_count": 182,
   "metadata": {},
   "outputs": [
    {
     "data": {
      "text/plain": [
       "<matplotlib.axes._subplots.AxesSubplot at 0x1a3839a550>"
      ]
     },
     "execution_count": 182,
     "metadata": {},
     "output_type": "execute_result"
    },
    {
     "data": {
      "image/png": "[encoded data removed]",
      "text/plain": [
       "<Figure size 432x288 with 1 Axes>"
      ]
     },
     "metadata": {
      "needs_background": "light"
     },
     "output_type": "display_data"
    },
    {
     "data": {
      "image/png": "[encoded data removed]",
      "text/plain": [
       "<Figure size 432x288 with 1 Axes>"
      ]
     },
     "metadata": {
      "needs_background": "light"
     },
     "output_type": "display_data"
    },
    {
     "data": {
      "image/png": "[encoded data removed]",
      "text/plain": [
       "<Figure size 432x288 with 1 Axes>"
      ]
     },
     "metadata": {
      "needs_background": "light"
     },
     "output_type": "display_data"
    }
   ],
   "source": [
    "dat.boxplot('Y', 'low_family_income')\n",
    "dat.boxplot('Y', 'num_courses')\n",
    "dat.boxplot('Y', 'hs_math_level')"
   ]
  },
  {
   "cell_type": "code",
   "execution_count": 180,
   "metadata": {},
   "outputs": [
    {
     "data": {
      "text/plain": [
       "<matplotlib.axes._subplots.AxesSubplot at 0x1a379b9cc0>"
      ]
     },
     "execution_count": 180,
     "metadata": {},
     "output_type": "execute_result"
    },
    {
     "data": {
      "image/png": "[encoded data removed]",
      "text/plain": [
       "<Figure size 432x288 with 1 Axes>"
      ]
     },
     "metadata": {
      "needs_background": "light"
     },
     "output_type": "display_data"
    },
    {
     "data": {
      "image/png": "[encoded data removed]",
      "text/plain": [
       "<Figure size 432x288 with 1 Axes>"
      ]
     },
     "metadata": {
      "needs_background": "light"
     },
     "output_type": "display_data"
    }
   ],
   "source": [
    "dat.plot.scatter('high_sch_gpa', 'Y')\n",
    "dat.plot.scatter('n.unmet', 'Y')"
   ]
  },
  {
   "cell_type": "code",
   "execution_count": 7,
   "metadata": {},
   "outputs": [
    {
     "data": {
      "text/plain": [
       "array([[ 0., -1.,  0., ...,  0.,  0.,  0.],\n",
       "       [ 0., -1.,  0., ...,  0.,  0.,  0.],\n",
       "       [ 0., -1.,  0., ...,  0.,  0.,  0.],\n",
       "       ...,\n",
       "       [ 0.,  0.,  0., ...,  1.,  0.,  0.],\n",
       "       [ 0.,  0.,  0., ...,  0.,  0.,  0.],\n",
       "       [ 0.,  0., -1., ...,  0.,  0.,  0.]])"
      ]
     },
     "execution_count": 7,
     "metadata": {},
     "output_type": "execute_result"
    }
   ],
   "source": [
    "# one option: hash major strings\n",
    "fh = fe.FeatureHasher(n_features = 30, input_type = 'string')\n",
    "mjr_hash = fh.transform(dat['tran_major_abbr'])\n",
    "mjr_hash.toarray()"
   ]
  },
  {
   "cell_type": "code",
   "execution_count": 8,
   "metadata": {},
   "outputs": [
    {
     "data": {
      "text/plain": [
       "0     0.008017\n",
       "1     0.008017\n",
       "2     0.008017\n",
       "3     0.008017\n",
       "4     0.008017\n",
       "5     0.008017\n",
       "7     0.053329\n",
       "8     0.053329\n",
       "9     0.053329\n",
       "11    0.010192\n",
       "12    0.010192\n",
       "13    0.010192\n",
       "14    0.010674\n",
       "15    0.010674\n",
       "16    0.010674\n",
       "17    0.010674\n",
       "19    0.001505\n",
       "20    0.001505\n",
       "22    0.006562\n",
       "23    0.006562\n",
       "Name: mjr_freq, dtype: float64"
      ]
     },
     "execution_count": 8,
     "metadata": {},
     "output_type": "execute_result"
    }
   ],
   "source": [
    "# conditional_freq_count(dat['tran_major_abbr'])\n",
    "# len(dat['tran_major_abbr'])\n",
    "\n",
    "dat['mjr_freq'] = dat.groupby(dat['tran_major_abbr'])['tran_major_abbr'].transform('size')\n",
    "dat['mjr_freq'] = dat['mjr_freq'] / len(dat['mjr_freq'])\n",
    "dat['mjr_freq'].head(20)"
   ]
  },
  {
   "cell_type": "code",
   "execution_count": null,
   "metadata": {},
   "outputs": [],
   "source": [
    "# y = dat['Y'].values"
   ]
  },
  {
   "cell_type": "code",
   "execution_count": 76,
   "metadata": {},
   "outputs": [],
   "source": [
    "def zscore(x):\n",
    "    return((x - x.mean()) / x.std())\n",
    "\n",
    "sat = dat['s1_high_satm'] + dat['s1_high_satv']\n",
    "act = dat['s1_high_act']\n",
    "\n",
    "dat['pmax_test_score'] = np.fmax(zscore(sat), zscore(act))"
   ]
  },
  {
   "cell_type": "code",
   "execution_count": 85,
   "metadata": {},
   "outputs": [
    {
     "name": "stdout",
     "output_type": "stream",
     "text": [
      "<class 'pandas.core.frame.DataFrame'>\n",
      "Int64Index: 138836 entries, 0 to 156968\n",
      "Data columns (total 52 columns):\n",
      "Y                                138836 non-null float64\n",
      "qtr.num                          138836 non-null int64\n",
      "class                            138836 non-null int64\n",
      "tenth_day_credits                138836 non-null float64\n",
      "scholarship_type                 138836 non-null int64\n",
      "num_courses                      138836 non-null int64\n",
      "pts                              138836 non-null float64\n",
      "attmp                            138836 non-null float64\n",
      "nongrd                           138836 non-null float64\n",
      "deduct                           138836 non-null int64\n",
      "qgpa                             135999 non-null float64\n",
      "tot_creds                        138836 non-null float64\n",
      "cum.pts                          138836 non-null float64\n",
      "cum.attmp                        138836 non-null float64\n",
      "s1_gender                        138762 non-null object\n",
      "child_of_alum                    138836 non-null bool\n",
      "running_start                    138836 non-null object\n",
      "EthnicGrpAfricanAmerInd          138836 non-null object\n",
      "EthnicGrpAsianInd                138836 non-null object\n",
      "EthnicGrpCaucasianInd            138836 non-null object\n",
      "EthnicGrpHawaiiPacIslanderInd    138836 non-null object\n",
      "EthnicGrpMultipleInd             138836 non-null object\n",
      "EthnicGrpNotIndicatedInd         138836 non-null object\n",
      "HispanicInd                      138836 non-null object\n",
      "ResidentDesc                     138836 non-null object\n",
      "age                              138836 non-null float64\n",
      "trans_gpa                        40569 non-null float64\n",
      "conditional                      137659 non-null float64\n",
      "with_distinction                 137659 non-null object\n",
      "low_family_income                137659 non-null object\n",
      "appl_class                       137659 non-null float64\n",
      "high_sch_gpa                     106481 non-null float64\n",
      "hs_for_lang_type                 137659 non-null float64\n",
      "hs_for_lang_yrs                  137659 non-null float64\n",
      "hs_yrs_for_lang                  137659 non-null float64\n",
      "hs_math_level                    137659 non-null float64\n",
      "hs_yrs_math                      137659 non-null float64\n",
      "hs_yrs_arts                      137659 non-null float64\n",
      "hs_yrs_science                   137659 non-null float64\n",
      "hs_yrs_soc_sci                   137659 non-null float64\n",
      "hs_yrs_english                   137659 non-null float64\n",
      "last_school_type                 137659 non-null float64\n",
      "reg.late.days                    138825 non-null float64\n",
      "reg.late.mean                    138726 non-null float64\n",
      "major.change                     138836 non-null int64\n",
      "major.change.count               138836 non-null int64\n",
      "n.unmet                          138836 non-null int64\n",
      "n.unmet.cum                      138836 non-null int64\n",
      "ft                               138836 non-null bool\n",
      "ft.creds.over                    138836 non-null float64\n",
      "mjr_freq                         138836 non-null float64\n",
      "pmax_test_score                  116926 non-null float64\n",
      "dtypes: bool(2), float64(29), int64(9), object(12)\n",
      "memory usage: 54.3+ MB\n"
     ]
    }
   ],
   "source": [
    "xmat = dat.drop(['Unnamed: 0', 'system_key', 'tran_major_abbr',\n",
    "                's1_high_satm', 's1_high_satv', 's1_high_act'], axis = 1)\n",
    "xmat.info()"
   ]
  },
  {
   "cell_type": "code",
   "execution_count": 86,
   "metadata": {},
   "outputs": [],
   "source": [
    "# any additional drops w/ lots of NAs?\n",
    "# xmat.drop(columns = 'trans_gpa', inplace = True)\n",
    "\n",
    "# let's take pmax of transfer or highschool gpa\n",
    "xmat['pmax_gpa'] = np.fmax(xmat['trans_gpa'], xmat['high_sch_gpa'])"
   ]
  },
  {
   "cell_type": "code",
   "execution_count": 87,
   "metadata": {},
   "outputs": [],
   "source": [
    "xmat.drop(columns = ['trans_gpa', 'high_sch_gpa'], inplace = True)"
   ]
  },
  {
   "cell_type": "markdown",
   "metadata": {},
   "source": [
    "### Handling categorical features"
   ]
  },
  {
   "cell_type": "code",
   "execution_count": 88,
   "metadata": {},
   "outputs": [],
   "source": [
    "xmat.replace(('Y', 'N'), (1, 0), inplace = True)\n",
    "xmat['s1_gender'].replace(('F', 'M'), (1,0), inplace = True)"
   ]
  },
  {
   "cell_type": "code",
   "execution_count": 89,
   "metadata": {},
   "outputs": [],
   "source": [
    "xmat['ResidentDesc'].unique()\n",
    "# one-hot encode this one\n",
    "xmat = pd.get_dummies(xmat, columns = ['ResidentDesc'], prefix = ['resident_desc'])"
   ]
  },
  {
   "cell_type": "markdown",
   "metadata": {},
   "source": [
    "### Train/test setup (skl)"
   ]
  },
  {
   "cell_type": "code",
   "execution_count": 98,
   "metadata": {},
   "outputs": [],
   "source": [
    "xmat_drop_na = xmat.copy()\n",
    "xmat_drop_na.dropna(axis = 1, inplace = True)\n",
    "y = xmat_drop_na['Y'].values\n",
    "xmat_drop_na.drop(columns = ['Y'], inplace = True)"
   ]
  },
  {
   "cell_type": "code",
   "execution_count": 99,
   "metadata": {},
   "outputs": [],
   "source": [
    "train_x, test_x, train_y, test_y = train_test_split(xmat_drop_na, y, train_size = .7)"
   ]
  },
  {
   "cell_type": "markdown",
   "metadata": {},
   "source": [
    "### OLS"
   ]
  },
  {
   "cell_type": "code",
   "execution_count": 88,
   "metadata": {},
   "outputs": [],
   "source": [
    "linear_model.LinearRegression?"
   ]
  },
  {
   "cell_type": "code",
   "execution_count": 101,
   "metadata": {},
   "outputs": [
    {
     "data": {
      "text/plain": [
       "LinearRegression(copy_X=True, fit_intercept=True, n_jobs=-1, normalize=False)"
      ]
     },
     "execution_count": 101,
     "metadata": {},
     "output_type": "execute_result"
    }
   ],
   "source": [
    "ols = linear_model.LinearRegression(n_jobs = -1)\n",
    "ols.fit(train_x, train_y)"
   ]
  },
  {
   "cell_type": "code",
   "execution_count": 110,
   "metadata": {},
   "outputs": [
    {
     "data": {
      "text/plain": [
       "0.7391234258077211"
      ]
     },
     "execution_count": 110,
     "metadata": {},
     "output_type": "execute_result"
    }
   ],
   "source": [
    "ols.score(test_x, test_y)"
   ]
  },
  {
   "cell_type": "markdown",
   "metadata": {},
   "source": [
    "### Ridge"
   ]
  },
  {
   "cell_type": "code",
   "execution_count": 113,
   "metadata": {},
   "outputs": [
    {
     "data": {
      "text/plain": [
       "RidgeCV(alphas=array([1.e-05, 1.e-04, 1.e-03, 1.e-02, 1.e-01, 1.e+00, 1.e+01, 1.e+02,\n",
       "       1.e+03, 1.e+04, 1.e+05]),\n",
       "        cv=5, fit_intercept=True, gcv_mode=None, normalize=False, scoring=None,\n",
       "        store_cv_values=False)"
      ]
     },
     "execution_count": 113,
     "metadata": {},
     "output_type": "execute_result"
    }
   ],
   "source": [
    "ridge_reg = linear_model.RidgeCV(alphas = np.logspace(-5, 5, 11), cv = 5)\n",
    "ridge_reg.fit(train_x, train_y)\n"
   ]
  },
  {
   "cell_type": "code",
   "execution_count": 117,
   "metadata": {},
   "outputs": [
    {
     "data": {
      "text/plain": [
       "0.7407229576160866"
      ]
     },
     "execution_count": 117,
     "metadata": {},
     "output_type": "execute_result"
    }
   ],
   "source": [
    "ridge_reg.score(test_x, test_y)"
   ]
  },
  {
   "cell_type": "markdown",
   "metadata": {},
   "source": [
    "### SGD"
   ]
  },
  {
   "cell_type": "code",
   "execution_count": 131,
   "metadata": {},
   "outputs": [
    {
     "data": {
      "text/plain": [
       "SGDRegressor(alpha=0.0001, average=False, early_stopping=False, epsilon=0.1,\n",
       "             eta0=0.01, fit_intercept=True, l1_ratio=0.15,\n",
       "             learning_rate='invscaling', loss='squared_loss', max_iter=10000,\n",
       "             n_iter_no_change=5, penalty='l2', power_t=0.25, random_state=None,\n",
       "             shuffle=True, tol=0.001, validation_fraction=0.1, verbose=0,\n",
       "             warm_start=True)"
      ]
     },
     "execution_count": 131,
     "metadata": {},
     "output_type": "execute_result"
    }
   ],
   "source": [
    "sgd = SGDRegressor(penalty = 'l2', max_iter = 10000, warm_start = True)\n",
    "sgd.fit(train_x, train_y)"
   ]
  },
  {
   "cell_type": "code",
   "execution_count": 132,
   "metadata": {},
   "outputs": [
    {
     "data": {
      "text/plain": [
       "-2.64019643842905e+24"
      ]
     },
     "execution_count": 132,
     "metadata": {},
     "output_type": "execute_result"
    }
   ],
   "source": [
    "sgd.score(test_x, test_y)"
   ]
  },
  {
   "cell_type": "markdown",
   "metadata": {},
   "source": [
    "### RF"
   ]
  },
  {
   "cell_type": "code",
   "execution_count": null,
   "metadata": {},
   "outputs": [],
   "source": [
    "rfc = RandomForestRegressor(n_estimators = 600, max_depth = 5, min_samples_split = 4,\n",
    "                           n_jobs = -1)\n",
    "rfc_scores = cross_val_score(rfc, train_x, train_y, cv = 5)"
   ]
  },
  {
   "cell_type": "code",
   "execution_count": null,
   "metadata": {},
   "outputs": [],
   "source": [
    "rfc."
   ]
  }
 ],
 "metadata": {
  "kernelspec": {
   "display_name": "Python 3",
   "language": "python",
   "name": "python3"
  },
  "language_info": {
   "codemirror_mode": {
    "name": "ipython",
    "version": 3
   },
   "file_extension": ".py",
   "mimetype": "text/x-python",
   "name": "python",
   "nbconvert_exporter": "python",
   "pygments_lexer": "ipython3",
   "version": "3.6.8"
  },
  "varInspector": {
   "cols": {
    "lenName": 16,
    "lenType": 16,
    "lenVar": 40
   },
   "kernels_config": {
    "python": {
     "delete_cmd_postfix": "",
     "delete_cmd_prefix": "del ",
     "library": "var_list.py",
     "varRefreshCmd": "print(var_dic_list())"
    },
    "r": {
     "delete_cmd_postfix": ") ",
     "delete_cmd_prefix": "rm(",
     "library": "var_list.r",
     "varRefreshCmd": "cat(var_dic_list()) "
    }
   },
   "types_to_exclude": [
    "module",
    "function",
    "builtin_function_or_method",
    "instance",
    "_Feature"
   ],
   "window_display": false
  }
 },
 "nbformat": 4,
 "nbformat_minor": 2
}
