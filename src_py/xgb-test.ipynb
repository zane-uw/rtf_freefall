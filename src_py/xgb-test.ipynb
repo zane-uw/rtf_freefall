{
 "cells": [
  {
   "cell_type": "code",
   "execution_count": 36,
   "metadata": {
    "ExecuteTime": {
     "end_time": "2021-06-16T18:46:03.830686Z",
     "start_time": "2021-06-16T18:46:03.827512Z"
    }
   },
   "outputs": [],
   "source": [
    "import xgboost as xgb\n",
    "import pandas as pd\n",
    "import numpy as np\n",
    "from xgboost.sklearn import XGBClassifier\n",
    "from sklearn.model_selection import train_test_split, KFold, RandomizedSearchCV, GridSearchCV\n",
    "# import pickle\n",
    "from joblib import dump, load\n",
    "\n",
    "# %matplotlib inline\n",
    "# import matplotlib.pyplot as plt\n",
    "SEED = 24601"
   ]
  },
  {
   "cell_type": "code",
   "execution_count": 56,
   "metadata": {},
   "outputs": [],
   "source": [
    "# %pwd"
   ]
  },
  {
   "cell_type": "code",
   "execution_count": 15,
   "metadata": {
    "ExecuteTime": {
     "end_time": "2021-06-16T17:37:01.619016Z",
     "start_time": "2021-06-16T17:37:00.120049Z"
    }
   },
   "outputs": [],
   "source": [
    "data = pd.read_csv('../OMAD_adverse_outcome_mod/data/transformed-data-to-py.csv',\n",
    "                   na_values=['NA', 'NaN', 'Inf', '-Inf'])\n",
    "if 'Unnamed: 0' in data.columns:\n",
    "    data.drop(columns='Unnamed: 0', inplace=True)\n",
    "\n",
    "data.dropna(subset=['Y'], inplace=True)\n",
    "\n",
    "id_vars = ['system_key', 'yrq']\n",
    "target = 'Y'\n",
    "x_vars = [x for x in data.columns if x not in [target]]\n",
    "x_vars = [x for x in x_vars if x not in id_vars]\n",
    "\n",
    "train, test, train_y, test_y = train_test_split(data[x_vars],\n",
    "                                                    data[target],\n",
    "                                                    test_size=0.25,\n",
    "                                                    random_state=SEED,\n",
    "                                                    stratify=data[target])"
   ]
  },
  {
   "cell_type": "code",
   "execution_count": 16,
   "metadata": {
    "ExecuteTime": {
     "end_time": "2021-06-16T17:37:29.901858Z",
     "start_time": "2021-06-16T17:37:29.898179Z"
    }
   },
   "outputs": [
    {
     "name": "stdout",
     "output_type": "stream",
     "text": [
      "√ train/test have same number of columns √\n"
     ]
    }
   ],
   "source": [
    "if test.shape[1] != train.shape[1]:\n",
    "    i1 = train.columns\n",
    "    i2 = test.columns\n",
    "    [x for x in i2 if x not in i1]\n",
    "else: \n",
    "    print(\"√ train/test have same number of columns √\")"
   ]
  },
  {
   "cell_type": "code",
   "execution_count": 17,
   "metadata": {
    "ExecuteTime": {
     "end_time": "2021-06-16T17:37:42.217767Z",
     "start_time": "2021-06-16T17:37:41.642396Z"
    },
    "scrolled": false
   },
   "outputs": [],
   "source": [
    "dtrain = xgb.DMatrix(train, label = train_y, missing = np.NaN)\n",
    "dtest = xgb.DMatrix(test, label = test_y, missing = np.NaN)"
   ]
  },
  {
   "cell_type": "code",
   "execution_count": 18,
   "metadata": {
    "ExecuteTime": {
     "end_time": "2021-06-16T17:37:45.613527Z",
     "start_time": "2021-06-16T17:37:45.610536Z"
    }
   },
   "outputs": [],
   "source": [
    "param = {'max_depth': 4, \n",
    "         'eta': 1, \n",
    "         'objective': 'reg:squarederror'}\n",
    "evallist = [(dtest, 'eval'), (dtrain, 'train')]\n",
    "nrounds = 3"
   ]
  },
  {
   "cell_type": "code",
   "execution_count": 19,
   "metadata": {
    "ExecuteTime": {
     "end_time": "2021-06-16T17:37:47.631816Z",
     "start_time": "2021-06-16T17:37:47.130853Z"
    }
   },
   "outputs": [
    {
     "name": "stdout",
     "output_type": "stream",
     "text": [
      "[0]\teval-rmse:0.38155\ttrain-rmse:0.38033\n",
      "[1]\teval-rmse:0.37108\ttrain-rmse:0.36945\n",
      "[2]\teval-rmse:0.36414\ttrain-rmse:0.36169\n"
     ]
    }
   ],
   "source": [
    "bst = xgb.train(param, dtrain, nrounds, evallist)"
   ]
  },
  {
   "cell_type": "code",
   "execution_count": 20,
   "metadata": {
    "ExecuteTime": {
     "end_time": "2021-06-16T17:37:53.408972Z",
     "start_time": "2021-06-16T17:37:53.398062Z"
    }
   },
   "outputs": [
    {
     "data": {
      "text/plain": [
       "array([-0.00473481,  0.7799772 ,  0.5682249 ,  0.1960094 ,  0.34057575,\n",
       "       -0.00473481, -0.04631138,  1.0190555 ,  0.35546142,  0.70189154,\n",
       "        0.72496533,  0.007429  ,  0.44252688, -0.04179895,  0.03412876,\n",
       "        0.9603603 ,  0.04651633,  0.7395643 ,  0.60590124, -0.00473481],\n",
       "      dtype=float32)"
      ]
     },
     "execution_count": 20,
     "metadata": {},
     "output_type": "execute_result"
    }
   ],
   "source": [
    "bst.predict(dtest)[:20]"
   ]
  },
  {
   "cell_type": "code",
   "execution_count": 21,
   "metadata": {
    "ExecuteTime": {
     "end_time": "2021-06-16T17:38:02.895354Z",
     "start_time": "2021-06-16T17:38:02.891233Z"
    }
   },
   "outputs": [
    {
     "name": "stdout",
     "output_type": "stream",
     "text": [
      "There are 720 elements to search over\n"
     ]
    }
   ],
   "source": [
    "# setup search grid\n",
    "param_grid = {\n",
    "    'min_child_weight': [1, 3, 5, 10],\n",
    "    'gamma': [.5, 1, 1.5, 2, 5],\n",
    "    'subsample': [.4, .6, .8],\n",
    "    'colsample_bytree': [.4, .6, .8],\n",
    "    'max_depth': [3, 5, 7, 9]\n",
    "}\n",
    "print(\"There are\", np.prod([len(x) for x in param_grid.values()]), \"elements to search over\")"
   ]
  },
  {
   "cell_type": "code",
   "execution_count": 22,
   "metadata": {
    "ExecuteTime": {
     "end_time": "2021-06-16T17:39:06.815476Z",
     "start_time": "2021-06-16T17:39:06.812634Z"
    }
   },
   "outputs": [],
   "source": [
    "xgb_mod = XGBClassifier(learning_rate = .2, \n",
    "                        n_estimators = 600, \n",
    "                        objective = 'reg:squarederror', \n",
    "                        silent = True, \n",
    "                        nthread = 1)"
   ]
  },
  {
   "cell_type": "code",
   "execution_count": 25,
   "metadata": {
    "ExecuteTime": {
     "end_time": "2021-06-16T18:11:36.635582Z",
     "start_time": "2021-06-16T17:40:49.640071Z"
    }
   },
   "outputs": [
    {
     "name": "stdout",
     "output_type": "stream",
     "text": [
      "Fitting 3 folds for each of 4 candidates, totalling 12 fits\n"
     ]
    },
    {
     "name": "stderr",
     "output_type": "stream",
     "text": [
      "[Parallel(n_jobs=4)]: Using backend LokyBackend with 4 concurrent workers.\n",
      "[Parallel(n_jobs=4)]: Done  10 out of  12 | elapsed: 19.7min remaining:  3.9min\n",
      "[Parallel(n_jobs=4)]: Done  12 out of  12 | elapsed: 23.3min finished\n"
     ]
    },
    {
     "name": "stdout",
     "output_type": "stream",
     "text": [
      "[11:04:09] WARNING: /Users/travis/build/dmlc/xgboost/src/learner.cc:516: \n",
      "Parameters: { silent } might not be used.\n",
      "\n",
      "  This may not be accurate due to some parameters are only used in language bindings but\n",
      "  passed down to XGBoost core.  Or some parameters are not used but slip through this\n",
      "  verification. Please open an issue if you find above cases.\n",
      "\n",
      "\n"
     ]
    },
    {
     "data": {
      "text/plain": [
       "RandomizedSearchCV(cv=<generator object _BaseKFold.split at 0x7fa916c1bbd0>,\n",
       "                   estimator=XGBRegressor(base_score=None, booster=None,\n",
       "                                          colsample_bylevel=None,\n",
       "                                          colsample_bynode=None,\n",
       "                                          colsample_bytree=None, gamma=None,\n",
       "                                          gpu_id=None, importance_type='gain',\n",
       "                                          interaction_constraints=None,\n",
       "                                          learning_rate=0.2,\n",
       "                                          max_delta_step=None, max_depth=None,\n",
       "                                          min_child_weight=None, missing=n...\n",
       "                                          reg_lambda=None,\n",
       "                                          scale_pos_weight=None, silent=True,\n",
       "                                          subsample=None, tree_method=None,\n",
       "                                          validate_parameters=None,\n",
       "                                          verbosity=None),\n",
       "                   n_iter=4, n_jobs=4,\n",
       "                   param_distributions={'colsample_bytree': [0.4, 0.6, 0.8],\n",
       "                                        'gamma': [0.5, 1, 1.5, 2, 5],\n",
       "                                        'max_depth': [3, 5, 7, 9],\n",
       "                                        'min_child_weight': [1, 3, 5, 10],\n",
       "                                        'subsample': [0.4, 0.6, 0.8]},\n",
       "                   random_state=1001, scoring='neg_mean_absolute_error',\n",
       "                   verbose=3)"
      ]
     },
     "execution_count": 25,
     "metadata": {},
     "output_type": "execute_result"
    }
   ],
   "source": [
    "# Y = train['Y'].values\n",
    "# X = train.drop(columns = ['Y', 'system_key'])\n",
    "\n",
    "# init small values for testing, even small numbers will take a long time here\n",
    "nfolds = 3\n",
    "param_comb = 4\n",
    "\n",
    "kf = KFold(n_splits = nfolds, shuffle = True, random_state = 1001)\n",
    "random_search = RandomizedSearchCV(xgb_mod, \n",
    "                                   param_distributions = param_grid, \n",
    "                                   n_iter = param_comb,\n",
    "                                   scoring = 'neg_mean_absolute_error',\n",
    "                                   n_jobs = 4,\n",
    "                                   cv = kf.split(train, train_y),\n",
    "                                   verbose = 3,\n",
    "                                   random_state = 1001)\n",
    "\n",
    "random_search.fit(train, train_y)"
   ]
  },
  {
   "cell_type": "code",
   "execution_count": 26,
   "metadata": {
    "ExecuteTime": {
     "end_time": "2021-06-16T18:43:09.391785Z",
     "start_time": "2021-06-16T18:43:09.382263Z"
    }
   },
   "outputs": [
    {
     "name": "stdout",
     "output_type": "stream",
     "text": [
      "CV results:\n",
      " {'mean_fit_time': array([318.33188462, 485.07263033, 604.40345565, 234.5659674 ]), 'std_fit_time': array([ 0.68961105,  1.14219487, 13.49370833,  3.5809776 ]), 'mean_score_time': array([1.1381894 , 4.22547928, 3.93790579, 0.49411662]), 'std_score_time': array([0.03408427, 0.67900383, 0.20176825, 0.03318061]), 'param_subsample': masked_array(data=[0.4, 0.6, 0.6, 0.8],\n",
      "             mask=[False, False, False, False],\n",
      "       fill_value='?',\n",
      "            dtype=object), 'param_min_child_weight': masked_array(data=[10, 10, 10, 10],\n",
      "             mask=[False, False, False, False],\n",
      "       fill_value='?',\n",
      "            dtype=object), 'param_max_depth': masked_array(data=[9, 9, 9, 7],\n",
      "             mask=[False, False, False, False],\n",
      "       fill_value='?',\n",
      "            dtype=object), 'param_gamma': masked_array(data=[2, 0.5, 0.5, 5],\n",
      "             mask=[False, False, False, False],\n",
      "       fill_value='?',\n",
      "            dtype=object), 'param_colsample_bytree': masked_array(data=[0.4, 0.6, 0.8, 0.4],\n",
      "             mask=[False, False, False, False],\n",
      "       fill_value='?',\n",
      "            dtype=object), 'params': [{'subsample': 0.4, 'min_child_weight': 10, 'max_depth': 9, 'gamma': 2, 'colsample_bytree': 0.4}, {'subsample': 0.6, 'min_child_weight': 10, 'max_depth': 9, 'gamma': 0.5, 'colsample_bytree': 0.6}, {'subsample': 0.6, 'min_child_weight': 10, 'max_depth': 9, 'gamma': 0.5, 'colsample_bytree': 0.8}, {'subsample': 0.8, 'min_child_weight': 10, 'max_depth': 7, 'gamma': 5, 'colsample_bytree': 0.4}], 'split0_test_score': array([-0.23711402, -0.2456962 , -0.24491735, -0.24257295]), 'split1_test_score': array([-0.23603492, -0.24626653, -0.24380762, -0.24091041]), 'split2_test_score': array([-0.23874217, -0.24619927, -0.24477625, -0.24181357]), 'mean_test_score': array([-0.23729703, -0.246054  , -0.24450041, -0.24176565]), 'std_test_score': array([0.00111278, 0.00025449, 0.00049325, 0.00067958]), 'rank_test_score': array([1, 4, 3, 2], dtype=int32)}\n",
      "Best estimator:\n",
      " XGBRegressor(base_score=0.5, booster='gbtree', colsample_bylevel=1,\n",
      "             colsample_bynode=1, colsample_bytree=0.4, gamma=2, gpu_id=-1,\n",
      "             importance_type='gain', interaction_constraints='',\n",
      "             learning_rate=0.2, max_delta_step=0, max_depth=9,\n",
      "             min_child_weight=10, missing=nan, monotone_constraints='()',\n",
      "             n_estimators=600, n_jobs=1, nthread=1, num_parallel_tree=1,\n",
      "             random_state=0, reg_alpha=0, reg_lambda=1, scale_pos_weight=1,\n",
      "             silent=True, subsample=0.4, tree_method='exact',\n",
      "             validate_parameters=1, verbosity=None)\n",
      "Best params:\n",
      " {'subsample': 0.4, 'min_child_weight': 10, 'max_depth': 9, 'gamma': 2, 'colsample_bytree': 0.4}\n"
     ]
    }
   ],
   "source": [
    "# display results\n",
    "print(\"CV results:\\n\", random_search.cv_results_)\n",
    "print(\"Best estimator:\\n\", random_search.best_estimator_)\n",
    "print(\"Best params:\\n\", random_search.best_params_)"
   ]
  },
  {
   "cell_type": "code",
   "execution_count": 135,
   "metadata": {},
   "outputs": [
    {
     "data": {
      "text/plain": [
       "['xgb-random-grid-search-test-best-estimator.joblib']"
      ]
     },
     "execution_count": 135,
     "metadata": {},
     "output_type": "execute_result"
    }
   ],
   "source": [
    "# pickle the result to avoid re-training\n",
    "dump(random_search.best_estimator_, 'xgb-random-grid-search-test-best-estimator.joblib')"
   ]
  },
  {
   "cell_type": "code",
   "execution_count": 27,
   "metadata": {
    "ExecuteTime": {
     "end_time": "2021-06-16T18:43:16.646101Z",
     "start_time": "2021-06-16T18:43:15.816942Z"
    }
   },
   "outputs": [],
   "source": [
    "results = pd.DataFrame(random_search.cv_results_)\n",
    "results.to_csv('xgb-random-grid-search-test-results.csv', index = False)"
   ]
  },
  {
   "cell_type": "code",
   "execution_count": 28,
   "metadata": {
    "ExecuteTime": {
     "end_time": "2021-06-16T18:43:19.161533Z",
     "start_time": "2021-06-16T18:43:19.144191Z"
    },
    "scrolled": true
   },
   "outputs": [
    {
     "data": {
      "text/html": [
       "<div>\n",
       "<style scoped>\n",
       "    .dataframe tbody tr th:only-of-type {\n",
       "        vertical-align: middle;\n",
       "    }\n",
       "\n",
       "    .dataframe tbody tr th {\n",
       "        vertical-align: top;\n",
       "    }\n",
       "\n",
       "    .dataframe thead th {\n",
       "        text-align: right;\n",
       "    }\n",
       "</style>\n",
       "<table border=\"1\" class=\"dataframe\">\n",
       "  <thead>\n",
       "    <tr style=\"text-align: right;\">\n",
       "      <th></th>\n",
       "      <th>mean_fit_time</th>\n",
       "      <th>std_fit_time</th>\n",
       "      <th>mean_score_time</th>\n",
       "      <th>std_score_time</th>\n",
       "      <th>param_subsample</th>\n",
       "      <th>param_min_child_weight</th>\n",
       "      <th>param_max_depth</th>\n",
       "      <th>param_gamma</th>\n",
       "      <th>param_colsample_bytree</th>\n",
       "      <th>params</th>\n",
       "      <th>split0_test_score</th>\n",
       "      <th>split1_test_score</th>\n",
       "      <th>split2_test_score</th>\n",
       "      <th>mean_test_score</th>\n",
       "      <th>std_test_score</th>\n",
       "      <th>rank_test_score</th>\n",
       "    </tr>\n",
       "  </thead>\n",
       "  <tbody>\n",
       "    <tr>\n",
       "      <th>0</th>\n",
       "      <td>318.331885</td>\n",
       "      <td>0.689611</td>\n",
       "      <td>1.138189</td>\n",
       "      <td>0.034084</td>\n",
       "      <td>0.4</td>\n",
       "      <td>10</td>\n",
       "      <td>9</td>\n",
       "      <td>2</td>\n",
       "      <td>0.4</td>\n",
       "      <td>{'subsample': 0.4, 'min_child_weight': 10, 'ma...</td>\n",
       "      <td>-0.237114</td>\n",
       "      <td>-0.236035</td>\n",
       "      <td>-0.238742</td>\n",
       "      <td>-0.237297</td>\n",
       "      <td>0.001113</td>\n",
       "      <td>1</td>\n",
       "    </tr>\n",
       "    <tr>\n",
       "      <th>1</th>\n",
       "      <td>485.072630</td>\n",
       "      <td>1.142195</td>\n",
       "      <td>4.225479</td>\n",
       "      <td>0.679004</td>\n",
       "      <td>0.6</td>\n",
       "      <td>10</td>\n",
       "      <td>9</td>\n",
       "      <td>0.5</td>\n",
       "      <td>0.6</td>\n",
       "      <td>{'subsample': 0.6, 'min_child_weight': 10, 'ma...</td>\n",
       "      <td>-0.245696</td>\n",
       "      <td>-0.246267</td>\n",
       "      <td>-0.246199</td>\n",
       "      <td>-0.246054</td>\n",
       "      <td>0.000254</td>\n",
       "      <td>4</td>\n",
       "    </tr>\n",
       "    <tr>\n",
       "      <th>2</th>\n",
       "      <td>604.403456</td>\n",
       "      <td>13.493708</td>\n",
       "      <td>3.937906</td>\n",
       "      <td>0.201768</td>\n",
       "      <td>0.6</td>\n",
       "      <td>10</td>\n",
       "      <td>9</td>\n",
       "      <td>0.5</td>\n",
       "      <td>0.8</td>\n",
       "      <td>{'subsample': 0.6, 'min_child_weight': 10, 'ma...</td>\n",
       "      <td>-0.244917</td>\n",
       "      <td>-0.243808</td>\n",
       "      <td>-0.244776</td>\n",
       "      <td>-0.244500</td>\n",
       "      <td>0.000493</td>\n",
       "      <td>3</td>\n",
       "    </tr>\n",
       "    <tr>\n",
       "      <th>3</th>\n",
       "      <td>234.565967</td>\n",
       "      <td>3.580978</td>\n",
       "      <td>0.494117</td>\n",
       "      <td>0.033181</td>\n",
       "      <td>0.8</td>\n",
       "      <td>10</td>\n",
       "      <td>7</td>\n",
       "      <td>5</td>\n",
       "      <td>0.4</td>\n",
       "      <td>{'subsample': 0.8, 'min_child_weight': 10, 'ma...</td>\n",
       "      <td>-0.242573</td>\n",
       "      <td>-0.240910</td>\n",
       "      <td>-0.241814</td>\n",
       "      <td>-0.241766</td>\n",
       "      <td>0.000680</td>\n",
       "      <td>2</td>\n",
       "    </tr>\n",
       "  </tbody>\n",
       "</table>\n",
       "</div>"
      ],
      "text/plain": [
       "   mean_fit_time  std_fit_time  mean_score_time  std_score_time  \\\n",
       "0     318.331885      0.689611         1.138189        0.034084   \n",
       "1     485.072630      1.142195         4.225479        0.679004   \n",
       "2     604.403456     13.493708         3.937906        0.201768   \n",
       "3     234.565967      3.580978         0.494117        0.033181   \n",
       "\n",
       "  param_subsample param_min_child_weight param_max_depth param_gamma  \\\n",
       "0             0.4                     10               9           2   \n",
       "1             0.6                     10               9         0.5   \n",
       "2             0.6                     10               9         0.5   \n",
       "3             0.8                     10               7           5   \n",
       "\n",
       "  param_colsample_bytree                                             params  \\\n",
       "0                    0.4  {'subsample': 0.4, 'min_child_weight': 10, 'ma...   \n",
       "1                    0.6  {'subsample': 0.6, 'min_child_weight': 10, 'ma...   \n",
       "2                    0.8  {'subsample': 0.6, 'min_child_weight': 10, 'ma...   \n",
       "3                    0.4  {'subsample': 0.8, 'min_child_weight': 10, 'ma...   \n",
       "\n",
       "   split0_test_score  split1_test_score  split2_test_score  mean_test_score  \\\n",
       "0          -0.237114          -0.236035          -0.238742        -0.237297   \n",
       "1          -0.245696          -0.246267          -0.246199        -0.246054   \n",
       "2          -0.244917          -0.243808          -0.244776        -0.244500   \n",
       "3          -0.242573          -0.240910          -0.241814        -0.241766   \n",
       "\n",
       "   std_test_score  rank_test_score  \n",
       "0        0.001113                1  \n",
       "1        0.000254                4  \n",
       "2        0.000493                3  \n",
       "3        0.000680                2  "
      ]
     },
     "execution_count": 28,
     "metadata": {},
     "output_type": "execute_result"
    }
   ],
   "source": [
    "results"
   ]
  },
  {
   "cell_type": "code",
   "execution_count": 35,
   "metadata": {
    "ExecuteTime": {
     "end_time": "2021-06-16T18:44:56.661783Z",
     "start_time": "2021-06-16T18:44:56.653717Z"
    }
   },
   "outputs": [
    {
     "name": "stdout",
     "output_type": "stream",
     "text": [
      "[-0.00473481  0.7799772   0.5682249   0.1960094   0.34057575 -0.00473481\n",
      " -0.04631138  1.0190555   0.35546142  0.70189154]\n",
      "rs.pred()[:10] /n[-0.03337258  0.972805    0.5783007   0.20460099  0.5165347   0.02429989\n",
      "  0.0602161   1.0048997   0.5315449   0.54896116]\n",
      "truth: 233016    0.0\n",
      "253885    1.0\n",
      "89866     1.0\n",
      "121010    0.0\n",
      "67913     1.0\n",
      "95077     0.0\n",
      "255752    0.0\n",
      "55010     1.0\n",
      "175718    0.0\n",
      "125108    0.0\n",
      "Name: Y, dtype: float64\n"
     ]
    }
   ],
   "source": [
    "print(bst.predict(dtest)[:10])\n",
    "print(\"rs.pred()[:10] \", random_search.predict(test[:10]))\n",
    "print(\"truth:\", test_y[:10])"
   ]
  },
  {
   "cell_type": "markdown",
   "metadata": {},
   "source": [
    "#### Brute force solution"
   ]
  },
  {
   "cell_type": "code",
   "execution_count": null,
   "metadata": {},
   "outputs": [],
   "source": [
    "# grid = GridSearchCV(estimator=xgb, \n",
    "param_grid=params, scoring='roc_auc', n_jobs=4, cv=skf.split(X,Y), verbose=3 )\n",
    "# grid.fit(X, Y)\n",
    "# print('\\n All results:')\n",
    "# print(grid.cv_results_)\n",
    "# print('\\n Best estimator:')\n",
    "# print(grid.best_estimator_)\n",
    "# print('\\n Best score:')\n",
    "# print(grid.best_score_ * 2 - 1)\n",
    "# print('\\n Best parameters:')\n",
    "# print(grid.best_params_)\n",
    "# results = pd.DataFrame(grid.cv_results_)\n",
    "# results.to_csv('xgb-grid-search-results-01.csv', index=False)\n",
    "\n",
    "# y_test = grid.best_estimator_.predict_proba(test)\n",
    "# results_df = pd.DataFrame(data={'id':test_df['id'], 'target':y_test[:,1]})\n",
    "# results_df.to_csv('submission-grid-search-xgb-porto-01.csv', index=False)"
   ]
  }
 ],
 "metadata": {
  "kernelspec": {
   "display_name": "Python 3",
   "language": "python",
   "name": "python3"
  },
  "language_info": {
   "codemirror_mode": {
    "name": "ipython",
    "version": 3
   },
   "file_extension": ".py",
   "mimetype": "text/x-python",
   "name": "python",
   "nbconvert_exporter": "python",
   "pygments_lexer": "ipython3",
   "version": "3.7.5"
  },
  "varInspector": {
   "cols": {
    "lenName": 16,
    "lenType": 16,
    "lenVar": 40
   },
   "kernels_config": {
    "python": {
     "delete_cmd_postfix": "",
     "delete_cmd_prefix": "del ",
     "library": "var_list.py",
     "varRefreshCmd": "print(var_dic_list())"
    },
    "r": {
     "delete_cmd_postfix": ") ",
     "delete_cmd_prefix": "rm(",
     "library": "var_list.r",
     "varRefreshCmd": "cat(var_dic_list()) "
    }
   },
   "types_to_exclude": [
    "module",
    "function",
    "builtin_function_or_method",
    "instance",
    "_Feature"
   ],
   "window_display": false
  }
 },
 "nbformat": 4,
 "nbformat_minor": 2
}
