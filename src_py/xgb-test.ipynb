{
 "cells": [
  {
   "cell_type": "code",
   "execution_count": 133,
   "metadata": {},
   "outputs": [],
   "source": [
    "import xgboost as xgb\n",
    "import pandas as pd\n",
    "import numpy as np\n",
    "from xgboost.sklearn import XGBRegressor\n",
    "from sklearn.model_selection import KFold\n",
    "from sklearn.model_selection import RandomizedSearchCV, GridSearchCV\n",
    "# import pickle\n",
    "from joblib import dump, load\n",
    "\n",
    "# %matplotlib inline\n",
    "# import matplotlib.pyplot as plt"
   ]
  },
  {
   "cell_type": "code",
   "execution_count": 56,
   "metadata": {},
   "outputs": [],
   "source": [
    "# %pwd"
   ]
  },
  {
   "cell_type": "code",
   "execution_count": 57,
   "metadata": {},
   "outputs": [],
   "source": [
    "train = pd.read_csv(\"../data/pytrain.csv\")\n",
    "test = pd.read_csv(\"../data/pytest.csv\")"
   ]
  },
  {
   "cell_type": "code",
   "execution_count": 58,
   "metadata": {},
   "outputs": [],
   "source": [
    "# train = train.replace(to_replace = np.nan, value = -9)\n",
    "# test = test.replace(to_replace = np.nan, value = -9)\n",
    "# test.head(20)"
   ]
  },
  {
   "cell_type": "code",
   "execution_count": 59,
   "metadata": {},
   "outputs": [],
   "source": [
    "train = train.dropna(subset = ['Y'])\n",
    "train_y = train['Y']\n",
    "train_id = train['system_key']\n",
    "dtrain = train.drop(columns = ['Y', 'system_key'])\n",
    "\n",
    "test = test.dropna(subset = ['Y'])\n",
    "test_y = test['Y']\n",
    "test_id = test['system_key']\n",
    "dtest = test.drop(columns = ['Y', 'system_key', 'Unnamed: 0'])"
   ]
  },
  {
   "cell_type": "code",
   "execution_count": 60,
   "metadata": {},
   "outputs": [
    {
     "data": {
      "text/html": [
       "<div>\n",
       "<style scoped>\n",
       "    .dataframe tbody tr th:only-of-type {\n",
       "        vertical-align: middle;\n",
       "    }\n",
       "\n",
       "    .dataframe tbody tr th {\n",
       "        vertical-align: top;\n",
       "    }\n",
       "\n",
       "    .dataframe thead th {\n",
       "        text-align: right;\n",
       "    }\n",
       "</style>\n",
       "<table border=\"1\" class=\"dataframe\">\n",
       "  <thead>\n",
       "    <tr style=\"text-align: right;\">\n",
       "      <th></th>\n",
       "      <th>qtr.num</th>\n",
       "      <th>class.1</th>\n",
       "      <th>class.2</th>\n",
       "      <th>class.3</th>\n",
       "      <th>class.4</th>\n",
       "      <th>tenth_day_credits</th>\n",
       "      <th>scholarship_type</th>\n",
       "      <th>num_courses</th>\n",
       "      <th>pts</th>\n",
       "      <th>attmp</th>\n",
       "      <th>...</th>\n",
       "      <th>tran_major_abbrUWACAD</th>\n",
       "      <th>tran_major_abbrV.A.S</th>\n",
       "      <th>tran_major_abbrWOMEN</th>\n",
       "      <th>major.change</th>\n",
       "      <th>major.change.count</th>\n",
       "      <th>n.unmet</th>\n",
       "      <th>n.unmet.cum</th>\n",
       "      <th>ftFALSE</th>\n",
       "      <th>ftTRUE</th>\n",
       "      <th>ft.creds.over</th>\n",
       "    </tr>\n",
       "  </thead>\n",
       "  <tbody>\n",
       "    <tr>\n",
       "      <th>0</th>\n",
       "      <td>9</td>\n",
       "      <td>0</td>\n",
       "      <td>0</td>\n",
       "      <td>1</td>\n",
       "      <td>0</td>\n",
       "      <td>15.0</td>\n",
       "      <td>0</td>\n",
       "      <td>3</td>\n",
       "      <td>39.0</td>\n",
       "      <td>15.0</td>\n",
       "      <td>...</td>\n",
       "      <td>0</td>\n",
       "      <td>0</td>\n",
       "      <td>0</td>\n",
       "      <td>0</td>\n",
       "      <td>1</td>\n",
       "      <td>0</td>\n",
       "      <td>6</td>\n",
       "      <td>0</td>\n",
       "      <td>1</td>\n",
       "      <td>3.0</td>\n",
       "    </tr>\n",
       "    <tr>\n",
       "      <th>1</th>\n",
       "      <td>6</td>\n",
       "      <td>0</td>\n",
       "      <td>1</td>\n",
       "      <td>0</td>\n",
       "      <td>0</td>\n",
       "      <td>15.0</td>\n",
       "      <td>0</td>\n",
       "      <td>3</td>\n",
       "      <td>43.5</td>\n",
       "      <td>15.0</td>\n",
       "      <td>...</td>\n",
       "      <td>0</td>\n",
       "      <td>0</td>\n",
       "      <td>0</td>\n",
       "      <td>0</td>\n",
       "      <td>0</td>\n",
       "      <td>4</td>\n",
       "      <td>9</td>\n",
       "      <td>0</td>\n",
       "      <td>1</td>\n",
       "      <td>3.0</td>\n",
       "    </tr>\n",
       "    <tr>\n",
       "      <th>2</th>\n",
       "      <td>2</td>\n",
       "      <td>1</td>\n",
       "      <td>0</td>\n",
       "      <td>0</td>\n",
       "      <td>0</td>\n",
       "      <td>15.0</td>\n",
       "      <td>0</td>\n",
       "      <td>3</td>\n",
       "      <td>45.0</td>\n",
       "      <td>15.0</td>\n",
       "      <td>...</td>\n",
       "      <td>0</td>\n",
       "      <td>0</td>\n",
       "      <td>0</td>\n",
       "      <td>0</td>\n",
       "      <td>0</td>\n",
       "      <td>0</td>\n",
       "      <td>0</td>\n",
       "      <td>0</td>\n",
       "      <td>1</td>\n",
       "      <td>3.0</td>\n",
       "    </tr>\n",
       "    <tr>\n",
       "      <th>3</th>\n",
       "      <td>1</td>\n",
       "      <td>1</td>\n",
       "      <td>0</td>\n",
       "      <td>0</td>\n",
       "      <td>0</td>\n",
       "      <td>17.0</td>\n",
       "      <td>0</td>\n",
       "      <td>4</td>\n",
       "      <td>47.5</td>\n",
       "      <td>15.0</td>\n",
       "      <td>...</td>\n",
       "      <td>0</td>\n",
       "      <td>0</td>\n",
       "      <td>0</td>\n",
       "      <td>0</td>\n",
       "      <td>0</td>\n",
       "      <td>0</td>\n",
       "      <td>0</td>\n",
       "      <td>0</td>\n",
       "      <td>1</td>\n",
       "      <td>5.0</td>\n",
       "    </tr>\n",
       "    <tr>\n",
       "      <th>4</th>\n",
       "      <td>4</td>\n",
       "      <td>0</td>\n",
       "      <td>1</td>\n",
       "      <td>0</td>\n",
       "      <td>0</td>\n",
       "      <td>17.0</td>\n",
       "      <td>0</td>\n",
       "      <td>4</td>\n",
       "      <td>50.0</td>\n",
       "      <td>15.0</td>\n",
       "      <td>...</td>\n",
       "      <td>0</td>\n",
       "      <td>0</td>\n",
       "      <td>0</td>\n",
       "      <td>0</td>\n",
       "      <td>0</td>\n",
       "      <td>2</td>\n",
       "      <td>6</td>\n",
       "      <td>0</td>\n",
       "      <td>1</td>\n",
       "      <td>5.0</td>\n",
       "    </tr>\n",
       "  </tbody>\n",
       "</table>\n",
       "<p>5 rows × 296 columns</p>\n",
       "</div>"
      ],
      "text/plain": [
       "   qtr.num  class.1  class.2  class.3  class.4  tenth_day_credits  \\\n",
       "0        9        0        0        1        0               15.0   \n",
       "1        6        0        1        0        0               15.0   \n",
       "2        2        1        0        0        0               15.0   \n",
       "3        1        1        0        0        0               17.0   \n",
       "4        4        0        1        0        0               17.0   \n",
       "\n",
       "   scholarship_type  num_courses   pts  attmp  ...  tran_major_abbrUWACAD  \\\n",
       "0                 0            3  39.0   15.0  ...                      0   \n",
       "1                 0            3  43.5   15.0  ...                      0   \n",
       "2                 0            3  45.0   15.0  ...                      0   \n",
       "3                 0            4  47.5   15.0  ...                      0   \n",
       "4                 0            4  50.0   15.0  ...                      0   \n",
       "\n",
       "   tran_major_abbrV.A.S  tran_major_abbrWOMEN  major.change  \\\n",
       "0                     0                     0             0   \n",
       "1                     0                     0             0   \n",
       "2                     0                     0             0   \n",
       "3                     0                     0             0   \n",
       "4                     0                     0             0   \n",
       "\n",
       "   major.change.count  n.unmet  n.unmet.cum  ftFALSE  ftTRUE  ft.creds.over  \n",
       "0                   1        0            6        0       1            3.0  \n",
       "1                   0        4            9        0       1            3.0  \n",
       "2                   0        0            0        0       1            3.0  \n",
       "3                   0        0            0        0       1            5.0  \n",
       "4                   0        2            6        0       1            5.0  \n",
       "\n",
       "[5 rows x 296 columns]"
      ]
     },
     "execution_count": 60,
     "metadata": {},
     "output_type": "execute_result"
    }
   ],
   "source": [
    "dtrain.head()"
   ]
  },
  {
   "cell_type": "code",
   "execution_count": 61,
   "metadata": {},
   "outputs": [
    {
     "name": "stdout",
     "output_type": "stream",
     "text": [
      "√ train/test have same number of columns √\n"
     ]
    }
   ],
   "source": [
    "if dtest.shape[1] != dtrain.shape[1]:\n",
    "    i1 = train.columns\n",
    "    i2 = test.columns\n",
    "    [x for x in i2 if x not in i1]\n",
    "else: \n",
    "    print(\"√ train/test have same number of columns √\")"
   ]
  },
  {
   "cell_type": "code",
   "execution_count": 62,
   "metadata": {
    "scrolled": false
   },
   "outputs": [
    {
     "name": "stderr",
     "output_type": "stream",
     "text": [
      "/Users/zane/anaconda3/lib/python3.6/site-packages/xgboost/core.py:587: FutureWarning: Series.base is deprecated and will be removed in a future version\n",
      "  if getattr(data, 'base', None) is not None and \\\n",
      "/Users/zane/anaconda3/lib/python3.6/site-packages/xgboost/core.py:588: FutureWarning: Series.base is deprecated and will be removed in a future version\n",
      "  data.base is not None and isinstance(data, np.ndarray) \\\n"
     ]
    }
   ],
   "source": [
    "dtrain = xgb.DMatrix(dtrain, label = train_y, missing = np.NaN)\n",
    "dtest = xgb.DMatrix(dtest, label = test_y, missing = np.NaN)"
   ]
  },
  {
   "cell_type": "code",
   "execution_count": 63,
   "metadata": {},
   "outputs": [],
   "source": [
    "param = {'max_depth': 4, \n",
    "         'eta': 1, \n",
    "         'objective': 'reg:squarederror'}\n",
    "evallist = [(dtest, 'eval'), (dtrain, 'train')]\n",
    "nrounds = 3"
   ]
  },
  {
   "cell_type": "code",
   "execution_count": 64,
   "metadata": {},
   "outputs": [
    {
     "name": "stdout",
     "output_type": "stream",
     "text": [
      "[0]\teval-rmse:0.310271\ttrain-rmse:0.307411\n",
      "[1]\teval-rmse:0.301429\ttrain-rmse:0.297592\n",
      "[2]\teval-rmse:0.289436\ttrain-rmse:0.284114\n"
     ]
    }
   ],
   "source": [
    "bst = xgb.train(param, dtrain, nrounds, evallist)"
   ]
  },
  {
   "cell_type": "code",
   "execution_count": 67,
   "metadata": {},
   "outputs": [
    {
     "data": {
      "text/plain": [
       "array([3.4236171, 2.9237692, 3.6941247, 3.6941247, 3.4306018, 3.2245584,\n",
       "       3.0839188, 3.6941247, 2.926634 , 3.3301504, 2.7940795, 2.9122558,\n",
       "       3.3473103, 3.1607444, 3.2042508, 3.2042508, 2.159642 , 3.2789207,\n",
       "       3.2789207, 3.39854  ], dtype=float32)"
      ]
     },
     "execution_count": 67,
     "metadata": {},
     "output_type": "execute_result"
    }
   ],
   "source": [
    "bst.predict(dtest)[:20]"
   ]
  },
  {
   "cell_type": "code",
   "execution_count": 91,
   "metadata": {},
   "outputs": [
    {
     "name": "stdout",
     "output_type": "stream",
     "text": [
      "There are  720  elements to search over\n"
     ]
    }
   ],
   "source": [
    "# setup grid search\n",
    "\n",
    "param_grid = {\n",
    "    'min_child_weight': [1, 3, 5, 10],\n",
    "    'gamma': [.5, 1, 1.5, 2, 5],\n",
    "    'subsample': [.4, .6, .8],\n",
    "    'colsample_bytree': [.4, .6, .8],\n",
    "    'max_depth': [3, 5, 7, 9]\n",
    "}\n",
    "print(\"There are\", np.prod([len(x) for x in param_grid.values()]), \"elements to search over\")"
   ]
  },
  {
   "cell_type": "code",
   "execution_count": 109,
   "metadata": {},
   "outputs": [],
   "source": [
    "xgb_mod = XGBRegressor(learning_rate = .2, \n",
    "                        n_estimators = 600, \n",
    "                        objective = 'reg:squarederror', \n",
    "                        silent = True, \n",
    "                        nthread = 1)"
   ]
  },
  {
   "cell_type": "code",
   "execution_count": 117,
   "metadata": {},
   "outputs": [
    {
     "name": "stdout",
     "output_type": "stream",
     "text": [
      "Fitting 3 folds for each of 4 candidates, totalling 12 fits\n"
     ]
    },
    {
     "name": "stderr",
     "output_type": "stream",
     "text": [
      "[Parallel(n_jobs=4)]: Using backend LokyBackend with 4 concurrent workers.\n",
      "[Parallel(n_jobs=4)]: Done  10 out of  12 | elapsed: 39.3min remaining:  7.9min\n",
      "[Parallel(n_jobs=4)]: Done  12 out of  12 | elapsed: 44.7min finished\n"
     ]
    },
    {
     "data": {
      "text/plain": [
       "RandomizedSearchCV(cv=<generator object _BaseKFold.split at 0x1a263e0e60>,\n",
       "                   error_score='raise-deprecating',\n",
       "                   estimator=XGBRegressor(base_score=0.5, booster='gbtree',\n",
       "                                          colsample_bylevel=1,\n",
       "                                          colsample_bynode=1,\n",
       "                                          colsample_bytree=1, gamma=0,\n",
       "                                          importance_type='gain',\n",
       "                                          learning_rate=0.2, max_delta_step=0,\n",
       "                                          max_depth=3, min_child_weight=1,\n",
       "                                          missing=None, n_estimators=600,\n",
       "                                          n_jobs=1...\n",
       "                                          seed=None, silent=True, subsample=1,\n",
       "                                          verbosity=1),\n",
       "                   iid='warn', n_iter=4, n_jobs=4,\n",
       "                   param_distributions={'colsample_bytree': [0.4, 0.6, 0.8],\n",
       "                                        'gamma': [0.5, 1, 1.5, 2, 5],\n",
       "                                        'max_depth': [3, 5, 7, 9],\n",
       "                                        'min_child_weight': [1, 3, 5, 10],\n",
       "                                        'subsample': [0.4, 0.6, 0.8]},\n",
       "                   pre_dispatch='2*n_jobs', random_state=1001, refit=True,\n",
       "                   return_train_score=False, scoring='neg_mean_absolute_error',\n",
       "                   verbose=3)"
      ]
     },
     "execution_count": 117,
     "metadata": {},
     "output_type": "execute_result"
    }
   ],
   "source": [
    "Y = train['Y'].values\n",
    "X = train.drop(columns = ['Y', 'system_key'])\n",
    "\n",
    "# init small values for testing, even small numbers will take a long time here\n",
    "nfolds = 3\n",
    "param_comb = 4\n",
    "\n",
    "kf = KFold(n_splits = nfolds, shuffle = True, random_state = 1001)\n",
    "random_search = RandomizedSearchCV(xgb_mod, \n",
    "                                   param_distributions = param_grid, \n",
    "                                   n_iter = param_comb,\n",
    "                                   scoring = 'neg_mean_absolute_error',\n",
    "                                   n_jobs = 4,\n",
    "                                   cv = kf.split(X, Y),\n",
    "                                   verbose = 3,\n",
    "                                   random_state = 1001)\n",
    "\n",
    "random_search.fit(X, Y)"
   ]
  },
  {
   "cell_type": "code",
   "execution_count": 130,
   "metadata": {},
   "outputs": [
    {
     "name": "stdout",
     "output_type": "stream",
     "text": [
      "CV results:\n",
      " {'mean_fit_time': array([ 697.63483334,  897.80643066, 1115.79682565,  526.9715356 ]), 'std_fit_time': array([ 1.02768782, 25.4935099 , 18.40182972, 25.14317307]), 'mean_score_time': array([0.91902868, 1.53031905, 1.39672788, 0.66214331]), 'std_score_time': array([0.03712481, 0.07450677, 0.18955454, 0.06344389]), 'param_subsample': masked_array(data=[0.4, 0.6, 0.6, 0.8],\n",
      "             mask=[False, False, False, False],\n",
      "       fill_value='?',\n",
      "            dtype=object), 'param_min_child_weight': masked_array(data=[10, 10, 10, 10],\n",
      "             mask=[False, False, False, False],\n",
      "       fill_value='?',\n",
      "            dtype=object), 'param_max_depth': masked_array(data=[9, 9, 9, 7],\n",
      "             mask=[False, False, False, False],\n",
      "       fill_value='?',\n",
      "            dtype=object), 'param_gamma': masked_array(data=[2, 0.5, 0.5, 5],\n",
      "             mask=[False, False, False, False],\n",
      "       fill_value='?',\n",
      "            dtype=object), 'param_colsample_bytree': masked_array(data=[0.4, 0.6, 0.8, 0.4],\n",
      "             mask=[False, False, False, False],\n",
      "       fill_value='?',\n",
      "            dtype=object), 'params': [{'subsample': 0.4, 'min_child_weight': 10, 'max_depth': 9, 'gamma': 2, 'colsample_bytree': 0.4}, {'subsample': 0.6, 'min_child_weight': 10, 'max_depth': 9, 'gamma': 0.5, 'colsample_bytree': 0.6}, {'subsample': 0.6, 'min_child_weight': 10, 'max_depth': 9, 'gamma': 0.5, 'colsample_bytree': 0.8}, {'subsample': 0.8, 'min_child_weight': 10, 'max_depth': 7, 'gamma': 5, 'colsample_bytree': 0.4}], 'split0_test_score': array([-0.12445673, -0.1138027 , -0.11084514, -0.13312755]), 'split1_test_score': array([-0.12334297, -0.11226542, -0.11026551, -0.13396909]), 'split2_test_score': array([-0.12787314, -0.11186826, -0.10988929, -0.13662461]), 'mean_test_score': array([-0.12522426, -0.11264547, -0.11033332, -0.13457373]), 'std_test_score': array([0.00192742, 0.0008342 , 0.00039316, 0.00149031]), 'rank_test_score': array([3, 2, 1, 4], dtype=int32)}\n",
      "Best estimator:\n",
      " XGBRegressor(base_score=0.5, booster='gbtree', colsample_bylevel=1,\n",
      "             colsample_bynode=1, colsample_bytree=0.8, gamma=0.5,\n",
      "             importance_type='gain', learning_rate=0.2, max_delta_step=0,\n",
      "             max_depth=9, min_child_weight=10, missing=None, n_estimators=600,\n",
      "             n_jobs=1, nthread=1, objective='reg:squarederror', random_state=0,\n",
      "             reg_alpha=0, reg_lambda=1, scale_pos_weight=1, seed=None,\n",
      "             silent=True, subsample=0.6, verbosity=1)\n",
      "Best params:\n",
      " {'subsample': 0.6, 'min_child_weight': 10, 'max_depth': 9, 'gamma': 0.5, 'colsample_bytree': 0.8}\n"
     ]
    }
   ],
   "source": [
    "# display results\n",
    "print(\"CV results:\\n\", random_search.cv_results_)\n",
    "print(\"Best estimator:\\n\", random_search.best_estimator_)\n",
    "print(\"Best params:\\n\", random_search.best_params_)"
   ]
  },
  {
   "cell_type": "code",
   "execution_count": 135,
   "metadata": {},
   "outputs": [
    {
     "data": {
      "text/plain": [
       "['xgb-random-grid-search-test-best-estimator.joblib']"
      ]
     },
     "execution_count": 135,
     "metadata": {},
     "output_type": "execute_result"
    }
   ],
   "source": [
    "# pickle the result to avoid re-training\n",
    "dump(random_search.best_estimator_, 'xgb-random-grid-search-test-best-estimator.joblib')"
   ]
  },
  {
   "cell_type": "code",
   "execution_count": 125,
   "metadata": {},
   "outputs": [],
   "source": [
    "results = pd.DataFrame(random_search.cv_results_)\n",
    "results.to_csv('xgb-random-grid-search-test-results.csv', index = False)"
   ]
  },
  {
   "cell_type": "code",
   "execution_count": 142,
   "metadata": {},
   "outputs": [
    {
     "data": {
      "text/html": [
       "<div>\n",
       "<style scoped>\n",
       "    .dataframe tbody tr th:only-of-type {\n",
       "        vertical-align: middle;\n",
       "    }\n",
       "\n",
       "    .dataframe tbody tr th {\n",
       "        vertical-align: top;\n",
       "    }\n",
       "\n",
       "    .dataframe thead th {\n",
       "        text-align: right;\n",
       "    }\n",
       "</style>\n",
       "<table border=\"1\" class=\"dataframe\">\n",
       "  <thead>\n",
       "    <tr style=\"text-align: right;\">\n",
       "      <th></th>\n",
       "      <th>mean_fit_time</th>\n",
       "      <th>std_fit_time</th>\n",
       "      <th>mean_score_time</th>\n",
       "      <th>std_score_time</th>\n",
       "      <th>param_subsample</th>\n",
       "      <th>param_min_child_weight</th>\n",
       "      <th>param_max_depth</th>\n",
       "      <th>param_gamma</th>\n",
       "      <th>param_colsample_bytree</th>\n",
       "      <th>params</th>\n",
       "      <th>split0_test_score</th>\n",
       "      <th>split1_test_score</th>\n",
       "      <th>split2_test_score</th>\n",
       "      <th>mean_test_score</th>\n",
       "      <th>std_test_score</th>\n",
       "      <th>rank_test_score</th>\n",
       "    </tr>\n",
       "  </thead>\n",
       "  <tbody>\n",
       "    <tr>\n",
       "      <th>0</th>\n",
       "      <td>697.634833</td>\n",
       "      <td>1.027688</td>\n",
       "      <td>0.919029</td>\n",
       "      <td>0.037125</td>\n",
       "      <td>0.4</td>\n",
       "      <td>10</td>\n",
       "      <td>9</td>\n",
       "      <td>2</td>\n",
       "      <td>0.4</td>\n",
       "      <td>{'subsample': 0.4, 'min_child_weight': 10, 'ma...</td>\n",
       "      <td>-0.124457</td>\n",
       "      <td>-0.123343</td>\n",
       "      <td>-0.127873</td>\n",
       "      <td>-0.125224</td>\n",
       "      <td>0.001927</td>\n",
       "      <td>3</td>\n",
       "    </tr>\n",
       "    <tr>\n",
       "      <th>1</th>\n",
       "      <td>897.806431</td>\n",
       "      <td>25.493510</td>\n",
       "      <td>1.530319</td>\n",
       "      <td>0.074507</td>\n",
       "      <td>0.6</td>\n",
       "      <td>10</td>\n",
       "      <td>9</td>\n",
       "      <td>0.5</td>\n",
       "      <td>0.6</td>\n",
       "      <td>{'subsample': 0.6, 'min_child_weight': 10, 'ma...</td>\n",
       "      <td>-0.113803</td>\n",
       "      <td>-0.112265</td>\n",
       "      <td>-0.111868</td>\n",
       "      <td>-0.112645</td>\n",
       "      <td>0.000834</td>\n",
       "      <td>2</td>\n",
       "    </tr>\n",
       "    <tr>\n",
       "      <th>2</th>\n",
       "      <td>1115.796826</td>\n",
       "      <td>18.401830</td>\n",
       "      <td>1.396728</td>\n",
       "      <td>0.189555</td>\n",
       "      <td>0.6</td>\n",
       "      <td>10</td>\n",
       "      <td>9</td>\n",
       "      <td>0.5</td>\n",
       "      <td>0.8</td>\n",
       "      <td>{'subsample': 0.6, 'min_child_weight': 10, 'ma...</td>\n",
       "      <td>-0.110845</td>\n",
       "      <td>-0.110266</td>\n",
       "      <td>-0.109889</td>\n",
       "      <td>-0.110333</td>\n",
       "      <td>0.000393</td>\n",
       "      <td>1</td>\n",
       "    </tr>\n",
       "    <tr>\n",
       "      <th>3</th>\n",
       "      <td>526.971536</td>\n",
       "      <td>25.143173</td>\n",
       "      <td>0.662143</td>\n",
       "      <td>0.063444</td>\n",
       "      <td>0.8</td>\n",
       "      <td>10</td>\n",
       "      <td>7</td>\n",
       "      <td>5</td>\n",
       "      <td>0.4</td>\n",
       "      <td>{'subsample': 0.8, 'min_child_weight': 10, 'ma...</td>\n",
       "      <td>-0.133128</td>\n",
       "      <td>-0.133969</td>\n",
       "      <td>-0.136625</td>\n",
       "      <td>-0.134574</td>\n",
       "      <td>0.001490</td>\n",
       "      <td>4</td>\n",
       "    </tr>\n",
       "  </tbody>\n",
       "</table>\n",
       "</div>"
      ],
      "text/plain": [
       "   mean_fit_time  std_fit_time  mean_score_time  std_score_time  \\\n",
       "0     697.634833      1.027688         0.919029        0.037125   \n",
       "1     897.806431     25.493510         1.530319        0.074507   \n",
       "2    1115.796826     18.401830         1.396728        0.189555   \n",
       "3     526.971536     25.143173         0.662143        0.063444   \n",
       "\n",
       "  param_subsample param_min_child_weight param_max_depth param_gamma  \\\n",
       "0             0.4                     10               9           2   \n",
       "1             0.6                     10               9         0.5   \n",
       "2             0.6                     10               9         0.5   \n",
       "3             0.8                     10               7           5   \n",
       "\n",
       "  param_colsample_bytree                                             params  \\\n",
       "0                    0.4  {'subsample': 0.4, 'min_child_weight': 10, 'ma...   \n",
       "1                    0.6  {'subsample': 0.6, 'min_child_weight': 10, 'ma...   \n",
       "2                    0.8  {'subsample': 0.6, 'min_child_weight': 10, 'ma...   \n",
       "3                    0.4  {'subsample': 0.8, 'min_child_weight': 10, 'ma...   \n",
       "\n",
       "   split0_test_score  split1_test_score  split2_test_score  mean_test_score  \\\n",
       "0          -0.124457          -0.123343          -0.127873        -0.125224   \n",
       "1          -0.113803          -0.112265          -0.111868        -0.112645   \n",
       "2          -0.110845          -0.110266          -0.109889        -0.110333   \n",
       "3          -0.133128          -0.133969          -0.136625        -0.134574   \n",
       "\n",
       "   std_test_score  rank_test_score  \n",
       "0        0.001927                3  \n",
       "1        0.000834                2  \n",
       "2        0.000393                1  \n",
       "3        0.001490                4  "
      ]
     },
     "execution_count": 142,
     "metadata": {},
     "output_type": "execute_result"
    }
   ],
   "source": [
    "results"
   ]
  },
  {
   "cell_type": "code",
   "execution_count": 129,
   "metadata": {},
   "outputs": [
    {
     "name": "stdout",
     "output_type": "stream",
     "text": [
      "[3.4236171 2.9237692 3.6941247 3.6941247 3.4306018 3.2245584 3.0839188\n",
      " 3.6941247 2.926634  3.3301504]\n",
      "[3.7365222 3.2690427 3.6912916 3.7557857 3.6505923 3.6093075 3.007139\n",
      " 3.5424728 2.891696  3.5847788]\n",
      "truth: 0     3.570652\n",
      "1     3.500000\n",
      "4     3.748780\n",
      "5     3.811111\n",
      "6     3.726316\n",
      "7     3.709524\n",
      "8     3.021429\n",
      "9     3.315385\n",
      "10    2.901587\n",
      "11    3.680851\n",
      "Name: Y, dtype: float64\n"
     ]
    }
   ],
   "source": [
    "print(bst.predict(dtest)[:10])\n",
    "print(random_search.predict(test.drop(columns = ['Y', 'system_key', 'Unnamed: 0'])[:10]))\n",
    "print(\"truth:\", test_y[:10])"
   ]
  },
  {
   "cell_type": "markdown",
   "metadata": {},
   "source": [
    "#### Brute force solution"
   ]
  },
  {
   "cell_type": "code",
   "execution_count": null,
   "metadata": {},
   "outputs": [],
   "source": [
    "# grid = GridSearchCV(estimator=xgb, \n",
    "param_grid=params, scoring='roc_auc', n_jobs=4, cv=skf.split(X,Y), verbose=3 )\n",
    "# grid.fit(X, Y)\n",
    "# print('\\n All results:')\n",
    "# print(grid.cv_results_)\n",
    "# print('\\n Best estimator:')\n",
    "# print(grid.best_estimator_)\n",
    "# print('\\n Best score:')\n",
    "# print(grid.best_score_ * 2 - 1)\n",
    "# print('\\n Best parameters:')\n",
    "# print(grid.best_params_)\n",
    "# results = pd.DataFrame(grid.cv_results_)\n",
    "# results.to_csv('xgb-grid-search-results-01.csv', index=False)\n",
    "\n",
    "# y_test = grid.best_estimator_.predict_proba(test)\n",
    "# results_df = pd.DataFrame(data={'id':test_df['id'], 'target':y_test[:,1]})\n",
    "# results_df.to_csv('submission-grid-search-xgb-porto-01.csv', index=False)"
   ]
  }
 ],
 "metadata": {
  "kernelspec": {
   "display_name": "Python 3",
   "language": "python",
   "name": "python3"
  },
  "language_info": {
   "codemirror_mode": {
    "name": "ipython",
    "version": 3
   },
   "file_extension": ".py",
   "mimetype": "text/x-python",
   "name": "python",
   "nbconvert_exporter": "python",
   "pygments_lexer": "ipython3",
   "version": "3.6.9"
  },
  "varInspector": {
   "cols": {
    "lenName": 16,
    "lenType": 16,
    "lenVar": 40
   },
   "kernels_config": {
    "python": {
     "delete_cmd_postfix": "",
     "delete_cmd_prefix": "del ",
     "library": "var_list.py",
     "varRefreshCmd": "print(var_dic_list())"
    },
    "r": {
     "delete_cmd_postfix": ") ",
     "delete_cmd_prefix": "rm(",
     "library": "var_list.r",
     "varRefreshCmd": "cat(var_dic_list()) "
    }
   },
   "types_to_exclude": [
    "module",
    "function",
    "builtin_function_or_method",
    "instance",
    "_Feature"
   ],
   "window_display": false
  }
 },
 "nbformat": 4,
 "nbformat_minor": 2
}
