{
 "cells": [
  {
   "cell_type": "code",
   "execution_count": 1,
   "metadata": {
    "ExecuteTime": {
     "end_time": "2022-09-29T21:22:35.520756Z",
     "start_time": "2022-09-29T21:22:34.441571Z"
    },
    "id": "2jicYvqtsV8M"
   },
   "outputs": [],
   "source": [
    "from IPython.core.interactiveshell import InteractiveShell\n",
    "import pandas as pd\n",
    "import numpy as np\n",
    "from joblib import dump\n",
    "from sklearn.model_selection import train_test_split, cross_val_score, cross_validate\n",
    "from sklearn.pipeline import Pipeline, FeatureUnion, make_pipeline\n",
    "from sklearn.experimental import enable_iterative_imputer\n",
    "from sklearn.impute import SimpleImputer, IterativeImputer\n",
    "from sklearn.preprocessing import StandardScaler, OneHotEncoder\n",
    "from sklearn.neural_network import MLPClassifier\n",
    "#\n",
    "# from sklearn.metrics import classification_report, confusion_matrix, roc_auc_score, average_precision_score\n",
    "# from sklearn.metrics import accuracy_score, precision_recall_curve, plot_roc_curve, plot_confusion_matrix\n",
    "# from sklearn.metrics import SCORERS, plot_precision_recall_curve\n",
    "from sklearn.metrics import *\n",
    "from sklearn.utils import parallel_backend\n",
    "from sklearn.compose import ColumnTransformer, make_column_selector, make_column_transformer\n",
    "\n",
    "from matplotlib import pyplot as plt\n",
    "%matplotlib inline\n",
    "\n",
    "InteractiveShell.ast_node_interactivity = \"all\"\n",
    "\n",
    "# Constants\n",
    "SEED = 87654\n",
    "\n",
    "# Functions\n",
    "\n",
    "\n",
    "def post_est(est, preds, x_test, y_test, plots=True):\n",
    "\n",
    "    tn, fp, fn, tp = confusion_matrix(y_test, preds).ravel()\n",
    "\n",
    "    print(\"Confusion matrix:\\n\", confusion_matrix(\n",
    "        y_test, preds, normalize='all'))\n",
    "    print(classification_report(y_test, preds))\n",
    "    print('ROC AUC score:', round(roc_auc_score(y_test, preds), 2))\n",
    "    print('Avg precision score:', round(\n",
    "        average_precision_score(y_test, preds), 2))\n",
    "    print('Specificity:', round(tn / (tn + fp), 2))\n",
    "    print('Sensitivity (recall):', round(tp / (tp + fn), 2))\n",
    "    # print(round((tn, fp, fn, tp) / (tn+fp+fn+tp), 2))\n",
    "\n",
    "    if(plots == True):\n",
    "        ConfusionMatrixDisplay.from_estimator(\n",
    "            est, x_test, y_test, normalize='all')\n",
    "        RocCurveDisplay.from_estimator(est, x_test, y_test)\n",
    "        PrecisionRecallDisplay.from_estimator(est, x_test, y_test)"
   ]
  },
  {
   "cell_type": "code",
   "execution_count": 2,
   "metadata": {
    "ExecuteTime": {
     "end_time": "2022-09-29T21:22:35.537673Z",
     "start_time": "2022-09-29T21:22:35.533752Z"
    },
    "id": "Kfj9xVFBsV8T",
    "outputId": "f3c33abd-774a-49e5-f97b-530b11acf95f"
   },
   "outputs": [
    {
     "data": {
      "text/plain": [
       "'/Volumes/GoogleDrive/.shortcut-targets-by-id/0B_l91_X4oq12MUZRS1UzVHFSem1HSEpqTE9oQjIxQQ/AXDD/Non-Service Work/Innovation/Retention Task Force/rtf_freefall/OMAD_adverse_outcome_mod/src_py'"
      ]
     },
     "execution_count": 2,
     "metadata": {},
     "output_type": "execute_result"
    }
   ],
   "source": [
    "%pwd"
   ]
  },
  {
   "cell_type": "code",
   "execution_count": 8,
   "metadata": {
    "ExecuteTime": {
     "end_time": "2022-09-29T21:26:22.205157Z",
     "start_time": "2022-09-29T21:26:07.393062Z"
    },
    "id": "vDLdWq9_sV8U"
   },
   "outputs": [],
   "source": [
    "data = pd.read_csv('../data/ALL-STU-transformed-data-to-py.csv',\n",
    "                   na_values=['NA', 'NaN', 'Inf', '-Inf'])\n",
    "cat_var_list = []\n",
    "with open('../data/cat-var-list.txt', 'r') as f:\n",
    "    for line in f.read().splitlines():\n",
    "        cat_var_list.append(line)\n",
    "\n",
    "num_var_list = ['tenth_day_credits', 'num_courses', 'pts',\n",
    "                'attmp', 'nongrd', 'qgpa', 'tot_creds',\n",
    "                'cum.pts', 'cum.attmp', 'cum.gpa', 'age', 'trans_gpa',\n",
    "                'high_sch_gpa', 'major.change.count', 'n.major.courses',\n",
    "                'csum.major.courses', 'avg.class.size', 'sum.fees',\n",
    "                'csum.rep.courses', 'csum.w', 'csum.alt.grading',\n",
    "                'stem.courses', 'stem.credits', 'avg.stem.grade',\n",
    "                'csum.stem.courses', 'csum.stem.credits', 'ft.creds.over',\n",
    "                'rundiff']\n",
    "\n",
    "if 'Unnamed: 0' in data.columns:\n",
    "    data.drop(columns='Unnamed: 0', inplace=True)\n",
    "\n",
    "data.dropna(subset=['Y'], inplace=True)\n",
    "\n",
    "# def recode_cats(df, var_list):\n",
    "#     for x in var_list:\n",
    "#         df = pd.concat([df, pd.get_dummies(df[x],\n",
    "#                                            prefix = x,\n",
    "#                                            dummy_na = False,\n",
    "#                                            drop_first = True)],  # check this opt depending on model(s)\n",
    "#                       axis = 1).drop([x], axis = 1)\n",
    "#     return(df)\n",
    "\n",
    "# data = recode_cats(data, cat_var_list)\n",
    "id_vars = ['system_key', 'yrq', 'tran_major_abbr']\n",
    "target = 'Y'\n",
    "x_vars = [x for x in data.columns if x not in [target]]\n",
    "x_vars = [x for x in x_vars if x not in id_vars]\n",
    "\n",
    "x_train, x_test, y_train, y_test = train_test_split(data[x_vars],\n",
    "                                                    data[target],\n",
    "                                                    test_size=0.25,\n",
    "                                                    random_state=SEED,\n",
    "                                                    stratify=data[target])"
   ]
  },
  {
   "cell_type": "code",
   "execution_count": 9,
   "metadata": {
    "ExecuteTime": {
     "end_time": "2022-09-29T21:26:23.070442Z",
     "start_time": "2022-09-29T21:26:23.052564Z"
    },
    "id": "gTTonm7tsV8W",
    "outputId": "c73ea7e3-26fc-4194-f364-fa1731cc5eb6"
   },
   "outputs": [
    {
     "data": {
      "text/plain": [
       "0.0    0.789806\n",
       "1.0    0.210194\n",
       "Name: Y, dtype: float64"
      ]
     },
     "execution_count": 9,
     "metadata": {},
     "output_type": "execute_result"
    }
   ],
   "source": [
    "# is data balanced? Or, how badly unbalanced is data?\n",
    "data['Y'].value_counts() / data.shape[0]"
   ]
  },
  {
   "cell_type": "code",
   "execution_count": 5,
   "metadata": {
    "ExecuteTime": {
     "end_time": "2022-09-29T21:22:52.793983Z",
     "start_time": "2022-09-29T21:22:52.295921Z"
    }
   },
   "outputs": [
    {
     "ename": "TypeError",
     "evalue": "__init__() got an unexpected keyword argument 'min_frequency'",
     "output_type": "error",
     "traceback": [
      "\u001b[0;31m---------------------------------------------------------------------------\u001b[0m",
      "\u001b[0;31mTypeError\u001b[0m                                 Traceback (most recent call last)",
      "Input \u001b[0;32mIn [5]\u001b[0m, in \u001b[0;36m<cell line: 2>\u001b[0;34m()\u001b[0m\n\u001b[1;32m      1\u001b[0m \u001b[38;5;66;03m# transformer for tran_major_abbr\u001b[39;00m\n\u001b[1;32m      2\u001b[0m maj_xform \u001b[38;5;241m=\u001b[39m Pipeline(steps\u001b[38;5;241m=\u001b[39m[\n\u001b[0;32m----> 3\u001b[0m     (\u001b[38;5;124m'\u001b[39m\u001b[38;5;124mohe_major\u001b[39m\u001b[38;5;124m'\u001b[39m, \u001b[43mOneHotEncoder\u001b[49m\u001b[43m(\u001b[49m\u001b[43mdrop\u001b[49m\u001b[38;5;241;43m=\u001b[39;49m\u001b[38;5;28;43;01mNone\u001b[39;49;00m\u001b[43m,\u001b[49m\u001b[43m \u001b[49m\u001b[43mmin_frequency\u001b[49m\u001b[38;5;241;43m=\u001b[39;49m\u001b[38;5;241;43m20\u001b[39;49m\u001b[43m,\u001b[49m\u001b[43m \u001b[49m\u001b[43mhandle_unknown\u001b[49m\u001b[38;5;241;43m=\u001b[39;49m\u001b[38;5;124;43m'\u001b[39;49m\u001b[38;5;124;43mignore\u001b[39;49m\u001b[38;5;124;43m'\u001b[39;49m\u001b[43m)\u001b[49m)])\n",
      "\u001b[0;31mTypeError\u001b[0m: __init__() got an unexpected keyword argument 'min_frequency'"
     ]
    }
   ],
   "source": [
    "# transformer for tran_major_abbr\n",
    "# maj_xform = Pipeline(steps=[\n",
    "#     ('ohe_major', OneHotEncoder(drop=None, min_frequency=20, handle_unknown='ignore'))])"
   ]
  },
  {
   "cell_type": "code",
   "execution_count": 10,
   "metadata": {
    "ExecuteTime": {
     "end_time": "2022-09-29T21:26:25.351746Z",
     "start_time": "2022-09-29T21:26:25.346860Z"
    },
    "id": "KeUJ5VpvsV8W"
   },
   "outputs": [],
   "source": [
    "cat_tran = Pipeline(steps=[\n",
    "    ('imputer', SimpleImputer(strategy='most_frequent', fill_value=-1)),\n",
    "    ('onehot', OneHotEncoder(drop=None, handle_unknown='ignore'))\n",
    "])\n",
    "\n",
    "num_tran = Pipeline(steps=[\n",
    "    ('scaler', StandardScaler()),\n",
    "    ('imputer', SimpleImputer(strategy='mean'))\n",
    "])\n",
    "\n",
    "preprocessor = ColumnTransformer(\n",
    "    transformers=[\n",
    "        ('num', num_tran, num_var_list),\n",
    "        ('cat', cat_tran, cat_var_list)\n",
    "    ])\n",
    "\n",
    "# col_tran = make_column_transformer(\n",
    "#         (StandardScaler(), ['tenth_day_credits', 'num_courses', 'pts',\n",
    "#                             'attmp', 'nongrd', 'qgpa', 'tot_creds',\n",
    "#                             'cum.pts', 'cum.attmp', 'cum.gpa', 'best_satr_v',\n",
    "#                             'best_satr_m', 'best_satr_c', 'age', 'trans_gpa',\n",
    "#                             'high_sch_gpa', 'major.change.count', 'n.major.courses',\n",
    "#                             'csum.major.courses', 'avg.class.size', 'sum.fees',\n",
    "#                             'csum.rep.courses', 'csum.w', 'csum.alt.grading',\n",
    "#                             'stem.courses', 'stem.credits', 'avg.stem.grade',\n",
    "#                             'csum.stem.courses', 'csum.stem.credits', 'ft.creds.over',\n",
    "#                             'rundiff']), # 'ic_tot',\n",
    "#     remainder = 'passthrough',\n",
    "#     n_jobs = -1)"
   ]
  },
  {
   "cell_type": "code",
   "execution_count": 11,
   "metadata": {
    "ExecuteTime": {
     "end_time": "2022-09-29T21:26:26.993772Z",
     "start_time": "2022-09-29T21:26:26.990429Z"
    },
    "id": "l8qPZVZFsV8X"
   },
   "outputs": [],
   "source": [
    "nn_steps = [  # ('cat_transformer', cat_transformer),\n",
    "    # ('scaler', col_tran),\n",
    "    # ('cat_impute', cat_impute),\n",
    "    # ('ohe', cat_ohe),\n",
    "    # ('impute', IterativeImputer()),\n",
    "    # ('impute', SimpleImputer(strategy = 'mean')),\n",
    "    # in my simple tests on a small slice of data mean imputation outperformed multiple imputation\n",
    "    # with the advantage of being massively faster\n",
    "    ('preprocessor', preprocessor),\n",
    "    ('nnet', MLPClassifier())]\n",
    "nn_pipe = Pipeline(nn_steps, verbose=True)"
   ]
  },
  {
   "cell_type": "code",
   "execution_count": null,
   "metadata": {
    "ExecuteTime": {
     "end_time": "2020-06-29T20:08:05.060689Z",
     "start_time": "2020-06-29T20:03:48.228812Z"
    },
    "id": "PB0YCUH3sV8Y",
    "outputId": "2538d23d-ea9a-487c-87f8-753a8db4018a"
   },
   "outputs": [
    {
     "name": "stderr",
     "output_type": "stream",
     "text": [
      "[Parallel(n_jobs=-1)]: Using backend LokyBackend with 12 concurrent workers.\n",
      "[Parallel(n_jobs=-1)]: Done   3 out of   5 | elapsed:  4.3min remaining:  2.8min\n",
      "[Parallel(n_jobs=-1)]: Done   5 out of   5 | elapsed:  4.3min finished\n"
     ]
    },
    {
     "data": {
      "text/plain": [
       "array([0.80715665, 0.80533844, 0.80632524, 0.80770303, 0.80644794])"
      ]
     },
     "execution_count": 6,
     "metadata": {},
     "output_type": "execute_result"
    }
   ],
   "source": [
    "# cv5 = cross_val_score(nn_pipe,\n",
    "#                       x_train,\n",
    "#                       y_train,\n",
    "#                       cv = 5,\n",
    "#                       scoring = 'f1_macro',\n",
    "#                       n_jobs = -1,\n",
    "#                       verbose = 2)\n",
    "\n",
    "# cv5"
   ]
  },
  {
   "cell_type": "code",
   "execution_count": null,
   "metadata": {
    "ExecuteTime": {
     "end_time": "2021-05-07T18:06:32.194484Z",
     "start_time": "2021-05-07T18:02:34.896857Z"
    },
    "id": "fX4IuUwbsV8Z"
   },
   "outputs": [],
   "source": [
    "# cv_ = cross_validate(\n",
    "#     nn_pipe, x_train, y_train,\n",
    "#     return_estimator=True, n_jobs=-1\n",
    "#     )"
   ]
  },
  {
   "cell_type": "code",
   "execution_count": null,
   "metadata": {
    "ExecuteTime": {
     "end_time": "2021-05-07T18:08:14.956804Z",
     "start_time": "2021-05-07T18:08:14.952734Z"
    },
    "id": "TGglC7ZvsV8b",
    "outputId": "d5ddfa5b-81b9-41ee-c52d-c79afb74070a"
   },
   "outputs": [
    {
     "data": {
      "text/plain": [
       "0.8122141417681592"
      ]
     },
     "execution_count": 16,
     "metadata": {},
     "output_type": "execute_result"
    }
   ],
   "source": [
    "# sum(cv_['test_score']) / len(cv_['test_score'])"
   ]
  },
  {
   "cell_type": "code",
   "execution_count": 12,
   "metadata": {
    "ExecuteTime": {
     "end_time": "2022-09-29T21:44:56.386996Z",
     "start_time": "2022-09-29T21:26:36.046829Z"
    },
    "id": "j0XHs1ZjsV8b",
    "outputId": "8482c988-f6fb-4b90-d7f8-16fa094ad194",
    "scrolled": false
   },
   "outputs": [
    {
     "name": "stdout",
     "output_type": "stream",
     "text": [
      "[Pipeline] ...... (step 1 of 2) Processing preprocessor, total=  14.6s\n",
      "[Pipeline] .............. (step 2 of 2) Processing nnet, total=17.5min\n"
     ]
    },
    {
     "data": {
      "text/plain": [
       "Pipeline(steps=[('preprocessor',\n",
       "                 ColumnTransformer(transformers=[('num',\n",
       "                                                  Pipeline(steps=[('scaler',\n",
       "                                                                   StandardScaler()),\n",
       "                                                                  ('imputer',\n",
       "                                                                   SimpleImputer())]),\n",
       "                                                  ['tenth_day_credits',\n",
       "                                                   'num_courses', 'pts',\n",
       "                                                   'attmp', 'nongrd', 'qgpa',\n",
       "                                                   'tot_creds', 'cum.pts',\n",
       "                                                   'cum.attmp', 'cum.gpa',\n",
       "                                                   'age', 'trans_gpa',\n",
       "                                                   'high_sch_gpa',\n",
       "                                                   'major.change.count',\n",
       "                                                   'n.major.courses',\n",
       "                                                   'csum.major.courses',\n",
       "                                                   'av...\n",
       "                                                   'hs_for_lang_type',\n",
       "                                                   'hs_math_level',\n",
       "                                                   'last_school_type',\n",
       "                                                   'guardian.ed.max',\n",
       "                                                   'guardian.ed.min',\n",
       "                                                   'major.change', 'dual_major',\n",
       "                                                   'premajor', 'n.unmet',\n",
       "                                                   'n.writing', 'n.diversity',\n",
       "                                                   'n.engl_comp', 'n.qsr',\n",
       "                                                   'n.vlpa', 'n.indiv_soc',\n",
       "                                                   'n.nat_world', 'ft'])])),\n",
       "                ('nnet',\n",
       "                 MLPClassifier(activation='logistic', early_stopping=True,\n",
       "                               hidden_layer_sizes=(200, 200, 200),\n",
       "                               max_iter=500))],\n",
       "         verbose=True)"
      ]
     },
     "execution_count": 12,
     "metadata": {},
     "output_type": "execute_result"
    },
    {
     "name": "stdout",
     "output_type": "stream",
     "text": [
      "Confusion matrix:\n",
      " [[0.75205057 0.03775451]\n",
      " [0.0684057  0.14178922]]\n",
      "              precision    recall  f1-score   support\n",
      "\n",
      "         0.0       0.92      0.95      0.93    316219\n",
      "         1.0       0.79      0.67      0.73     84157\n",
      "\n",
      "    accuracy                           0.89    400376\n",
      "   macro avg       0.85      0.81      0.83    400376\n",
      "weighted avg       0.89      0.89      0.89    400376\n",
      "\n",
      "ROC AUC score: 0.81\n",
      "Avg precision score: 0.6\n",
      "Specificity: 0.95\n",
      "Sensititity (recall): 0.67\n"
     ]
    },
    {
     "data": {
      "image/png": "[encoded data removed]",
      "text/plain": [
       "<Figure size 432x288 with 2 Axes>"
      ]
     },
     "metadata": {
      "needs_background": "light"
     },
     "output_type": "display_data"
    },
    {
     "data": {
      "image/png": "[encoded data removed]",
      "text/plain": [
       "<Figure size 432x288 with 1 Axes>"
      ]
     },
     "metadata": {
      "needs_background": "light"
     },
     "output_type": "display_data"
    },
    {
     "data": {
      "image/png": "[encoded data removed]",
      "text/plain": [
       "<Figure size 432x288 with 1 Axes>"
      ]
     },
     "metadata": {
      "needs_background": "light"
     },
     "output_type": "display_data"
    }
   ],
   "source": [
    "with parallel_backend('loky'):\n",
    "    nn_pipe.set_params(nnet__alpha=.0001,\n",
    "                       # {‘identity’, ‘logistic’, ‘tanh’, ‘relu’}\n",
    "                       nnet__activation='logistic',\n",
    "                       nnet__early_stopping=True,\n",
    "                       nnet__hidden_layer_sizes=(200, 200, 200),\n",
    "                       nnet__max_iter=500,\n",
    "                       nnet__verbose=False).fit(x_train, y_train)\n",
    "\n",
    "    # mlp = MLPClassifier(hidden_layer_sizes = (236, 236, 236), max_iter = 500)\n",
    "\n",
    "# joblib.dump(pipe, 'mods/fitted-test-nnet-pipe.sav')\n",
    "\n",
    "preds = nn_pipe.predict(x_test)\n",
    "predsa = nn_pipe.predict_proba(x_test)\n",
    "resid = y_test - preds\n",
    "\n",
    "post_est(nn_pipe, preds, x_test, y_test)"
   ]
  },
  {
   "cell_type": "code",
   "execution_count": 13,
   "metadata": {
    "ExecuteTime": {
     "end_time": "2022-09-29T21:45:58.225148Z",
     "start_time": "2022-09-29T21:45:58.166882Z"
    },
    "id": "qYzBR7NXsV8c",
    "outputId": "5fc117b7-c38f-4a03-8b33-e74560042958"
   },
   "outputs": [
    {
     "data": {
      "text/plain": [
       "['../models/fitted-nnet-activation-logistic.joblib']"
      ]
     },
     "execution_count": 13,
     "metadata": {},
     "output_type": "execute_result"
    }
   ],
   "source": [
    "dump(nn_pipe, '../models/fitted-nnet-activation-logistic.joblib')"
   ]
  },
  {
   "cell_type": "code",
   "execution_count": 16,
   "metadata": {
    "ExecuteTime": {
     "end_time": "2022-09-26T23:00:51.106281Z",
     "start_time": "2022-09-26T23:00:51.086179Z"
    },
    "collapsed": true
   },
   "outputs": [
    {
     "ename": "NameError",
     "evalue": "name 'check_results' is not defined",
     "output_type": "error",
     "traceback": [
      "\u001b[0;31m---------------------------------------------------------------------------\u001b[0m",
      "\u001b[0;31mNameError\u001b[0m                                 Traceback (most recent call last)",
      "\u001b[0;32m<ipython-input-16-3cb1d1a2b95b>\u001b[0m in \u001b[0;36m<module>\u001b[0;34m\u001b[0m\n\u001b[0;32m----> 1\u001b[0;31m \u001b[0mcheck_results\u001b[0m\u001b[0;34m.\u001b[0m\u001b[0mto_csv\u001b[0m\u001b[0;34m(\u001b[0m\u001b[0;34m\"../data-preds/post_est_eda-12212021.csv\"\u001b[0m\u001b[0;34m,\u001b[0m \u001b[0mindex\u001b[0m\u001b[0;34m=\u001b[0m\u001b[0;32mFalse\u001b[0m\u001b[0;34m,\u001b[0m \u001b[0mna_rep\u001b[0m\u001b[0;34m=\u001b[0m\u001b[0;34m\"NA\"\u001b[0m\u001b[0;34m)\u001b[0m\u001b[0;34m\u001b[0m\u001b[0;34m\u001b[0m\u001b[0m\n\u001b[0m",
      "\u001b[0;31mNameError\u001b[0m: name 'check_results' is not defined"
     ]
    }
   ],
   "source": [
    "# check_results.to_csv(\"../data-preds/post_est_eda-12212021.csv\", index=False, na_rep=\"NA\")"
   ]
  },
  {
   "cell_type": "code",
   "execution_count": null,
   "metadata": {
    "ExecuteTime": {
     "end_time": "2020-04-16T03:05:04.631402Z",
     "start_time": "2020-04-16T03:05:04.401318Z"
    },
    "id": "8FPIze-isV8d"
   },
   "outputs": [],
   "source": [
    "# new_data = pd.read_csv('../data/new-data-to-predict.csv', na_values=['NA', 'NaN', 'Inf', '-Inf'])\n",
    "\n",
    "# # new_data = recode_cats(new_data, cat_var_list)\n",
    "# new_x_vars = [x for x in new_data.columns if x not in [target]]\n",
    "# new_x_vars = [x for x in new_x_vars if x not in id_vars]\n",
    "# new_x = new_data[new_x_vars]\n",
    "# # missing_vars = [x for x in x_vars if x not in new_x_vars]\n",
    "# # missing_vars = dict((x, np.nan) for x in missing_vars)\n",
    "\n",
    "# new_preds = nn_pipe.predict(new_x)\n",
    "# new_predsa = nn_pipe.predict_proba(new_x)\n",
    "# plt.hist(new_predsa[:,1])"
   ]
  },
  {
   "cell_type": "code",
   "execution_count": null,
   "metadata": {
    "ExecuteTime": {
     "end_time": "2021-04-23T15:20:01.185073Z",
     "start_time": "2021-04-23T15:20:01.178854Z"
    },
    "id": "9p34NxV7sV8d",
    "outputId": "09049136-357d-4416-d544-e341413cc79c"
   },
   "outputs": [
    {
     "data": {
      "text/plain": [
       "25"
      ]
     },
     "execution_count": 51,
     "metadata": {},
     "output_type": "execute_result"
    }
   ],
   "source": [
    "# nn_pipe.named_steps.nnet.n_iter_"
   ]
  },
  {
   "cell_type": "code",
   "execution_count": null,
   "metadata": {
    "ExecuteTime": {
     "end_time": "2021-04-23T14:44:04.642299Z",
     "start_time": "2021-04-23T14:44:04.625942Z"
    },
    "collapsed": true,
    "id": "k5deivAksV8e",
    "jupyter": {
     "outputs_hidden": true
    },
    "outputId": "8903dd51-8163-47f3-c62d-746b5b3f8d81"
   },
   "outputs": [
    {
     "data": {
      "text/plain": [
       "[array([-0.13583891, -0.09543208, -0.02873381, -0.05708592,  0.0557553 ,\n",
       "        -0.12879323, -0.0115567 , -0.08840312, -0.09364782, -0.16756171,\n",
       "         0.05904674, -0.16592225, -0.03607791, -0.10513658, -0.06960966,\n",
       "        -0.0712508 , -0.04290611, -0.05006696,  0.07507336, -0.04579918,\n",
       "        -0.05575886, -0.06917979,  0.00162694,  0.08750704, -0.02885241,\n",
       "        -0.00085924, -0.06173833, -0.09253313, -0.14566528, -0.02698264,\n",
       "        -0.09337931, -0.06779846,  0.00205714, -0.04840307, -0.03052313,\n",
       "        -0.14469996, -0.11518499, -0.11946324,  0.07766789,  0.07460794,\n",
       "        -0.12213687, -0.10309995, -0.0150042 , -0.10563937, -0.10248974,\n",
       "        -0.04716037, -0.00809356, -0.02094107, -0.13331234, -0.12107617,\n",
       "         0.07510428, -0.13950056, -0.13276701, -0.1061991 , -0.07792039,\n",
       "        -0.13154793, -0.14254539, -0.14876861, -0.01765825, -0.06240145,\n",
       "        -0.09505354, -0.04542112, -0.04554017, -0.07750081, -0.14130606,\n",
       "        -0.15397512, -0.0748748 , -0.07525454, -0.1248974 , -0.08443483,\n",
       "        -0.09752647, -0.09440941, -0.16293521,  0.00233234,  0.01673439,\n",
       "        -0.09282569, -0.03510522,  0.05674372, -0.08194203, -0.05394234,\n",
       "        -0.03253795, -0.04426254,  0.00819677,  0.01861356, -0.02306557,\n",
       "        -0.11956685, -0.113135  , -0.03330503, -0.02109192, -0.17539734,\n",
       "        -0.15606109,  0.01051919, -0.07333147, -0.08797587, -0.06313951,\n",
       "        -0.12101599, -0.14897367, -0.09407548,  0.00838681,  0.03195068,\n",
       "        -0.02905289, -0.08047915, -0.0800342 , -0.1312668 ,  0.00242187,\n",
       "         0.0004646 ,  0.10979751, -0.00859227, -0.06742768, -0.15328952,\n",
       "        -0.07662149, -0.02190824, -0.08613287, -0.12896603, -0.10647601,\n",
       "        -0.06947145,  0.01336852, -0.0098952 , -0.0833461 , -0.07181554,\n",
       "        -0.11272655, -0.13282475, -0.17515732, -0.06175414, -0.05796622,\n",
       "        -0.09660437, -0.11056211, -0.10579774, -0.14379207, -0.00265489,\n",
       "        -0.00770979, -0.01062551, -0.11238104, -0.08017821, -0.14691557,\n",
       "        -0.16790848, -0.12173855, -0.10509295,  0.09655163, -0.1472709 ,\n",
       "        -0.12079575, -0.15880209, -0.05199612, -0.13205082,  0.0462207 ,\n",
       "        -0.00448579, -0.12793467, -0.09350735, -0.1311895 ,  0.0627363 ,\n",
       "        -0.11375334, -0.13493485, -0.07071941, -0.06977536, -0.1022075 ,\n",
       "        -0.01820447,  0.04364842, -0.10279662, -0.12930588, -0.13766554,\n",
       "        -0.14621603, -0.03928763, -0.19907037, -0.02582077, -0.04242781,\n",
       "        -0.09130211,  0.03572367, -0.02544371, -0.08128748,  0.05407666,\n",
       "        -0.07956015, -0.01093997, -0.09153212, -0.09576983, -0.09346896,\n",
       "        -0.06069416, -0.07074334, -0.10867426, -0.09232653,  0.03329302,\n",
       "        -0.19188003, -0.07824423, -0.14593621, -0.05150191, -0.04559872,\n",
       "         0.03253163, -0.04903118,  0.00266914, -0.11763223, -0.09084152,\n",
       "        -0.00835209, -0.0525777 ,  0.0758866 , -0.00049042, -0.079049  ,\n",
       "        -0.1131218 , -0.03525612, -0.14340398,  0.1117643 , -0.03924676]),\n",
       " array([-1.33692280e-01, -9.98793277e-02, -6.94031925e-02, -1.71843879e-02,\n",
       "        -9.83220551e-02, -4.48467702e-02, -4.72766121e-02,  2.67980707e-02,\n",
       "        -1.00401830e-01, -3.27228007e-01, -3.13558163e-02, -3.95308264e-01,\n",
       "        -2.01142181e-02,  9.53375205e-04, -1.04730865e-01, -7.84976533e-02,\n",
       "         3.82877029e-03, -3.98208598e-03, -3.41671833e-02, -8.39952520e-01,\n",
       "        -1.08725133e-01, -1.25821172e-02, -7.38455402e-02, -1.00445004e-01,\n",
       "         1.92656152e-03, -9.48419379e-02, -1.16333680e+00, -1.91772005e-02,\n",
       "        -4.15000785e-03, -1.91597041e-02,  1.30093789e-02, -6.86319253e-02,\n",
       "        -4.10444682e-01, -7.89969401e-02,  6.46464218e-03, -3.71185874e-02,\n",
       "        -9.22152891e-03,  2.63824059e-02, -9.10388449e-02, -1.21519428e-01,\n",
       "        -9.26443295e-02, -1.31175208e-01, -1.28468616e-02, -1.07123823e-01,\n",
       "        -2.93680260e-01, -8.74842340e-02, -1.25760255e-02, -7.34896439e-02,\n",
       "        -1.08590064e-01, -8.45151022e-02, -4.76618049e-02,  1.80913957e-02,\n",
       "        -1.22920859e-01, -1.38358242e-02, -3.73452739e-02, -5.02448633e-02,\n",
       "        -1.16374088e-01, -3.35444049e-02, -8.03601765e-02,  1.95314899e-03,\n",
       "        -6.24640122e-02, -2.70068096e-02, -9.09203047e-02, -7.47478138e-02,\n",
       "        -6.93461926e-04, -1.98984148e-01,  3.79922288e-03, -1.15744571e-01,\n",
       "        -1.48928397e-02,  1.28551988e-02, -8.16526091e-03, -7.54322317e-02,\n",
       "        -5.73466690e-02,  4.37398649e-03, -1.22955525e-01, -1.37292424e-01,\n",
       "        -1.05956021e-01, -1.04952563e-01, -2.70252950e-02, -1.53527354e-02,\n",
       "        -1.57695369e-02, -7.33998075e-02, -2.84457631e-01, -4.46473923e-03,\n",
       "        -6.39493792e-02, -8.92544397e-02, -7.54214926e-02, -1.77336131e-02,\n",
       "        -4.39080396e-02, -6.16171198e-03, -1.95839015e-02, -3.95223004e-02,\n",
       "        -1.64983166e-02, -4.84206059e-02, -5.55717705e-02,  3.64701030e-03,\n",
       "        -4.01779115e-02, -1.20876222e-01, -7.04684574e-02, -5.36620100e-02,\n",
       "        -2.90290862e-01, -1.19929452e-01,  1.03770916e-02, -7.74169747e-02,\n",
       "        -9.51086958e-02, -8.31141613e-02, -4.44660626e-02, -1.26901146e-02,\n",
       "        -7.95821278e-03, -9.99326683e-03, -2.98808511e-02, -5.20928680e-02,\n",
       "         2.29177530e-02, -5.43727137e-02, -1.01656294e-01, -4.76477368e-02,\n",
       "        -3.02259176e-02,  4.38331256e-02, -1.54468875e-02,  1.56717823e-03,\n",
       "         5.81257608e-02, -3.69190892e-02, -2.93868290e-02,  2.72995838e-02,\n",
       "        -9.62297025e-02, -3.02146880e-02, -4.21415540e-02,  1.18878176e-02,\n",
       "        -3.90553653e-02, -5.50926562e-02, -7.23996697e-02, -7.73622439e-02,\n",
       "         4.00161104e-03, -3.22766323e-02,  2.43563269e-03,  2.25393962e-02,\n",
       "        -9.20890756e-02, -1.04127351e-01, -1.87986077e-02, -4.00381673e-02,\n",
       "        -1.79883696e-02,  3.92132993e-02, -7.21004058e-02, -2.77227668e-02,\n",
       "         5.32200681e-02, -2.22860989e-02, -1.01516436e-01, -5.50335975e-02,\n",
       "        -7.32274507e-02, -1.39688874e-02, -4.42138568e-02,  2.63362475e-02,\n",
       "        -1.04471397e-01,  5.55812767e-03, -3.25859021e-02, -4.61806003e-02,\n",
       "        -7.71979811e-02, -6.12351132e-02, -5.47755190e-02, -1.24531501e-01,\n",
       "         1.45088339e-02, -5.68025027e-02, -8.91470688e-02, -4.59893522e-02,\n",
       "        -3.04699537e-02, -1.22379124e-01, -2.82326216e-02,  3.78206441e-02,\n",
       "        -7.45423320e-02, -1.01509983e-01, -2.57014713e-02, -1.15679883e-01,\n",
       "        -1.27363888e-01, -3.36183878e-02, -7.73582589e-02, -6.65024121e-03,\n",
       "        -8.14791402e-02, -3.50423703e-02,  9.98630848e-03, -3.25111342e-02,\n",
       "        -2.61215805e-02, -1.11382416e-01, -6.61942082e-02, -2.39837570e-01,\n",
       "         1.31143155e-04, -5.48255953e-02, -2.24366465e-02,  7.04296151e-02,\n",
       "         6.12292455e-02, -3.36200177e-02, -9.25799566e-02, -4.73816967e-02,\n",
       "         7.93826912e-02, -1.38454408e-02, -5.13108796e-03, -1.27408239e-01,\n",
       "        -1.23390847e-01, -4.58360273e-02,  8.95830060e-02, -9.54032039e-02]),\n",
       " array([ 5.25010862e-02, -4.75029736e-02, -1.38600853e-02, -8.13688426e-02,\n",
       "        -4.29413992e-02,  1.14545563e-02, -6.85348037e-02,  1.81570491e-02,\n",
       "        -1.21990140e-01,  3.41200652e-02, -1.40644023e-01, -6.43223278e-02,\n",
       "        -1.19321276e-01, -4.68634984e-03, -4.04915782e-02, -4.08538276e-02,\n",
       "        -8.91760604e-02,  6.69231074e-03,  3.36273205e-02, -8.96933247e-02,\n",
       "         2.15603249e-02, -4.57894690e-02, -6.89386795e-02,  4.27214410e-02,\n",
       "         3.01126444e-02, -4.68211286e-02, -8.46479944e-02, -3.15438830e-02,\n",
       "         6.81231628e-03, -8.06093469e-02, -9.02419353e-03, -1.03865532e-01,\n",
       "         2.23093706e-03, -8.14616459e-02, -7.76639277e-02, -1.84405461e-01,\n",
       "        -8.33833735e-02, -1.59512060e-01,  3.05571127e-02, -9.91055318e-02,\n",
       "        -6.08453542e-02, -4.04457215e-02, -9.00269619e-03, -6.95101952e-02,\n",
       "        -5.17091299e-03, -3.52397800e-02,  1.72671203e-02,  1.93692571e-03,\n",
       "        -6.49614885e-02, -4.60615050e-02, -2.08809680e-01, -6.08658091e-02,\n",
       "        -8.39904921e-02, -8.71694400e-02, -1.16061002e-01, -6.06076602e-02,\n",
       "         2.01065531e-02, -1.22612188e-01,  5.43942093e-03, -1.12513233e-01,\n",
       "        -8.30018204e-02, -6.13050979e-02, -1.80981421e-02, -7.26454753e-02,\n",
       "        -2.13269119e-02,  1.37679976e-02, -1.66761367e-03, -8.00428183e-02,\n",
       "         3.98072114e-02, -3.23983725e-02, -4.83047381e-02, -1.18327395e-01,\n",
       "        -6.11643942e-02, -1.84860028e-02,  3.11154037e-02, -9.68069403e-02,\n",
       "        -5.91201883e-02, -3.09014417e-01,  1.56048887e-02,  5.52067827e-03,\n",
       "        -3.43658757e-01, -5.89755574e-02, -6.92885121e-02, -6.10054527e-02,\n",
       "        -5.59479005e-02, -8.80087546e-02, -2.08343398e-02, -1.07120028e-01,\n",
       "        -5.25629898e-02, -1.36097331e-02,  1.96919958e-02, -1.85168942e-01,\n",
       "        -1.47606218e-01, -1.24132813e-01, -7.65907087e-02, -2.32963895e-01,\n",
       "        -7.91417958e-02,  1.16315812e-02, -4.70447222e-02, -6.74502039e-02,\n",
       "        -5.36981865e-02, -9.64877403e-02, -8.69783368e-02, -3.36412899e-02,\n",
       "        -4.06029530e-02, -1.34151466e-02, -4.75725132e-02, -2.05886916e-03,\n",
       "        -9.22524433e-02, -1.22694897e-01, -9.79842221e-02, -3.27052602e-02,\n",
       "        -4.21872305e-02, -6.54907341e-02, -1.52573210e-01, -6.10477936e-02,\n",
       "        -5.87597253e-02, -2.02816138e-02, -5.45700074e-02, -2.36072596e-02,\n",
       "        -8.55918419e-02, -3.11042435e-02, -5.44496231e-02, -7.95786113e-02,\n",
       "        -3.06517963e-03, -1.84730957e-01,  1.34210174e-04, -4.36630046e-02,\n",
       "        -3.37959884e-02, -3.22600178e-02, -1.63470003e-02, -1.24931749e-01,\n",
       "         4.44657911e-03,  1.82878836e-02,  5.59032475e-02, -6.19473274e-02,\n",
       "        -5.19172250e-02, -2.32404747e-02, -8.00438046e-03, -2.07724788e-01,\n",
       "        -7.20234163e-02, -1.19734435e-02,  2.08602172e-02, -5.47532215e-02,\n",
       "        -3.28437467e-02, -1.07880261e-01, -8.03108964e-02, -1.51565925e-02,\n",
       "        -6.35196635e-03, -2.38524022e-02, -3.43614820e-01,  5.50950661e-02,\n",
       "        -7.81645378e-02, -9.51442466e-02, -8.99378862e-02, -4.52751325e-02,\n",
       "         5.62188394e-03, -9.39053936e-02,  2.21184688e-02, -8.52557209e-02,\n",
       "        -7.59368600e-02, -2.04547277e-03, -5.42176294e-02, -1.21862650e-01,\n",
       "         3.76961860e-02,  4.62338260e-02, -1.17727678e-01, -9.06964935e-02,\n",
       "        -1.66714528e-01, -6.10652062e-02, -3.66692390e-02, -8.31858881e-03,\n",
       "        -1.36148265e-01, -5.94669346e-02,  6.46941816e-03, -5.66302559e-02,\n",
       "        -5.70029001e-03,  1.13718367e-02,  3.10662908e-02, -3.71897345e-02,\n",
       "        -6.16634280e-02, -3.29283430e-02,  1.04570232e-02, -3.74507599e-01,\n",
       "        -7.94559365e-02, -2.36318835e-02,  3.43429344e-02, -3.90332775e-02,\n",
       "        -3.53749937e-02, -7.42642907e-02, -5.52649141e-02, -4.28006677e-02,\n",
       "        -8.41062636e-02, -1.06159937e-01, -4.82623952e-02, -2.91063332e-02,\n",
       "        -4.30835992e-02, -9.03628917e-02, -3.31091249e-03, -3.64403891e-03]),\n",
       " array([0.03608103])]"
      ]
     },
     "execution_count": 50,
     "metadata": {},
     "output_type": "execute_result"
    }
   ],
   "source": [
    "# nn_pipe.named_steps.nnet.coefs_\n",
    "# nn_pipe.named_steps.nnet.intercepts_"
   ]
  },
  {
   "cell_type": "markdown",
   "metadata": {
    "id": "ifRsJ3CKsV8e"
   },
   "source": [
    "### Drift report?"
   ]
  },
  {
   "cell_type": "code",
   "execution_count": null,
   "metadata": {
    "ExecuteTime": {
     "end_time": "2021-09-21T22:05:56.260968Z",
     "start_time": "2021-09-21T22:05:54.185545Z"
    },
    "id": "bHC_f5twsV8g",
    "outputId": "069fc40a-e44e-46a1-ef38-aaaa52acd123"
   },
   "outputs": [
    {
     "name": "stderr",
     "output_type": "stream",
     "text": [
      "/Users/zane/opt/anaconda3/lib/python3.7/site-packages/statsmodels/tools/_testing.py:19: FutureWarning:\n",
      "\n",
      "pandas.util.testing is deprecated. Use the functions in the public API at pandas.testing instead.\n",
      "\n"
     ]
    }
   ],
   "source": [
    "# from evidently.dashboard import Dashboard\n",
    "# from evidently.tabs import DriftTab\n",
    "# from evidently.tabs import ProbClassificationPerformanceTab"
   ]
  },
  {
   "cell_type": "code",
   "execution_count": null,
   "metadata": {
    "ExecuteTime": {
     "end_time": "2021-09-21T22:09:42.978292Z",
     "start_time": "2021-09-21T22:08:57.814350Z"
    },
    "id": "YTYCvKwysV8i"
   },
   "outputs": [],
   "source": [
    "# data_drift_report = Dashboard(x_train, x_test, tabs = [DriftTab])\n",
    "# data_drift_report.save(\"reports/drift_report.html\")"
   ]
  },
  {
   "cell_type": "markdown",
   "metadata": {
    "id": "ZzKWhD6DsV8j"
   },
   "source": [
    "### Model report?"
   ]
  },
  {
   "cell_type": "code",
   "execution_count": null,
   "metadata": {
    "ExecuteTime": {
     "end_time": "2021-09-21T22:12:48.601173Z",
     "start_time": "2021-09-21T22:11:40.385831Z"
    },
    "id": "EYMt2wAasV8j",
    "scrolled": true
   },
   "outputs": [],
   "source": [
    "# train_data = x_train.copy(deep=True)\n",
    "# test_data = x_test.copy(deep=True)\n",
    "# train_probas = pd.DataFrame(nn_pipe.predict_proba(x_train))\n",
    "# train_probas.columns = ['no', 'yes']\n",
    "# test_probas = pd.DataFrame(nn_pipe.predict_proba(x_test))\n",
    "# test_probas.columns = ['no', 'yes']\n",
    "\n",
    "# # train_data['target'] = ['no' if x == 0 else 'yes' for x in train_y]\n",
    "# train_data['target'] = ['no' if i == 0 else 'yes' for i in y_train]\n",
    "# cat_merged_train = pd.concat([train_data, train_probas], axis = 1)\n",
    "\n",
    "# test_data.reset_index(inplace=True, drop=True)\n",
    "# test_data['target'] = ['no' if i == 0 else 'yes' for i in y_test]\n",
    "# cat_merged_test = pd.concat([test_data, test_probas], axis = 1)\n",
    "\n",
    "# column_mapping = {}\n",
    "# column_mapping['target'] = 'target'\n",
    "# column_mapping['prediction'] = ['yes', 'no']\n",
    "# column_mapping['numerical_features'] = num_var_list\n",
    "# column_mapping['categorical_features'] = cat_var_list\n",
    "\n",
    "# model_report = Dashboard(cat_merged_train, cat_merged_test, column_mapping = column_mapping,\n",
    "#                        tabs=[ProbClassificationPerformanceTab])\n",
    "# # model_report.show()\n",
    "# model_report.save(\"reports/model_report.html\")"
   ]
  }
 ],
 "metadata": {
  "colab": {
   "name": "nnet-train-activation-logistic.ipynb",
   "provenance": []
  },
  "kernelspec": {
   "display_name": "Python 3 (ipykernel)",
   "language": "python",
   "name": "python3"
  },
  "language_info": {
   "codemirror_mode": {
    "name": "ipython",
    "version": 3
   },
   "file_extension": ".py",
   "mimetype": "text/x-python",
   "name": "python",
   "nbconvert_exporter": "python",
   "pygments_lexer": "ipython3",
   "version": "3.9.12"
  },
  "varInspector": {
   "cols": {
    "lenName": 16,
    "lenType": 16,
    "lenVar": 40
   },
   "kernels_config": {
    "python": {
     "delete_cmd_postfix": "",
     "delete_cmd_prefix": "del ",
     "library": "var_list.py",
     "varRefreshCmd": "print(var_dic_list())"
    },
    "r": {
     "delete_cmd_postfix": ") ",
     "delete_cmd_prefix": "rm(",
     "library": "var_list.r",
     "varRefreshCmd": "cat(var_dic_list()) "
    }
   },
   "types_to_exclude": [
    "module",
    "function",
    "builtin_function_or_method",
    "instance",
    "_Feature"
   ],
   "window_display": false
  }
 },
 "nbformat": 4,
 "nbformat_minor": 1
}
