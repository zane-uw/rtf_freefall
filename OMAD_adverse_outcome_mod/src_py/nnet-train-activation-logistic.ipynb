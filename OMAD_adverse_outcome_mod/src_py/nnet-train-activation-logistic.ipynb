{
 "cells": [
  {
   "cell_type": "code",
   "execution_count": 1,
   "metadata": {
    "ExecuteTime": {
     "end_time": "2020-09-29T17:09:50.445960Z",
     "start_time": "2020-09-29T17:09:46.729712Z"
    }
   },
   "outputs": [],
   "source": [
    "import pandas as pd\n",
    "import numpy as np\n",
    "from joblib import dump\n",
    "from sklearn.model_selection import train_test_split, cross_val_score\n",
    "from sklearn.pipeline import Pipeline, FeatureUnion, make_pipeline\n",
    "from sklearn.experimental import enable_iterative_imputer\n",
    "from sklearn.impute import SimpleImputer, IterativeImputer\n",
    "from sklearn.preprocessing import StandardScaler, OneHotEncoder\n",
    "from sklearn.neural_network import MLPClassifier\n",
    "#\n",
    "# from sklearn.metrics import classification_report, confusion_matrix, roc_auc_score, average_precision_score\n",
    "# from sklearn.metrics import accuracy_score, precision_recall_curve, plot_roc_curve, plot_confusion_matrix\n",
    "# from sklearn.metrics import SCORERS, plot_precision_recall_curve\n",
    "from sklearn.metrics import *\n",
    "from sklearn.utils import parallel_backend\n",
    "from sklearn.compose import ColumnTransformer, make_column_selector, make_column_transformer\n",
    "\n",
    "from matplotlib import pyplot as plt\n",
    "%matplotlib inline\n",
    "\n",
    "from IPython.core.interactiveshell import InteractiveShell\n",
    "InteractiveShell.ast_node_interactivity = \"all\"\n",
    "\n",
    "# Constants\n",
    "SEED = 87654\n",
    "\n",
    "# Functions\n",
    "def post_est(est, preds, x_test, y_test, plots = True):\n",
    "    \n",
    "    tn, fp, fn, tp = confusion_matrix(y_test, preds).ravel()\n",
    "    \n",
    "    print(confusion_matrix(y_test, preds))\n",
    "    print(classification_report(y_test, preds))\n",
    "    print('ROC AUC score:', round(roc_auc_score(y_test, preds), 2))\n",
    "    print('Avg precision score:', round(average_precision_score(y_test, preds), 2))\n",
    "    print('Specificity:', round(tn / (tn + fp), 2))\n",
    "    print('Sensititity (recall):', round(tp / (tp + fn), 2))\n",
    "    # print(round((tn, fp, fn, tp) / (tn+fp+fn+tp), 2))\n",
    "\n",
    "    if(plots == True):\n",
    "        plot_confusion_matrix(est, x_test, y_test, normalize = 'all')\n",
    "        plot_roc_curve(est, x_test, y_test)\n",
    "        plot_precision_recall_curve(est, x_test, y_test)"
   ]
  },
  {
   "cell_type": "code",
   "execution_count": 2,
   "metadata": {
    "ExecuteTime": {
     "end_time": "2020-09-29T17:09:50.452098Z",
     "start_time": "2020-09-29T17:09:50.447603Z"
    }
   },
   "outputs": [
    {
     "data": {
      "text/plain": [
       "'/Volumes/GoogleDrive/My Drive/AXDD/Non-Service Work/Innovation/Retention Task Force/rtf_freefall/OMAD_adverse_outcome_mod/src_py'"
      ]
     },
     "execution_count": 2,
     "metadata": {},
     "output_type": "execute_result"
    }
   ],
   "source": [
    "%pwd"
   ]
  },
  {
   "cell_type": "code",
   "execution_count": 3,
   "metadata": {
    "ExecuteTime": {
     "end_time": "2020-09-29T17:10:44.411518Z",
     "start_time": "2020-09-29T17:10:42.926372Z"
    }
   },
   "outputs": [],
   "source": [
    "data = pd.read_csv('../data/transformed-data-to-py.csv', na_values=['NA', 'NaN', 'Inf', '-Inf'])\n",
    "cat_var_list = []\n",
    "with open('../data/cat-var-list.txt', 'r') as f:\n",
    "    for line in f.read().splitlines():\n",
    "        cat_var_list.append(line)\n",
    "\n",
    "if 'Unnamed: 0' in data.columns:\n",
    "    data.drop(columns = 'Unnamed: 0', inplace = True)\n",
    "\n",
    "data.dropna(subset = ['Y'], inplace = True)   \n",
    "\n",
    "# def recode_cats(df, var_list):\n",
    "#     for x in var_list:\n",
    "#         df = pd.concat([df, pd.get_dummies(df[x],\n",
    "#                                            prefix = x,\n",
    "#                                            dummy_na = False,\n",
    "#                                            drop_first = True)],  # check this opt depending on model(s)\n",
    "#                       axis = 1).drop([x], axis = 1)\n",
    "#     return(df)\n",
    "    \n",
    "# data = recode_cats(data, cat_var_list)\n",
    "id_vars = ['system_key', 'yrq']\n",
    "target = 'Y'\n",
    "x_vars = [x for x in data.columns if x not in [target]]\n",
    "x_vars = [x for x in x_vars if x not in id_vars]\n",
    "\n",
    "x_train, x_test, y_train, y_test = train_test_split(data[x_vars], \n",
    "                                                    data[target],\n",
    "                                                    test_size = 0.25, \n",
    "                                                    random_state = SEED, \n",
    "                                                    stratify = data[target])"
   ]
  },
  {
   "cell_type": "code",
   "execution_count": 4,
   "metadata": {
    "ExecuteTime": {
     "end_time": "2020-09-29T17:11:01.441451Z",
     "start_time": "2020-09-29T17:11:01.435607Z"
    }
   },
   "outputs": [],
   "source": [
    "# already have `cat_var_list`\n",
    "num_var_list = ['tenth_day_credits', 'num_courses', 'pts',\n",
    "                'attmp', 'nongrd', 'qgpa', 'tot_creds',\n",
    "                'cum.pts', 'cum.attmp', 'cum.gpa', 'best_satr_v', \n",
    "                'best_satr_m', 'best_satr_c', 'age', 'trans_gpa',\n",
    "                'high_sch_gpa', 'major.change.count', 'n.major.courses',\n",
    "                'csum.major.courses', 'avg.class.size', 'sum.fees',\n",
    "                'csum.rep.courses', 'csum.w', 'csum.alt.grading', \n",
    "                'stem.courses', 'stem.credits', 'avg.stem.grade',\n",
    "                'csum.stem.courses', 'csum.stem.credits', 'ft.creds.over',\n",
    "                'rundiff']\n",
    "\n",
    "cat_tran = Pipeline(steps = [\n",
    "    ('imputer', SimpleImputer(strategy = 'most_frequent', fill_value = -1)),\n",
    "    ('onehot', OneHotEncoder(drop = None, handle_unknown = 'ignore'))])\n",
    "\n",
    "num_tran = Pipeline(steps = [\n",
    "    ('scaler', StandardScaler()),\n",
    "    ('imputer', SimpleImputer(strategy = 'mean'))])\n",
    "\n",
    "preprocessor = ColumnTransformer(\n",
    "    transformers=[\n",
    "        ('num', num_tran, num_var_list),\n",
    "        ('cat', cat_tran, cat_var_list)])\n",
    "\n",
    "# col_tran = make_column_transformer(\n",
    "#         (StandardScaler(), ['tenth_day_credits', 'num_courses', 'pts',\n",
    "#                             'attmp', 'nongrd', 'qgpa', 'tot_creds',\n",
    "#                             'cum.pts', 'cum.attmp', 'cum.gpa', 'best_satr_v', \n",
    "#                             'best_satr_m', 'best_satr_c', 'age', 'trans_gpa',\n",
    "#                             'high_sch_gpa', 'major.change.count', 'n.major.courses',\n",
    "#                             'csum.major.courses', 'avg.class.size', 'sum.fees',\n",
    "#                             'csum.rep.courses', 'csum.w', 'csum.alt.grading', \n",
    "#                             'stem.courses', 'stem.credits', 'avg.stem.grade',\n",
    "#                             'csum.stem.courses', 'csum.stem.credits', 'ft.creds.over',\n",
    "#                             'rundiff']), # 'ic_tot', \n",
    "#     remainder = 'passthrough',\n",
    "#     n_jobs = -1)"
   ]
  },
  {
   "cell_type": "code",
   "execution_count": 5,
   "metadata": {
    "ExecuteTime": {
     "end_time": "2020-09-29T17:11:03.714231Z",
     "start_time": "2020-09-29T17:11:03.711276Z"
    }
   },
   "outputs": [],
   "source": [
    "nn_steps = [# ('cat_transformer', cat_transformer),\n",
    "            # ('scaler', col_tran),\n",
    "            # ('cat_impute', cat_impute),\n",
    "            # ('ohe', cat_ohe),\n",
    "            # ('impute', IterativeImputer()),\n",
    "            # ('impute', SimpleImputer(strategy = 'mean')),\n",
    "            # in my simple tests on a small slice of data mean imputation outperformed multiple imputation\n",
    "            # with the advantage of being massively faster\n",
    "            ('preprocessor', preprocessor),\n",
    "            ('nnet', MLPClassifier())]\n",
    "nn_pipe = Pipeline(nn_steps, verbose = True)"
   ]
  },
  {
   "cell_type": "code",
   "execution_count": 6,
   "metadata": {
    "ExecuteTime": {
     "end_time": "2020-06-29T20:08:05.060689Z",
     "start_time": "2020-06-29T20:03:48.228812Z"
    },
    "scrolled": true
   },
   "outputs": [
    {
     "name": "stderr",
     "output_type": "stream",
     "text": [
      "[Parallel(n_jobs=-1)]: Using backend LokyBackend with 12 concurrent workers.\n",
      "[Parallel(n_jobs=-1)]: Done   3 out of   5 | elapsed:  4.3min remaining:  2.8min\n",
      "[Parallel(n_jobs=-1)]: Done   5 out of   5 | elapsed:  4.3min finished\n"
     ]
    },
    {
     "data": {
      "text/plain": [
       "array([0.80715665, 0.80533844, 0.80632524, 0.80770303, 0.80644794])"
      ]
     },
     "execution_count": 6,
     "metadata": {},
     "output_type": "execute_result"
    }
   ],
   "source": [
    "# cv5 = cross_val_score(nn_pipe, \n",
    "#                       x_train, \n",
    "#                       y_train, \n",
    "#                       cv = 5, \n",
    "#                       scoring = 'f1_macro', \n",
    "#                       n_jobs = -1, \n",
    "#                       verbose = 2)\n",
    "\n",
    "# cv5"
   ]
  },
  {
   "cell_type": "code",
   "execution_count": 6,
   "metadata": {
    "ExecuteTime": {
     "end_time": "2020-09-29T17:13:40.846651Z",
     "start_time": "2020-09-29T17:11:07.922932Z"
    }
   },
   "outputs": [
    {
     "name": "stdout",
     "output_type": "stream",
     "text": [
      "[Pipeline] ...... (step 1 of 2) Processing preprocessor, total=   2.3s\n",
      "[Pipeline] .............. (step 2 of 2) Processing nnet, total= 2.4min\n"
     ]
    },
    {
     "data": {
      "text/plain": [
       "Pipeline(memory=None,\n",
       "         steps=[('preprocessor',\n",
       "                 ColumnTransformer(n_jobs=None, remainder='drop',\n",
       "                                   sparse_threshold=0.3,\n",
       "                                   transformer_weights=None,\n",
       "                                   transformers=[('num',\n",
       "                                                  Pipeline(memory=None,\n",
       "                                                           steps=[('scaler',\n",
       "                                                                   StandardScaler(copy=True,\n",
       "                                                                                  with_mean=True,\n",
       "                                                                                  with_std=True)),\n",
       "                                                                  ('imputer',\n",
       "                                                                   SimpleImputer(add_indicator=False,\n",
       "                                                                                 copy=True,\n",
       "                                                                                 fill_value=None,\n",
       "                                                                                 missing_values=nan,\n",
       "                                                                                 strategy...\n",
       "                               batch_size='auto', beta_1=0.9, beta_2=0.999,\n",
       "                               early_stopping=True, epsilon=1e-08,\n",
       "                               hidden_layer_sizes=(200, 200, 200),\n",
       "                               learning_rate='constant',\n",
       "                               learning_rate_init=0.001, max_fun=15000,\n",
       "                               max_iter=500, momentum=0.9, n_iter_no_change=10,\n",
       "                               nesterovs_momentum=True, power_t=0.5,\n",
       "                               random_state=None, shuffle=True, solver='adam',\n",
       "                               tol=0.0001, validation_fraction=0.1,\n",
       "                               verbose=False, warm_start=False))],\n",
       "         verbose=True)"
      ]
     },
     "execution_count": 6,
     "metadata": {},
     "output_type": "execute_result"
    },
    {
     "name": "stdout",
     "output_type": "stream",
     "text": [
      "[[34400  4381]\n",
      " [ 6289 19727]]\n",
      "              precision    recall  f1-score   support\n",
      "\n",
      "         0.0       0.85      0.89      0.87     38781\n",
      "         1.0       0.82      0.76      0.79     26016\n",
      "\n",
      "    accuracy                           0.84     64797\n",
      "   macro avg       0.83      0.82      0.83     64797\n",
      "weighted avg       0.83      0.84      0.83     64797\n",
      "\n",
      "ROC AUC score: 0.82\n",
      "Avg precision score: 0.72\n",
      "Specificity: 0.89\n",
      "Sensititity (recall): 0.76\n"
     ]
    },
    {
     "data": {
      "image/png": "[encoded data removed]",
      "text/plain": [
       "<Figure size 432x288 with 2 Axes>"
      ]
     },
     "metadata": {
      "needs_background": "light"
     },
     "output_type": "display_data"
    },
    {
     "data": {
      "image/png": "[encoded data removed]",
      "text/plain": [
       "<Figure size 432x288 with 1 Axes>"
      ]
     },
     "metadata": {
      "needs_background": "light"
     },
     "output_type": "display_data"
    },
    {
     "data": {
      "image/png": "[encoded data removed]",
      "text/plain": [
       "<Figure size 432x288 with 1 Axes>"
      ]
     },
     "metadata": {
      "needs_background": "light"
     },
     "output_type": "display_data"
    }
   ],
   "source": [
    "with parallel_backend('loky'):\n",
    "    nn_pipe.set_params(nnet__alpha = .0001,\n",
    "                       nnet__activation = 'logistic',  # {‘identity’, ‘logistic’, ‘tanh’, ‘relu’}\n",
    "                       nnet__early_stopping = True,\n",
    "                       nnet__hidden_layer_sizes = (200, 200, 200),\n",
    "                       nnet__max_iter = 500,\n",
    "                       nnet__verbose = False).fit(x_train, y_train)\n",
    "\n",
    "    # mlp = MLPClassifier(hidden_layer_sizes = (236, 236, 236), max_iter = 500)\n",
    "\n",
    "# joblib.dump(pipe, 'mods/fitted-test-nnet-pipe.sav')\n",
    "\n",
    "preds = nn_pipe.predict(x_test)\n",
    "predsa = nn_pipe.predict_proba(x_test)\n",
    "resid = y_test - preds\n",
    "\n",
    "post_est(nn_pipe, preds, x_test, y_test)"
   ]
  },
  {
   "cell_type": "code",
   "execution_count": 7,
   "metadata": {
    "ExecuteTime": {
     "end_time": "2020-09-29T17:14:02.962139Z",
     "start_time": "2020-09-29T17:14:02.909481Z"
    }
   },
   "outputs": [
    {
     "data": {
      "text/plain": [
       "['../models/fitted-nnet-activation-logistic.joblib']"
      ]
     },
     "execution_count": 7,
     "metadata": {},
     "output_type": "execute_result"
    }
   ],
   "source": [
    "dump(nn_pipe, '../models/fitted-nnet-activation-logistic.joblib')"
   ]
  },
  {
   "cell_type": "code",
   "execution_count": 34,
   "metadata": {
    "ExecuteTime": {
     "end_time": "2020-04-16T03:05:04.631402Z",
     "start_time": "2020-04-16T03:05:04.401318Z"
    }
   },
   "outputs": [],
   "source": [
    "# new_data = pd.read_csv('../data/new-data-to-predict.csv', na_values=['NA', 'NaN', 'Inf', '-Inf'])\n",
    "\n",
    "# # new_data = recode_cats(new_data, cat_var_list)\n",
    "# new_x_vars = [x for x in new_data.columns if x not in [target]]\n",
    "# new_x_vars = [x for x in new_x_vars if x not in id_vars]\n",
    "# new_x = new_data[new_x_vars]\n",
    "# # missing_vars = [x for x in x_vars if x not in new_x_vars]\n",
    "# # missing_vars = dict((x, np.nan) for x in missing_vars)\n",
    "\n",
    "# new_preds = nn_pipe.predict(new_x)\n",
    "# new_predsa = nn_pipe.predict_proba(new_x)\n",
    "# plt.hist(new_predsa[:,1])"
   ]
  }
 ],
 "metadata": {
  "kernelspec": {
   "display_name": "Python 3",
   "language": "python",
   "name": "python3"
  },
  "language_info": {
   "codemirror_mode": {
    "name": "ipython",
    "version": 3
   },
   "file_extension": ".py",
   "mimetype": "text/x-python",
   "name": "python",
   "nbconvert_exporter": "python",
   "pygments_lexer": "ipython3",
   "version": "3.7.5"
  }
 },
 "nbformat": 4,
 "nbformat_minor": 2
}
