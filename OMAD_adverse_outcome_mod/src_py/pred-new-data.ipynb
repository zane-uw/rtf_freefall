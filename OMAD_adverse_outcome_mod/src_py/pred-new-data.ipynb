{
 "cells": [
  {
   "cell_type": "code",
   "execution_count": 1,
   "metadata": {
    "ExecuteTime": {
     "end_time": "2020-04-21T13:50:10.482507Z",
     "start_time": "2020-04-21T13:50:06.906493Z"
    }
   },
   "outputs": [],
   "source": [
    "import pandas as pd\n",
    "import numpy as np\n",
    "import joblib\n",
    "from sklearn.model_selection import train_test_split, GridSearchCV\n",
    "from sklearn.pipeline import Pipeline, FeatureUnion\n",
    "from sklearn.linear_model import LogisticRegression, LogisticRegressionCV\n",
    "from sklearn.experimental import enable_iterative_imputer\n",
    "from sklearn.impute import SimpleImputer, IterativeImputer\n",
    "from sklearn.ensemble import ExtraTreesRegressor\n",
    "from sklearn.preprocessing import StandardScaler, OneHotEncoder\n",
    "from sklearn.neural_network import MLPClassifier\n",
    "#\n",
    "# from sklearn.metrics import classification_report, confusion_matrix, roc_auc_score, average_precision_score\n",
    "# from sklearn.metrics import accuracy_score, precision_recall_curve, plot_roc_curve, plot_confusion_matrix\n",
    "# from sklearn.metrics import SCORERS, plot_precision_recall_curve\n",
    "from sklearn.metrics import *\n",
    "from sklearn.utils import parallel_backend\n",
    "from sklearn.compose import ColumnTransformer, make_column_selector, make_column_transformer\n",
    "\n",
    "from matplotlib import pyplot as plt\n",
    "%matplotlib inline\n",
    "\n",
    "from IPython.core.interactiveshell import InteractiveShell\n",
    "InteractiveShell.ast_node_interactivity = \"all\"\n",
    "\n",
    "# Constants\n",
    "SEED = 87654"
   ]
  },
  {
   "cell_type": "code",
   "execution_count": 2,
   "metadata": {
    "ExecuteTime": {
     "end_time": "2020-04-21T13:50:10.514839Z",
     "start_time": "2020-04-21T13:50:10.484537Z"
    }
   },
   "outputs": [],
   "source": [
    "model = joblib.load('../models/fitted-nnet-activation-logistic.joblib')\n",
    "# model"
   ]
  },
  {
   "cell_type": "code",
   "execution_count": 3,
   "metadata": {
    "ExecuteTime": {
     "end_time": "2020-04-21T13:50:11.517551Z",
     "start_time": "2020-04-21T13:50:11.276195Z"
    }
   },
   "outputs": [],
   "source": [
    "new_data = pd.read_csv('../data/new-data-to-predict.csv', na_values=['NA', 'NaN', 'Inf', '-Inf'])\n",
    "\n",
    "####\n",
    "# Obvs don't use these\n",
    "id_vars = ['system_key', 'yrq']\n",
    "target = 'Y'\n",
    "####\n",
    "\n",
    "# new_data = recode_cats(new_data, cat_var_list)\n",
    "new_x_vars = [x for x in new_data.columns if x not in [target]]\n",
    "new_x_vars = [x for x in new_x_vars if x not in id_vars]\n",
    "new_x = new_data[new_x_vars]\n",
    "# missing_vars = [x for x in x_vars if x not in new_x_vars]\n",
    "# missing_vars = dict((x, np.nan) for x in missing_vars)\n",
    "\n",
    "new_preds = model.predict(new_x)\n",
    "new_predsa = model.predict_proba(new_x)"
   ]
  },
  {
   "cell_type": "code",
   "execution_count": 5,
   "metadata": {
    "ExecuteTime": {
     "end_time": "2020-04-21T13:51:04.118497Z",
     "start_time": "2020-04-21T13:51:04.114368Z"
    }
   },
   "outputs": [
    {
     "data": {
      "text/plain": [
       "array([[0.50790047, 0.49209953],\n",
       "       [0.50642023, 0.49357977],\n",
       "       [0.84792396, 0.15207604],\n",
       "       [0.9007377 , 0.0992623 ],\n",
       "       [0.76854401, 0.23145599],\n",
       "       [0.97897596, 0.02102404],\n",
       "       [0.99245438, 0.00754562],\n",
       "       [0.97192752, 0.02807248],\n",
       "       [0.78902078, 0.21097922],\n",
       "       [0.64043257, 0.35956743]])"
      ]
     },
     "execution_count": 5,
     "metadata": {},
     "output_type": "execute_result"
    }
   ],
   "source": [
    "new_predsa[0:10,]"
   ]
  },
  {
   "cell_type": "code",
   "execution_count": 4,
   "metadata": {
    "ExecuteTime": {
     "end_time": "2020-04-21T13:50:31.054102Z",
     "start_time": "2020-04-21T13:50:30.900697Z"
    }
   },
   "outputs": [
    {
     "data": {
      "text/plain": [
       "(array([1120., 1246.,  992.,  729.,  538.,  366.,  295.,  222.,  247.,\n",
       "         660.]),\n",
       " array([4.47558389e-04, 1.00389752e-01, 2.00331945e-01, 3.00274138e-01,\n",
       "        4.00216332e-01, 5.00158525e-01, 6.00100718e-01, 7.00042912e-01,\n",
       "        7.99985105e-01, 8.99927298e-01, 9.99869492e-01]),\n",
       " <a list of 10 Patch objects>)"
      ]
     },
     "execution_count": 4,
     "metadata": {},
     "output_type": "execute_result"
    },
    {
     "data": {
      "image/png": "[encoded data removed]",
      "text/plain": [
       "<Figure size 432x288 with 1 Axes>"
      ]
     },
     "metadata": {
      "needs_background": "light"
     },
     "output_type": "display_data"
    }
   ],
   "source": [
    "# prob of `1``\n",
    "plt.hist(new_predsa[:,1])"
   ]
  },
  {
   "cell_type": "code",
   "execution_count": 7,
   "metadata": {
    "ExecuteTime": {
     "end_time": "2020-04-21T13:52:37.804524Z",
     "start_time": "2020-04-21T13:52:37.786923Z"
    }
   },
   "outputs": [
    {
     "data": {
      "text/html": [
       "<div>\n",
       "<style scoped>\n",
       "    .dataframe tbody tr th:only-of-type {\n",
       "        vertical-align: middle;\n",
       "    }\n",
       "\n",
       "    .dataframe tbody tr th {\n",
       "        vertical-align: top;\n",
       "    }\n",
       "\n",
       "    .dataframe thead th {\n",
       "        text-align: right;\n",
       "    }\n",
       "</style>\n",
       "<table border=\"1\" class=\"dataframe\">\n",
       "  <thead>\n",
       "    <tr style=\"text-align: right;\">\n",
       "      <th></th>\n",
       "      <th>system_key</th>\n",
       "      <th>yrq</th>\n",
       "      <th>pred0</th>\n",
       "      <th>pred1</th>\n",
       "    </tr>\n",
       "  </thead>\n",
       "  <tbody>\n",
       "    <tr>\n",
       "      <th>0</th>\n",
       "      <td>697655</td>\n",
       "      <td>20202</td>\n",
       "      <td>0.507900</td>\n",
       "      <td>0.492100</td>\n",
       "    </tr>\n",
       "    <tr>\n",
       "      <th>1</th>\n",
       "      <td>740342</td>\n",
       "      <td>20202</td>\n",
       "      <td>0.506420</td>\n",
       "      <td>0.493580</td>\n",
       "    </tr>\n",
       "    <tr>\n",
       "      <th>2</th>\n",
       "      <td>777087</td>\n",
       "      <td>20202</td>\n",
       "      <td>0.847924</td>\n",
       "      <td>0.152076</td>\n",
       "    </tr>\n",
       "    <tr>\n",
       "      <th>3</th>\n",
       "      <td>787502</td>\n",
       "      <td>20202</td>\n",
       "      <td>0.900738</td>\n",
       "      <td>0.099262</td>\n",
       "    </tr>\n",
       "    <tr>\n",
       "      <th>4</th>\n",
       "      <td>842028</td>\n",
       "      <td>20202</td>\n",
       "      <td>0.768544</td>\n",
       "      <td>0.231456</td>\n",
       "    </tr>\n",
       "  </tbody>\n",
       "</table>\n",
       "</div>"
      ],
      "text/plain": [
       "   system_key    yrq     pred0     pred1\n",
       "0      697655  20202  0.507900  0.492100\n",
       "1      740342  20202  0.506420  0.493580\n",
       "2      777087  20202  0.847924  0.152076\n",
       "3      787502  20202  0.900738  0.099262\n",
       "4      842028  20202  0.768544  0.231456"
      ]
     },
     "execution_count": 7,
     "metadata": {},
     "output_type": "execute_result"
    }
   ],
   "source": [
    "# new_data[id_vars]\n",
    "df = new_data[id_vars]\n",
    "df = df.assign(pred0 = new_predsa[:,0],\n",
    "               pred1 = new_predsa[:,1])\n",
    "\n",
    "df.head()"
   ]
  },
  {
   "cell_type": "code",
   "execution_count": 9,
   "metadata": {
    "ExecuteTime": {
     "end_time": "2020-04-21T13:54:00.244180Z",
     "start_time": "2020-04-21T13:53:59.690719Z"
    }
   },
   "outputs": [
    {
     "name": "stdout",
     "output_type": "stream",
     "text": [
      "../data-preds/pred-proba-20202.csv\n"
     ]
    }
   ],
   "source": [
    "outpath = '../data-preds/'\n",
    "fname = 'pred-proba-' + str(df['yrq'][0]) + '.csv'\n",
    "print(outpath + fname)\n",
    "df.to_csv(outpath + fname, index = False)"
   ]
  }
 ],
 "metadata": {
  "kernelspec": {
   "display_name": "Python 3",
   "language": "python",
   "name": "python3"
  },
  "language_info": {
   "codemirror_mode": {
    "name": "ipython",
    "version": 3
   },
   "file_extension": ".py",
   "mimetype": "text/x-python",
   "name": "python",
   "nbconvert_exporter": "python",
   "pygments_lexer": "ipython3",
   "version": "3.7.5"
  }
 },
 "nbformat": 4,
 "nbformat_minor": 2
}
