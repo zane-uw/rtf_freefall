{
 "cells": [
  {
   "cell_type": "code",
   "execution_count": 13,
   "metadata": {
    "ExecuteTime": {
     "end_time": "2022-09-29T21:22:11.965743Z",
     "start_time": "2022-09-29T21:21:52.143213Z"
    },
    "execution": {
     "iopub.execute_input": "2022-01-03T19:17:18.434997Z",
     "iopub.status.busy": "2022-01-03T19:17:18.434505Z",
     "iopub.status.idle": "2022-01-03T19:17:19.675733Z",
     "shell.execute_reply": "2022-01-03T19:17:19.675181Z",
     "shell.execute_reply.started": "2022-01-03T19:17:18.434846Z"
    },
    "id": "Gd1nfXxUsSE-"
   },
   "outputs": [],
   "source": [
    "from IPython.core.interactiveshell import InteractiveShell\n",
    "import pandas as pd\n",
    "import numpy as np\n",
    "import joblib\n",
    "from sklearn.model_selection import train_test_split, GridSearchCV\n",
    "from sklearn.pipeline import Pipeline, FeatureUnion\n",
    "from sklearn.linear_model import LogisticRegression, LogisticRegressionCV\n",
    "from sklearn.experimental import enable_iterative_imputer\n",
    "from sklearn.impute import SimpleImputer, IterativeImputer\n",
    "from sklearn.ensemble import ExtraTreesRegressor\n",
    "from sklearn.preprocessing import StandardScaler, OneHotEncoder\n",
    "from sklearn.neural_network import MLPClassifier\n",
    "#\n",
    "\n",
    "# from sklearn.metrics import classification_report, confusion_matrix, roc_auc_score, average_precision_score\n",
    "# from sklearn.metrics import accuracy_score, precision_recall_curve, plot_roc_curve, plot_confusion_matrix\n",
    "# from sklearn.metrics import SCORERS, plot_precision_recall_curve\n",
    "from sklearn.metrics import *\n",
    "from sklearn.utils import parallel_backend\n",
    "from sklearn.compose import ColumnTransformer, make_column_selector, make_column_transformer\n",
    "\n",
    "from matplotlib import pyplot as plt\n",
    "%matplotlib inline\n",
    "\n",
    "InteractiveShell.ast_node_interactivity = \"all\"\n",
    "\n",
    "# Constants\n",
    "SEED = 87654"
   ]
  },
  {
   "cell_type": "code",
   "execution_count": 14,
   "metadata": {
    "ExecuteTime": {
     "end_time": "2022-09-29T21:46:13.987266Z",
     "start_time": "2022-09-29T21:46:13.920192Z"
    },
    "execution": {
     "iopub.execute_input": "2022-01-03T19:17:20.459184Z",
     "iopub.status.busy": "2022-01-03T19:17:20.458930Z",
     "iopub.status.idle": "2022-01-03T19:17:20.493091Z",
     "shell.execute_reply": "2022-01-03T19:17:20.492512Z",
     "shell.execute_reply.started": "2022-01-03T19:17:20.459158Z"
    },
    "id": "_hEYHkNusSFE"
   },
   "outputs": [],
   "source": [
    "model = joblib.load('../models/fitted-nnet-activation-logistic.joblib')\n",
    "# model"
   ]
  },
  {
   "cell_type": "code",
   "execution_count": 15,
   "metadata": {
    "ExecuteTime": {
     "end_time": "2022-09-29T21:46:16.143781Z",
     "start_time": "2022-09-29T21:46:16.110175Z"
    },
    "execution": {
     "iopub.execute_input": "2021-12-31T00:31:18.687526Z",
     "iopub.status.busy": "2021-12-31T00:31:18.687264Z",
     "iopub.status.idle": "2021-12-31T00:31:18.690368Z",
     "shell.execute_reply": "2021-12-31T00:31:18.689532Z",
     "shell.execute_reply.started": "2021-12-31T00:31:18.687502Z"
    },
    "id": "PvCLb6krsSFE",
    "outputId": "aa43e3e6-43d0-49e0-becc-eba7077e505b"
   },
   "outputs": [
    {
     "data": {
      "text/plain": [
       "Pipeline(steps=[('preprocessor',\n",
       "                 ColumnTransformer(transformers=[('num',\n",
       "                                                  Pipeline(steps=[('scaler',\n",
       "                                                                   StandardScaler()),\n",
       "                                                                  ('imputer',\n",
       "                                                                   SimpleImputer())]),\n",
       "                                                  ['tenth_day_credits',\n",
       "                                                   'num_courses', 'pts',\n",
       "                                                   'attmp', 'nongrd', 'qgpa',\n",
       "                                                   'tot_creds', 'cum.pts',\n",
       "                                                   'cum.attmp', 'cum.gpa',\n",
       "                                                   'age', 'trans_gpa',\n",
       "                                                   'high_sch_gpa',\n",
       "                                                   'major.change.count',\n",
       "                                                   'n.major.courses',\n",
       "                                                   'csum.major.courses',\n",
       "                                                   'av...\n",
       "                                                   'hs_for_lang_type',\n",
       "                                                   'hs_math_level',\n",
       "                                                   'last_school_type',\n",
       "                                                   'guardian.ed.max',\n",
       "                                                   'guardian.ed.min',\n",
       "                                                   'major.change', 'dual_major',\n",
       "                                                   'premajor', 'n.unmet',\n",
       "                                                   'n.writing', 'n.diversity',\n",
       "                                                   'n.engl_comp', 'n.qsr',\n",
       "                                                   'n.vlpa', 'n.indiv_soc',\n",
       "                                                   'n.nat_world', 'ft'])])),\n",
       "                ('nnet',\n",
       "                 MLPClassifier(activation='logistic', early_stopping=True,\n",
       "                               hidden_layer_sizes=(200, 200, 200),\n",
       "                               max_iter=500))],\n",
       "         verbose=True)"
      ]
     },
     "execution_count": 15,
     "metadata": {},
     "output_type": "execute_result"
    }
   ],
   "source": [
    "model"
   ]
  },
  {
   "cell_type": "code",
   "execution_count": 9,
   "metadata": {
    "ExecuteTime": {
     "end_time": "2022-03-31T20:56:12.009583Z",
     "start_time": "2022-03-31T20:56:12.007517Z"
    }
   },
   "outputs": [],
   "source": [
    "# model.score?"
   ]
  },
  {
   "cell_type": "code",
   "execution_count": 16,
   "metadata": {
    "ExecuteTime": {
     "end_time": "2022-09-29T21:46:25.208260Z",
     "start_time": "2022-09-29T21:46:24.850363Z"
    },
    "execution": {
     "iopub.execute_input": "2022-01-03T19:17:23.368894Z",
     "iopub.status.busy": "2022-01-03T19:17:23.368645Z",
     "iopub.status.idle": "2022-01-03T19:17:23.434933Z",
     "shell.execute_reply": "2022-01-03T19:17:23.434368Z",
     "shell.execute_reply.started": "2022-01-03T19:17:23.368867Z"
    },
    "id": "1h0M0bm5sSFG"
   },
   "outputs": [
    {
     "data": {
      "text/plain": [
       "20224    60142\n",
       "Name: yrq, dtype: int64"
      ]
     },
     "execution_count": 16,
     "metadata": {},
     "output_type": "execute_result"
    }
   ],
   "source": [
    "new_data = pd.read_csv('../data/ALL-STU-new-data-to-predict.csv',\n",
    "                       na_values=['NA', 'NaN', 'Inf', '-Inf'])\n",
    "\n",
    "####\n",
    "# Don't use these\n",
    "id_vars = ['system_key', 'yrq', 'tran_major_abbr']\n",
    "target = 'Y'\n",
    "####\n",
    "\n",
    "# new_data = recode_cats(new_data, cat_var_list)\n",
    "new_x_vars = [x for x in new_data.columns if x not in [target]]\n",
    "new_x_vars = [x for x in new_x_vars if x not in id_vars]\n",
    "new_x = new_data[new_x_vars]\n",
    "# missing_vars = [x for x in x_vars if x not in new_x_vars]\n",
    "# missing_vars = dict((x, np.nan) for x in missing_vars)\n",
    "new_data['yrq'].value_counts()"
   ]
  },
  {
   "cell_type": "code",
   "execution_count": 17,
   "metadata": {
    "ExecuteTime": {
     "end_time": "2022-09-29T21:46:28.101751Z",
     "start_time": "2022-09-29T21:46:27.472328Z"
    },
    "execution": {
     "iopub.execute_input": "2021-12-31T00:31:42.536824Z",
     "iopub.status.busy": "2021-12-31T00:31:42.536600Z",
     "iopub.status.idle": "2021-12-31T00:31:42.768999Z",
     "shell.execute_reply": "2021-12-31T00:31:42.768322Z",
     "shell.execute_reply.started": "2021-12-31T00:31:42.536803Z"
    },
    "id": "EZmAbWKXsSFH",
    "scrolled": false
   },
   "outputs": [],
   "source": [
    "# new_preds = model.predict(new_x)\n",
    "new_predsa = model.predict_proba(new_x)"
   ]
  },
  {
   "cell_type": "code",
   "execution_count": 18,
   "metadata": {
    "ExecuteTime": {
     "end_time": "2022-09-29T21:48:34.033495Z",
     "start_time": "2022-09-29T21:48:34.030489Z"
    }
   },
   "outputs": [
    {
     "name": "stdout",
     "output_type": "stream",
     "text": [
      "(60142, 2)\n",
      "(60142, 89)\n"
     ]
    }
   ],
   "source": [
    "print(new_predsa.shape)\n",
    "print(new_data.shape)"
   ]
  },
  {
   "cell_type": "code",
   "execution_count": 19,
   "metadata": {
    "ExecuteTime": {
     "end_time": "2022-09-29T21:47:05.450134Z",
     "start_time": "2022-09-29T21:47:05.446388Z"
    },
    "execution": {
     "iopub.execute_input": "2021-12-31T00:32:01.648378Z",
     "iopub.status.busy": "2021-12-31T00:32:01.648092Z",
     "iopub.status.idle": "2021-12-31T00:32:01.652539Z",
     "shell.execute_reply": "2021-12-31T00:32:01.651707Z",
     "shell.execute_reply.started": "2021-12-31T00:32:01.648352Z"
    },
    "id": "_8wJpeUVsSFK",
    "outputId": "51ebd13b-71d6-4367-c100-9fd971a5fccd"
   },
   "outputs": [
    {
     "name": "stdout",
     "output_type": "stream",
     "text": [
      "[[9.97362301e-01 2.63769893e-03]\n",
      " [9.99864183e-01 1.35817289e-04]\n",
      " [9.99623765e-01 3.76234759e-04]\n",
      " [9.94223428e-01 5.77657168e-03]\n",
      " [9.99930382e-01 6.96177560e-05]\n",
      " [9.99929500e-01 7.04998745e-05]\n",
      " [9.99895016e-01 1.04984401e-04]\n",
      " [9.98454315e-01 1.54568489e-03]\n",
      " [9.99241295e-01 7.58705002e-04]\n",
      " [7.45830255e-01 2.54169745e-01]]\n"
     ]
    }
   ],
   "source": [
    "print(new_predsa[0:10, ])"
   ]
  },
  {
   "cell_type": "code",
   "execution_count": 20,
   "metadata": {
    "ExecuteTime": {
     "end_time": "2022-09-29T21:47:48.698581Z",
     "start_time": "2022-09-29T21:47:48.305717Z"
    },
    "execution": {
     "iopub.execute_input": "2021-12-31T00:32:06.794301Z",
     "iopub.status.busy": "2021-12-31T00:32:06.794018Z",
     "iopub.status.idle": "2021-12-31T00:32:06.946931Z",
     "shell.execute_reply": "2021-12-31T00:32:06.946323Z",
     "shell.execute_reply.started": "2021-12-31T00:32:06.794274Z"
    },
    "id": "0UR6naxesSFM",
    "outputId": "388ddcd5-adcb-4560-8c5f-f58122ed2b02"
   },
   "outputs": [
    {
     "data": {
      "text/plain": [
       "(array([29481.,  8630.,  6075.,  4447.,  3060.,  2260.,  1579.,  1227.,\n",
       "         1051.,  2332.]),\n",
       " array([5.51755559e-05, 1.00023185e-01, 1.99991195e-01, 2.99959205e-01,\n",
       "        3.99927215e-01, 4.99895225e-01, 5.99863235e-01, 6.99831245e-01,\n",
       "        7.99799255e-01, 8.99767265e-01, 9.99735275e-01]),\n",
       " <BarContainer object of 10 artists>)"
      ]
     },
     "execution_count": 20,
     "metadata": {},
     "output_type": "execute_result"
    },
    {
     "data": {
      "image/png": "[encoded data removed]",
      "text/plain": [
       "<Figure size 432x288 with 1 Axes>"
      ]
     },
     "metadata": {
      "needs_background": "light"
     },
     "output_type": "display_data"
    }
   ],
   "source": [
    "# prob of `1`\n",
    "plt.hist(new_predsa[:, 1])"
   ]
  },
  {
   "cell_type": "code",
   "execution_count": 21,
   "metadata": {
    "ExecuteTime": {
     "end_time": "2022-09-29T21:47:54.739542Z",
     "start_time": "2022-09-29T21:47:54.724269Z"
    },
    "execution": {
     "iopub.execute_input": "2021-12-31T00:32:19.518763Z",
     "iopub.status.busy": "2021-12-31T00:32:19.518480Z",
     "iopub.status.idle": "2021-12-31T00:32:19.531735Z",
     "shell.execute_reply": "2021-12-31T00:32:19.530913Z",
     "shell.execute_reply.started": "2021-12-31T00:32:19.518737Z"
    },
    "id": "owvIaq30sSFM",
    "outputId": "2a2fa094-3ed2-46d1-cf31-fb8802efddb1",
    "scrolled": false
   },
   "outputs": [
    {
     "data": {
      "text/html": [
       "<div>\n",
       "<style scoped>\n",
       "    .dataframe tbody tr th:only-of-type {\n",
       "        vertical-align: middle;\n",
       "    }\n",
       "\n",
       "    .dataframe tbody tr th {\n",
       "        vertical-align: top;\n",
       "    }\n",
       "\n",
       "    .dataframe thead th {\n",
       "        text-align: right;\n",
       "    }\n",
       "</style>\n",
       "<table border=\"1\" class=\"dataframe\">\n",
       "  <thead>\n",
       "    <tr style=\"text-align: right;\">\n",
       "      <th></th>\n",
       "      <th>system_key</th>\n",
       "      <th>yrq</th>\n",
       "      <th>tran_major_abbr</th>\n",
       "      <th>pred0</th>\n",
       "      <th>pred1</th>\n",
       "    </tr>\n",
       "  </thead>\n",
       "  <tbody>\n",
       "    <tr>\n",
       "      <th>0</th>\n",
       "      <td>527</td>\n",
       "      <td>20224</td>\n",
       "      <td>N MATR</td>\n",
       "      <td>0.997362</td>\n",
       "      <td>0.002638</td>\n",
       "    </tr>\n",
       "    <tr>\n",
       "      <th>1</th>\n",
       "      <td>3579</td>\n",
       "      <td>20224</td>\n",
       "      <td>N MATR</td>\n",
       "      <td>0.999864</td>\n",
       "      <td>0.000136</td>\n",
       "    </tr>\n",
       "    <tr>\n",
       "      <th>2</th>\n",
       "      <td>4349</td>\n",
       "      <td>20224</td>\n",
       "      <td>N MATR</td>\n",
       "      <td>0.999624</td>\n",
       "      <td>0.000376</td>\n",
       "    </tr>\n",
       "    <tr>\n",
       "      <th>3</th>\n",
       "      <td>4587</td>\n",
       "      <td>20224</td>\n",
       "      <td>SUSTRN</td>\n",
       "      <td>0.994223</td>\n",
       "      <td>0.005777</td>\n",
       "    </tr>\n",
       "    <tr>\n",
       "      <th>4</th>\n",
       "      <td>4912</td>\n",
       "      <td>20224</td>\n",
       "      <td>N MATR</td>\n",
       "      <td>0.999930</td>\n",
       "      <td>0.000070</td>\n",
       "    </tr>\n",
       "  </tbody>\n",
       "</table>\n",
       "</div>"
      ],
      "text/plain": [
       "   system_key    yrq tran_major_abbr     pred0     pred1\n",
       "0         527  20224          N MATR  0.997362  0.002638\n",
       "1        3579  20224          N MATR  0.999864  0.000136\n",
       "2        4349  20224          N MATR  0.999624  0.000376\n",
       "3        4587  20224          SUSTRN  0.994223  0.005777\n",
       "4        4912  20224          N MATR  0.999930  0.000070"
      ]
     },
     "execution_count": 21,
     "metadata": {},
     "output_type": "execute_result"
    }
   ],
   "source": [
    "# new_data[id_vars]\n",
    "df = new_data[id_vars]\n",
    "df = df.assign(pred0=new_predsa[:, 0],\n",
    "               pred1=new_predsa[:, 1])\n",
    "\n",
    "df.head()"
   ]
  },
  {
   "cell_type": "code",
   "execution_count": 22,
   "metadata": {
    "ExecuteTime": {
     "end_time": "2022-09-29T21:50:23.407620Z",
     "start_time": "2022-09-29T21:50:23.198407Z"
    },
    "execution": {
     "iopub.execute_input": "2021-12-31T00:32:33.216955Z",
     "iopub.status.busy": "2021-12-31T00:32:33.216674Z",
     "iopub.status.idle": "2021-12-31T00:32:33.965440Z",
     "shell.execute_reply": "2021-12-31T00:32:33.964827Z",
     "shell.execute_reply.started": "2021-12-31T00:32:33.216928Z"
    },
    "id": "A1TK7LO8sSFN",
    "outputId": "cbadd67d-3072-4a32-9486-73e2eaa289a7"
   },
   "outputs": [
    {
     "name": "stdout",
     "output_type": "stream",
     "text": [
      "writing preds to: ../data-preds/pred-proba-20224.csv\n"
     ]
    }
   ],
   "source": [
    "outpath = '../data-preds/'\n",
    "fname = 'pred-proba-' + str(df['yrq'][0]) + '.csv'\n",
    "df.to_csv(outpath + fname, index=False)\n",
    "print('writing preds to:', outpath + fname)"
   ]
  },
  {
   "cell_type": "code",
   "execution_count": 11,
   "metadata": {
    "ExecuteTime": {
     "end_time": "2022-07-11T20:01:14.178865Z",
     "start_time": "2022-07-11T20:01:14.169881Z"
    }
   },
   "outputs": [],
   "source": [
    "# # split ENG majors\n",
    "# eng_abbvs = ['A A',\n",
    "#              'BIOEN',\n",
    "#              'BSE',\n",
    "#              'C SCI',\n",
    "#              'CHEM E',\n",
    "#              'CIV E',\n",
    "#              'CMP E',\n",
    "#              'E E',\n",
    "#              'ENGRUD',\n",
    "#              'ENV E',\n",
    "#              'HCDE',\n",
    "#              'IND E',\n",
    "#              'INT EN',\n",
    "#              'M E',\n",
    "#              'MS E',\n",
    "#              'PREBSE',\n",
    "#              'STARS']\n",
    "# eng = df[df['tran_major_abbr'].isin(eng_abbvs)]"
   ]
  },
  {
   "cell_type": "code",
   "execution_count": 12,
   "metadata": {
    "ExecuteTime": {
     "end_time": "2022-07-11T20:01:14.600578Z",
     "start_time": "2022-07-11T20:01:14.596932Z"
    }
   },
   "outputs": [
    {
     "data": {
      "text/plain": [
       "(1981, 5)"
      ]
     },
     "execution_count": 12,
     "metadata": {},
     "output_type": "execute_result"
    }
   ],
   "source": [
    "# eng.shape\n",
    "# # transform\n",
    "# # np.interp(eng['prob1'], eng['prob1'].min(), eng['prob1'].max(), (-5, 5))\n",
    "# from sklearn.preprocessing import minmax_scale"
   ]
  },
  {
   "cell_type": "code",
   "execution_count": 13,
   "metadata": {
    "ExecuteTime": {
     "end_time": "2022-07-11T20:01:16.054740Z",
     "start_time": "2022-07-11T20:01:15.918459Z"
    }
   },
   "outputs": [
    {
     "data": {
      "text/html": [
       "<div>\n",
       "<style scoped>\n",
       "    .dataframe tbody tr th:only-of-type {\n",
       "        vertical-align: middle;\n",
       "    }\n",
       "\n",
       "    .dataframe tbody tr th {\n",
       "        vertical-align: top;\n",
       "    }\n",
       "\n",
       "    .dataframe thead th {\n",
       "        text-align: right;\n",
       "    }\n",
       "</style>\n",
       "<table border=\"1\" class=\"dataframe\">\n",
       "  <thead>\n",
       "    <tr style=\"text-align: right;\">\n",
       "      <th></th>\n",
       "      <th>system_key</th>\n",
       "      <th>yrq</th>\n",
       "      <th>tran_major_abbr</th>\n",
       "      <th>proba</th>\n",
       "    </tr>\n",
       "  </thead>\n",
       "  <tbody>\n",
       "    <tr>\n",
       "      <th>85</th>\n",
       "      <td>398775</td>\n",
       "      <td>20223</td>\n",
       "      <td>E E</td>\n",
       "      <td>-0.68</td>\n",
       "    </tr>\n",
       "    <tr>\n",
       "      <th>106</th>\n",
       "      <td>503745</td>\n",
       "      <td>20223</td>\n",
       "      <td>M E</td>\n",
       "      <td>-4.59</td>\n",
       "    </tr>\n",
       "    <tr>\n",
       "      <th>165</th>\n",
       "      <td>684523</td>\n",
       "      <td>20223</td>\n",
       "      <td>CIV E</td>\n",
       "      <td>-4.51</td>\n",
       "    </tr>\n",
       "    <tr>\n",
       "      <th>210</th>\n",
       "      <td>759307</td>\n",
       "      <td>20223</td>\n",
       "      <td>M E</td>\n",
       "      <td>-4.94</td>\n",
       "    </tr>\n",
       "    <tr>\n",
       "      <th>240</th>\n",
       "      <td>799511</td>\n",
       "      <td>20223</td>\n",
       "      <td>M E</td>\n",
       "      <td>-4.76</td>\n",
       "    </tr>\n",
       "  </tbody>\n",
       "</table>\n",
       "</div>"
      ],
      "text/plain": [
       "     system_key    yrq tran_major_abbr  proba\n",
       "85       398775  20223             E E  -0.68\n",
       "106      503745  20223             M E  -4.59\n",
       "165      684523  20223           CIV E  -4.51\n",
       "210      759307  20223             M E  -4.94\n",
       "240      799511  20223             M E  -4.76"
      ]
     },
     "execution_count": 13,
     "metadata": {},
     "output_type": "execute_result"
    },
    {
     "data": {
      "text/plain": [
       "(array([1629.,  118.,   50.,   45.,   37.,   25.,   23.,   15.,   11.,\n",
       "          28.]),\n",
       " array([-5., -4., -3., -2., -1.,  0.,  1.,  2.,  3.,  4.,  5.]),\n",
       " <BarContainer object of 10 artists>)"
      ]
     },
     "execution_count": 13,
     "metadata": {},
     "output_type": "execute_result"
    },
    {
     "data": {
      "image/png": "[encoded data removed]",
      "text/plain": [
       "<Figure size 432x288 with 1 Axes>"
      ]
     },
     "metadata": {
      "needs_background": "light"
     },
     "output_type": "display_data"
    }
   ],
   "source": [
    "# proba = minmax_scale(eng['pred1'], feature_range=(-5, 5))\n",
    "\n",
    "# eng_out = eng[id_vars]\n",
    "# eng_out = eng_out.assign(proba = proba)\n",
    "# eng_out['proba'] = round(eng_out['proba'], 2)\n",
    "# eng_out.head()\n",
    "# plt.hist(eng_out['proba'])"
   ]
  },
  {
   "cell_type": "code",
   "execution_count": 14,
   "metadata": {
    "ExecuteTime": {
     "end_time": "2022-07-11T20:01:32.894161Z",
     "start_time": "2022-07-11T20:01:31.179175Z"
    }
   },
   "outputs": [],
   "source": [
    "# eng_out.to_csv(outpath + 'pred-probs-eng-' + str(df['yrq'][0]) + '.csv', index=False)"
   ]
  },
  {
   "cell_type": "code",
   "execution_count": 15,
   "metadata": {
    "ExecuteTime": {
     "end_time": "2022-07-11T20:01:35.697846Z",
     "start_time": "2022-07-11T20:01:35.557680Z"
    }
   },
   "outputs": [
    {
     "data": {
      "text/html": [
       "<div>\n",
       "<style scoped>\n",
       "    .dataframe tbody tr th:only-of-type {\n",
       "        vertical-align: middle;\n",
       "    }\n",
       "\n",
       "    .dataframe tbody tr th {\n",
       "        vertical-align: top;\n",
       "    }\n",
       "\n",
       "    .dataframe thead th {\n",
       "        text-align: right;\n",
       "    }\n",
       "</style>\n",
       "<table border=\"1\" class=\"dataframe\">\n",
       "  <thead>\n",
       "    <tr style=\"text-align: right;\">\n",
       "      <th></th>\n",
       "      <th>system_key</th>\n",
       "      <th>yrq</th>\n",
       "      <th>pred0</th>\n",
       "      <th>pred1</th>\n",
       "    </tr>\n",
       "  </thead>\n",
       "  <tbody>\n",
       "    <tr>\n",
       "      <th>0</th>\n",
       "      <td>527</td>\n",
       "      <td>20223</td>\n",
       "      <td>0.978177</td>\n",
       "      <td>0.021823</td>\n",
       "    </tr>\n",
       "    <tr>\n",
       "      <th>1</th>\n",
       "      <td>4912</td>\n",
       "      <td>20223</td>\n",
       "      <td>0.975441</td>\n",
       "      <td>0.024559</td>\n",
       "    </tr>\n",
       "    <tr>\n",
       "      <th>2</th>\n",
       "      <td>7489</td>\n",
       "      <td>20223</td>\n",
       "      <td>0.885759</td>\n",
       "      <td>0.114241</td>\n",
       "    </tr>\n",
       "    <tr>\n",
       "      <th>3</th>\n",
       "      <td>12410</td>\n",
       "      <td>20223</td>\n",
       "      <td>0.842169</td>\n",
       "      <td>0.157831</td>\n",
       "    </tr>\n",
       "    <tr>\n",
       "      <th>4</th>\n",
       "      <td>13066</td>\n",
       "      <td>20223</td>\n",
       "      <td>0.690459</td>\n",
       "      <td>0.309541</td>\n",
       "    </tr>\n",
       "  </tbody>\n",
       "</table>\n",
       "</div>"
      ],
      "text/plain": [
       "   system_key    yrq     pred0     pred1\n",
       "0         527  20223  0.978177  0.021823\n",
       "1        4912  20223  0.975441  0.024559\n",
       "2        7489  20223  0.885759  0.114241\n",
       "3       12410  20223  0.842169  0.157831\n",
       "4       13066  20223  0.690459  0.309541"
      ]
     },
     "execution_count": 15,
     "metadata": {},
     "output_type": "execute_result"
    }
   ],
   "source": [
    "# # write out the regular data w/o the tran_major_abbv\n",
    "# df = df.drop(columns=['tran_major_abbr'])\n",
    "# df.head()\n",
    "# df.to_csv(outpath + fname, index=False)"
   ]
  }
 ],
 "metadata": {
  "colab": {
   "name": "pred-new-data.ipynb",
   "provenance": []
  },
  "kernelspec": {
   "display_name": "Python 3 (ipykernel)",
   "language": "python",
   "name": "python3"
  },
  "language_info": {
   "codemirror_mode": {
    "name": "ipython",
    "version": 3
   },
   "file_extension": ".py",
   "mimetype": "text/x-python",
   "name": "python",
   "nbconvert_exporter": "python",
   "pygments_lexer": "ipython3",
   "version": "3.9.12"
  },
  "varInspector": {
   "cols": {
    "lenName": 16,
    "lenType": 16,
    "lenVar": 40
   },
   "kernels_config": {
    "python": {
     "delete_cmd_postfix": "",
     "delete_cmd_prefix": "del ",
     "library": "var_list.py",
     "varRefreshCmd": "print(var_dic_list())"
    },
    "r": {
     "delete_cmd_postfix": ") ",
     "delete_cmd_prefix": "rm(",
     "library": "var_list.r",
     "varRefreshCmd": "cat(var_dic_list()) "
    }
   },
   "types_to_exclude": [
    "module",
    "function",
    "builtin_function_or_method",
    "instance",
    "_Feature"
   ],
   "window_display": false
  }
 },
 "nbformat": 4,
 "nbformat_minor": 4
}
