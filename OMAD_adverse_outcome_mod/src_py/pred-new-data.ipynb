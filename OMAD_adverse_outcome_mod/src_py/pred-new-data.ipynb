{
 "cells": [
  {
   "cell_type": "code",
   "execution_count": 1,
   "metadata": {
    "ExecuteTime": {
     "end_time": "2020-06-29T23:17:53.067610Z",
     "start_time": "2020-06-29T23:17:52.309452Z"
    }
   },
   "outputs": [],
   "source": [
    "import pandas as pd\n",
    "import numpy as np\n",
    "import joblib\n",
    "from sklearn.model_selection import train_test_split, GridSearchCV\n",
    "from sklearn.pipeline import Pipeline, FeatureUnion\n",
    "from sklearn.linear_model import LogisticRegression, LogisticRegressionCV\n",
    "from sklearn.experimental import enable_iterative_imputer\n",
    "from sklearn.impute import SimpleImputer, IterativeImputer\n",
    "from sklearn.ensemble import ExtraTreesRegressor\n",
    "from sklearn.preprocessing import StandardScaler, OneHotEncoder\n",
    "from sklearn.neural_network import MLPClassifier\n",
    "#\n",
    "# from sklearn.metrics import classification_report, confusion_matrix, roc_auc_score, average_precision_score\n",
    "# from sklearn.metrics import accuracy_score, precision_recall_curve, plot_roc_curve, plot_confusion_matrix\n",
    "# from sklearn.metrics import SCORERS, plot_precision_recall_curve\n",
    "from sklearn.metrics import *\n",
    "from sklearn.utils import parallel_backend\n",
    "from sklearn.compose import ColumnTransformer, make_column_selector, make_column_transformer\n",
    "\n",
    "from matplotlib import pyplot as plt\n",
    "%matplotlib inline\n",
    "\n",
    "from IPython.core.interactiveshell import InteractiveShell\n",
    "InteractiveShell.ast_node_interactivity = \"all\"\n",
    "\n",
    "# Constants\n",
    "SEED = 87654"
   ]
  },
  {
   "cell_type": "code",
   "execution_count": 2,
   "metadata": {
    "ExecuteTime": {
     "end_time": "2020-06-29T23:17:54.492628Z",
     "start_time": "2020-06-29T23:17:54.467576Z"
    }
   },
   "outputs": [],
   "source": [
    "model = joblib.load('../models/fitted-nnet-activation-logistic.joblib')\n",
    "# model"
   ]
  },
  {
   "cell_type": "code",
   "execution_count": 3,
   "metadata": {
    "ExecuteTime": {
     "end_time": "2020-06-29T23:17:56.341224Z",
     "start_time": "2020-06-29T23:17:56.249815Z"
    }
   },
   "outputs": [],
   "source": [
    "new_data = pd.read_csv('../data/new-data-to-predict.csv', na_values=['NA', 'NaN', 'Inf', '-Inf'])\n",
    "\n",
    "####\n",
    "# Obvs don't use these\n",
    "id_vars = ['system_key', 'yrq']\n",
    "target = 'Y'\n",
    "####\n",
    "\n",
    "# new_data = recode_cats(new_data, cat_var_list)\n",
    "new_x_vars = [x for x in new_data.columns if x not in [target]]\n",
    "new_x_vars = [x for x in new_x_vars if x not in id_vars]\n",
    "new_x = new_data[new_x_vars]\n",
    "# missing_vars = [x for x in x_vars if x not in new_x_vars]\n",
    "# missing_vars = dict((x, np.nan) for x in missing_vars)\n",
    "\n",
    "new_preds = model.predict(new_x)\n",
    "new_predsa = model.predict_proba(new_x)"
   ]
  },
  {
   "cell_type": "code",
   "execution_count": 6,
   "metadata": {
    "ExecuteTime": {
     "end_time": "2020-06-29T23:18:31.499710Z",
     "start_time": "2020-06-29T23:18:31.494654Z"
    }
   },
   "outputs": [
    {
     "name": "stdout",
     "output_type": "stream",
     "text": [
      "(2161, 2)\n"
     ]
    },
    {
     "data": {
      "text/plain": [
       "array([[0.82328665, 0.17671335],\n",
       "       [0.94273936, 0.05726064],\n",
       "       [0.99533648, 0.00466352],\n",
       "       [0.87241056, 0.12758944],\n",
       "       [0.47713791, 0.52286209],\n",
       "       [0.88949665, 0.11050335],\n",
       "       [0.78920679, 0.21079321],\n",
       "       [0.98375705, 0.01624295],\n",
       "       [0.96686706, 0.03313294],\n",
       "       [0.95774267, 0.04225733]])"
      ]
     },
     "execution_count": 6,
     "metadata": {},
     "output_type": "execute_result"
    }
   ],
   "source": [
    "print(new_predsa.shape)\n",
    "new_predsa[0:10,]"
   ]
  },
  {
   "cell_type": "code",
   "execution_count": 5,
   "metadata": {
    "ExecuteTime": {
     "end_time": "2020-06-29T23:18:00.282535Z",
     "start_time": "2020-06-29T23:18:00.146442Z"
    },
    "scrolled": true
   },
   "outputs": [
    {
     "data": {
      "text/plain": [
       "(array([902., 299., 257., 188., 150.,  92.,  86.,  63.,  41.,  83.]),\n",
       " array([7.83251605e-04, 1.00662109e-01, 2.00540966e-01, 3.00419823e-01,\n",
       "        4.00298680e-01, 5.00177537e-01, 6.00056394e-01, 6.99935251e-01,\n",
       "        7.99814108e-01, 8.99692965e-01, 9.99571822e-01]),\n",
       " <a list of 10 Patch objects>)"
      ]
     },
     "execution_count": 5,
     "metadata": {},
     "output_type": "execute_result"
    },
    {
     "data": {
      "image/png": "[encoded data removed]",
      "text/plain": [
       "<Figure size 432x288 with 1 Axes>"
      ]
     },
     "metadata": {
      "needs_background": "light"
     },
     "output_type": "display_data"
    }
   ],
   "source": [
    "# prob of `1``\n",
    "plt.hist(new_predsa[:,1])"
   ]
  },
  {
   "cell_type": "code",
   "execution_count": 7,
   "metadata": {
    "ExecuteTime": {
     "end_time": "2020-06-29T23:18:37.345860Z",
     "start_time": "2020-06-29T23:18:37.327345Z"
    }
   },
   "outputs": [
    {
     "data": {
      "text/html": [
       "<div>\n",
       "<style scoped>\n",
       "    .dataframe tbody tr th:only-of-type {\n",
       "        vertical-align: middle;\n",
       "    }\n",
       "\n",
       "    .dataframe tbody tr th {\n",
       "        vertical-align: top;\n",
       "    }\n",
       "\n",
       "    .dataframe thead th {\n",
       "        text-align: right;\n",
       "    }\n",
       "</style>\n",
       "<table border=\"1\" class=\"dataframe\">\n",
       "  <thead>\n",
       "    <tr style=\"text-align: right;\">\n",
       "      <th></th>\n",
       "      <th>system_key</th>\n",
       "      <th>yrq</th>\n",
       "      <th>pred0</th>\n",
       "      <th>pred1</th>\n",
       "    </tr>\n",
       "  </thead>\n",
       "  <tbody>\n",
       "    <tr>\n",
       "      <th>0</th>\n",
       "      <td>7489</td>\n",
       "      <td>20203</td>\n",
       "      <td>0.823287</td>\n",
       "      <td>0.176713</td>\n",
       "    </tr>\n",
       "    <tr>\n",
       "      <th>1</th>\n",
       "      <td>20634</td>\n",
       "      <td>20203</td>\n",
       "      <td>0.942739</td>\n",
       "      <td>0.057261</td>\n",
       "    </tr>\n",
       "    <tr>\n",
       "      <th>2</th>\n",
       "      <td>113936</td>\n",
       "      <td>20203</td>\n",
       "      <td>0.995336</td>\n",
       "      <td>0.004664</td>\n",
       "    </tr>\n",
       "    <tr>\n",
       "      <th>3</th>\n",
       "      <td>119434</td>\n",
       "      <td>20203</td>\n",
       "      <td>0.872411</td>\n",
       "      <td>0.127589</td>\n",
       "    </tr>\n",
       "    <tr>\n",
       "      <th>4</th>\n",
       "      <td>126647</td>\n",
       "      <td>20203</td>\n",
       "      <td>0.477138</td>\n",
       "      <td>0.522862</td>\n",
       "    </tr>\n",
       "  </tbody>\n",
       "</table>\n",
       "</div>"
      ],
      "text/plain": [
       "   system_key    yrq     pred0     pred1\n",
       "0        7489  20203  0.823287  0.176713\n",
       "1       20634  20203  0.942739  0.057261\n",
       "2      113936  20203  0.995336  0.004664\n",
       "3      119434  20203  0.872411  0.127589\n",
       "4      126647  20203  0.477138  0.522862"
      ]
     },
     "execution_count": 7,
     "metadata": {},
     "output_type": "execute_result"
    }
   ],
   "source": [
    "# new_data[id_vars]\n",
    "df = new_data[id_vars]\n",
    "df = df.assign(pred0 = new_predsa[:,0],\n",
    "               pred1 = new_predsa[:,1])\n",
    "\n",
    "df.head()"
   ]
  },
  {
   "cell_type": "code",
   "execution_count": 8,
   "metadata": {
    "ExecuteTime": {
     "end_time": "2020-06-29T23:18:42.331192Z",
     "start_time": "2020-06-29T23:18:41.581991Z"
    }
   },
   "outputs": [
    {
     "name": "stdout",
     "output_type": "stream",
     "text": [
      "writing preds to: ../data-preds/pred-proba-20203.csv\n"
     ]
    }
   ],
   "source": [
    "outpath = '../data-preds/'\n",
    "fname = 'pred-proba-' + str(df['yrq'][0]) + '.csv'\n",
    "print('writing preds to:', outpath + fname)\n",
    "df.to_csv(outpath + fname, index = False)"
   ]
  }
 ],
 "metadata": {
  "kernelspec": {
   "display_name": "Python 3",
   "language": "python",
   "name": "python3"
  },
  "language_info": {
   "codemirror_mode": {
    "name": "ipython",
    "version": 3
   },
   "file_extension": ".py",
   "mimetype": "text/x-python",
   "name": "python",
   "nbconvert_exporter": "python",
   "pygments_lexer": "ipython3",
   "version": "3.7.5"
  }
 },
 "nbformat": 4,
 "nbformat_minor": 2
}
