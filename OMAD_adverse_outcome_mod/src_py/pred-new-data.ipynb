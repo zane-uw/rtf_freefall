{
 "cells": [
  {
   "cell_type": "code",
   "execution_count": 1,
   "metadata": {
    "ExecuteTime": {
     "end_time": "2022-12-30T22:25:11.262418Z",
     "start_time": "2022-12-30T22:25:09.027010Z"
    },
    "execution": {
     "iopub.execute_input": "2022-01-03T19:17:18.434997Z",
     "iopub.status.busy": "2022-01-03T19:17:18.434505Z",
     "iopub.status.idle": "2022-01-03T19:17:19.675733Z",
     "shell.execute_reply": "2022-01-03T19:17:19.675181Z",
     "shell.execute_reply.started": "2022-01-03T19:17:18.434846Z"
    },
    "id": "Gd1nfXxUsSE-"
   },
   "outputs": [
    {
     "name": "stderr",
     "output_type": "stream",
     "text": [
      "/Users/zane/opt/anaconda3/lib/python3.9/site-packages/scipy/__init__.py:146: UserWarning: A NumPy version >=1.16.5 and <1.23.0 is required for this version of SciPy (detected version 1.23.0\n",
      "  warnings.warn(f\"A NumPy version >={np_minversion} and <{np_maxversion}\"\n"
     ]
    }
   ],
   "source": [
    "from IPython.core.interactiveshell import InteractiveShell\n",
    "import pandas as pd\n",
    "import numpy as np\n",
    "import joblib\n",
    "from sklearn.model_selection import train_test_split, GridSearchCV\n",
    "from sklearn.pipeline import Pipeline, FeatureUnion\n",
    "from sklearn.linear_model import LogisticRegression, LogisticRegressionCV\n",
    "from sklearn.experimental import enable_iterative_imputer\n",
    "from sklearn.impute import SimpleImputer, IterativeImputer\n",
    "from sklearn.ensemble import ExtraTreesRegressor\n",
    "from sklearn.preprocessing import StandardScaler, OneHotEncoder\n",
    "from sklearn.neural_network import MLPClassifier\n",
    "#\n",
    "\n",
    "# from sklearn.metrics import classification_report, confusion_matrix, roc_auc_score, average_precision_score\n",
    "# from sklearn.metrics import accuracy_score, precision_recall_curve, plot_roc_curve, plot_confusion_matrix\n",
    "# from sklearn.metrics import SCORERS, plot_precision_recall_curve\n",
    "from sklearn.metrics import *\n",
    "from sklearn.utils import parallel_backend\n",
    "from sklearn.compose import ColumnTransformer, make_column_selector, make_column_transformer\n",
    "\n",
    "from matplotlib import pyplot as plt\n",
    "%matplotlib inline\n",
    "\n",
    "InteractiveShell.ast_node_interactivity = \"all\"\n",
    "\n",
    "# Constants\n",
    "SEED = 87654"
   ]
  },
  {
   "cell_type": "code",
   "execution_count": 2,
   "metadata": {
    "ExecuteTime": {
     "end_time": "2022-12-30T22:25:11.328642Z",
     "start_time": "2022-12-30T22:25:11.276400Z"
    },
    "execution": {
     "iopub.execute_input": "2022-01-03T19:17:20.459184Z",
     "iopub.status.busy": "2022-01-03T19:17:20.458930Z",
     "iopub.status.idle": "2022-01-03T19:17:20.493091Z",
     "shell.execute_reply": "2022-01-03T19:17:20.492512Z",
     "shell.execute_reply.started": "2022-01-03T19:17:20.459158Z"
    },
    "id": "_hEYHkNusSFE"
   },
   "outputs": [],
   "source": [
    "model = joblib.load('../models/fitted-nnet-activation-logistic.joblib')\n",
    "# model"
   ]
  },
  {
   "cell_type": "code",
   "execution_count": 3,
   "metadata": {
    "ExecuteTime": {
     "end_time": "2022-12-30T22:25:12.063630Z",
     "start_time": "2022-12-30T22:25:12.035781Z"
    },
    "execution": {
     "iopub.execute_input": "2021-12-31T00:31:18.687526Z",
     "iopub.status.busy": "2021-12-31T00:31:18.687264Z",
     "iopub.status.idle": "2021-12-31T00:31:18.690368Z",
     "shell.execute_reply": "2021-12-31T00:31:18.689532Z",
     "shell.execute_reply.started": "2021-12-31T00:31:18.687502Z"
    },
    "id": "PvCLb6krsSFE",
    "outputId": "aa43e3e6-43d0-49e0-becc-eba7077e505b"
   },
   "outputs": [
    {
     "data": {
      "text/plain": [
       "Pipeline(steps=[('preprocessor',\n",
       "                 ColumnTransformer(transformers=[('num',\n",
       "                                                  Pipeline(steps=[('scaler',\n",
       "                                                                   StandardScaler()),\n",
       "                                                                  ('imputer',\n",
       "                                                                   SimpleImputer())]),\n",
       "                                                  ['tenth_day_credits',\n",
       "                                                   'num_courses', 'pts',\n",
       "                                                   'attmp', 'nongrd', 'qgpa',\n",
       "                                                   'tot_creds', 'cum.pts',\n",
       "                                                   'cum.attmp', 'cum.gpa',\n",
       "                                                   'age', 'trans_gpa',\n",
       "                                                   'high_sch_gpa',\n",
       "                                                   'major.change.count',\n",
       "                                                   'n.major.courses',\n",
       "                                                   'csum.major.courses',\n",
       "                                                   'av...\n",
       "                                                   'low_family_income',\n",
       "                                                   'hs_def_arts',\n",
       "                                                   'hs_def_english',\n",
       "                                                   'hs_def_for_lang',\n",
       "                                                   'hs_def_math',\n",
       "                                                   'hs_def_science',\n",
       "                                                   'hs_def_soc_sci',\n",
       "                                                   'hs_for_lang_type',\n",
       "                                                   'hs_for_lang_yrs',\n",
       "                                                   'hs_math_level',\n",
       "                                                   'last_school_type',\n",
       "                                                   'reg.late.binary',\n",
       "                                                   'major.change', ...])])),\n",
       "                ('nnet',\n",
       "                 MLPClassifier(activation='logistic', early_stopping=True,\n",
       "                               hidden_layer_sizes=(400, 400, 400),\n",
       "                               max_iter=1000))],\n",
       "         verbose=True)"
      ]
     },
     "execution_count": 3,
     "metadata": {},
     "output_type": "execute_result"
    }
   ],
   "source": [
    "model"
   ]
  },
  {
   "cell_type": "code",
   "execution_count": 9,
   "metadata": {
    "ExecuteTime": {
     "end_time": "2022-03-31T20:56:12.009583Z",
     "start_time": "2022-03-31T20:56:12.007517Z"
    }
   },
   "outputs": [],
   "source": [
    "# model.score?"
   ]
  },
  {
   "cell_type": "code",
   "execution_count": 4,
   "metadata": {
    "ExecuteTime": {
     "end_time": "2022-12-30T22:25:18.810648Z",
     "start_time": "2022-12-30T22:25:18.401209Z"
    },
    "execution": {
     "iopub.execute_input": "2022-01-03T19:17:23.368894Z",
     "iopub.status.busy": "2022-01-03T19:17:23.368645Z",
     "iopub.status.idle": "2022-01-03T19:17:23.434933Z",
     "shell.execute_reply": "2022-01-03T19:17:23.434368Z",
     "shell.execute_reply.started": "2022-01-03T19:17:23.368867Z"
    },
    "id": "1h0M0bm5sSFG"
   },
   "outputs": [
    {
     "data": {
      "text/plain": [
       "20231    54355\n",
       "Name: yrq, dtype: int64"
      ]
     },
     "execution_count": 4,
     "metadata": {},
     "output_type": "execute_result"
    }
   ],
   "source": [
    "new_data = pd.read_csv('../data/ALL-STU-new-data-to-predict.csv',\n",
    "                       na_values=['NA', 'NaN', 'Inf', '-Inf'])\n",
    "\n",
    "####\n",
    "# Don't use these\n",
    "id_vars = ['system_key', 'yrq', 'tran_major_abbr']\n",
    "target = 'Y'\n",
    "####\n",
    "\n",
    "# new_data = recode_cats(new_data, cat_var_list)\n",
    "new_x_vars = [x for x in new_data.columns if x not in [target]]\n",
    "new_x_vars = [x for x in new_x_vars if x not in id_vars]\n",
    "new_x = new_data[new_x_vars]\n",
    "# missing_vars = [x for x in x_vars if x not in new_x_vars]\n",
    "# missing_vars = dict((x, np.nan) for x in missing_vars)\n",
    "new_data['yrq'].value_counts()"
   ]
  },
  {
   "cell_type": "code",
   "execution_count": 5,
   "metadata": {
    "ExecuteTime": {
     "end_time": "2022-12-30T22:25:30.736366Z",
     "start_time": "2022-12-30T22:25:29.654400Z"
    },
    "execution": {
     "iopub.execute_input": "2021-12-31T00:31:42.536824Z",
     "iopub.status.busy": "2021-12-31T00:31:42.536600Z",
     "iopub.status.idle": "2021-12-31T00:31:42.768999Z",
     "shell.execute_reply": "2021-12-31T00:31:42.768322Z",
     "shell.execute_reply.started": "2021-12-31T00:31:42.536803Z"
    },
    "id": "EZmAbWKXsSFH",
    "scrolled": false
   },
   "outputs": [],
   "source": [
    "# new_preds = model.predict(new_x)\n",
    "new_predsa = model.predict_proba(new_x)"
   ]
  },
  {
   "cell_type": "code",
   "execution_count": 6,
   "metadata": {
    "ExecuteTime": {
     "end_time": "2022-12-30T22:25:31.890425Z",
     "start_time": "2022-12-30T22:25:31.887433Z"
    }
   },
   "outputs": [
    {
     "name": "stdout",
     "output_type": "stream",
     "text": [
      "(54355, 2)\n",
      "(54355, 91)\n"
     ]
    }
   ],
   "source": [
    "print(new_predsa.shape)\n",
    "print(new_data.shape)"
   ]
  },
  {
   "cell_type": "code",
   "execution_count": 7,
   "metadata": {
    "ExecuteTime": {
     "end_time": "2022-12-30T22:25:33.848028Z",
     "start_time": "2022-12-30T22:25:33.844915Z"
    },
    "execution": {
     "iopub.execute_input": "2021-12-31T00:32:01.648378Z",
     "iopub.status.busy": "2021-12-31T00:32:01.648092Z",
     "iopub.status.idle": "2021-12-31T00:32:01.652539Z",
     "shell.execute_reply": "2021-12-31T00:32:01.651707Z",
     "shell.execute_reply.started": "2021-12-31T00:32:01.648352Z"
    },
    "id": "_8wJpeUVsSFK",
    "outputId": "51ebd13b-71d6-4367-c100-9fd971a5fccd"
   },
   "outputs": [
    {
     "name": "stdout",
     "output_type": "stream",
     "text": [
      "[[0.95706334 0.04293666]\n",
      " [0.21547724 0.78452276]\n",
      " [0.93286809 0.06713191]\n",
      " [0.99648954 0.00351046]\n",
      " [0.99357155 0.00642845]\n",
      " [0.98873473 0.01126527]\n",
      " [0.38098272 0.61901728]\n",
      " [0.99265704 0.00734296]\n",
      " [0.95609868 0.04390132]\n",
      " [0.99801391 0.00198609]]\n"
     ]
    }
   ],
   "source": [
    "print(new_predsa[0:10, ])"
   ]
  },
  {
   "cell_type": "code",
   "execution_count": 8,
   "metadata": {
    "ExecuteTime": {
     "end_time": "2022-12-30T22:25:35.866571Z",
     "start_time": "2022-12-30T22:25:35.745712Z"
    },
    "execution": {
     "iopub.execute_input": "2021-12-31T00:32:06.794301Z",
     "iopub.status.busy": "2021-12-31T00:32:06.794018Z",
     "iopub.status.idle": "2021-12-31T00:32:06.946931Z",
     "shell.execute_reply": "2021-12-31T00:32:06.946323Z",
     "shell.execute_reply.started": "2021-12-31T00:32:06.794274Z"
    },
    "id": "0UR6naxesSFM",
    "outputId": "388ddcd5-adcb-4560-8c5f-f58122ed2b02"
   },
   "outputs": [
    {
     "data": {
      "text/plain": [
       "(array([12233.,  5640.,  7419.,  8642.,  7137.,  5247.,  3737.,  2455.,\n",
       "         1364.,   481.]),\n",
       " array([4.93672234e-04, 1.00389240e-01, 2.00284807e-01, 3.00180374e-01,\n",
       "        4.00075942e-01, 4.99971509e-01, 5.99867076e-01, 6.99762643e-01,\n",
       "        7.99658211e-01, 8.99553778e-01, 9.99449345e-01]),\n",
       " <BarContainer object of 10 artists>)"
      ]
     },
     "execution_count": 8,
     "metadata": {},
     "output_type": "execute_result"
    },
    {
     "data": {
      "image/png": "[encoded data removed]",
      "text/plain": [
       "<Figure size 432x288 with 1 Axes>"
      ]
     },
     "metadata": {
      "needs_background": "light"
     },
     "output_type": "display_data"
    }
   ],
   "source": [
    "# prob of `1`\n",
    "plt.hist(new_predsa[:, 1])"
   ]
  },
  {
   "cell_type": "code",
   "execution_count": 9,
   "metadata": {
    "ExecuteTime": {
     "end_time": "2022-12-30T22:25:59.624589Z",
     "start_time": "2022-12-30T22:25:59.609334Z"
    },
    "execution": {
     "iopub.execute_input": "2021-12-31T00:32:19.518763Z",
     "iopub.status.busy": "2021-12-31T00:32:19.518480Z",
     "iopub.status.idle": "2021-12-31T00:32:19.531735Z",
     "shell.execute_reply": "2021-12-31T00:32:19.530913Z",
     "shell.execute_reply.started": "2021-12-31T00:32:19.518737Z"
    },
    "id": "owvIaq30sSFM",
    "outputId": "2a2fa094-3ed2-46d1-cf31-fb8802efddb1",
    "scrolled": false
   },
   "outputs": [
    {
     "data": {
      "text/html": [
       "<div>\n",
       "<style scoped>\n",
       "    .dataframe tbody tr th:only-of-type {\n",
       "        vertical-align: middle;\n",
       "    }\n",
       "\n",
       "    .dataframe tbody tr th {\n",
       "        vertical-align: top;\n",
       "    }\n",
       "\n",
       "    .dataframe thead th {\n",
       "        text-align: right;\n",
       "    }\n",
       "</style>\n",
       "<table border=\"1\" class=\"dataframe\">\n",
       "  <thead>\n",
       "    <tr style=\"text-align: right;\">\n",
       "      <th></th>\n",
       "      <th>system_key</th>\n",
       "      <th>yrq</th>\n",
       "      <th>tran_major_abbr</th>\n",
       "      <th>pred0</th>\n",
       "      <th>pred1</th>\n",
       "    </tr>\n",
       "  </thead>\n",
       "  <tbody>\n",
       "    <tr>\n",
       "      <th>0</th>\n",
       "      <td>13066</td>\n",
       "      <td>20231</td>\n",
       "      <td>T NURS</td>\n",
       "      <td>0.957063</td>\n",
       "      <td>0.042937</td>\n",
       "    </tr>\n",
       "    <tr>\n",
       "      <th>1</th>\n",
       "      <td>14310</td>\n",
       "      <td>20231</td>\n",
       "      <td>NURS</td>\n",
       "      <td>0.215477</td>\n",
       "      <td>0.784523</td>\n",
       "    </tr>\n",
       "    <tr>\n",
       "      <th>2</th>\n",
       "      <td>18235</td>\n",
       "      <td>20231</td>\n",
       "      <td>ANTH</td>\n",
       "      <td>0.932868</td>\n",
       "      <td>0.067132</td>\n",
       "    </tr>\n",
       "    <tr>\n",
       "      <th>3</th>\n",
       "      <td>24095</td>\n",
       "      <td>20231</td>\n",
       "      <td>ENGL</td>\n",
       "      <td>0.996490</td>\n",
       "      <td>0.003510</td>\n",
       "    </tr>\n",
       "    <tr>\n",
       "      <th>4</th>\n",
       "      <td>25807</td>\n",
       "      <td>20231</td>\n",
       "      <td>ISS O</td>\n",
       "      <td>0.993572</td>\n",
       "      <td>0.006428</td>\n",
       "    </tr>\n",
       "  </tbody>\n",
       "</table>\n",
       "</div>"
      ],
      "text/plain": [
       "   system_key    yrq tran_major_abbr     pred0     pred1\n",
       "0       13066  20231          T NURS  0.957063  0.042937\n",
       "1       14310  20231            NURS  0.215477  0.784523\n",
       "2       18235  20231            ANTH  0.932868  0.067132\n",
       "3       24095  20231            ENGL  0.996490  0.003510\n",
       "4       25807  20231           ISS O  0.993572  0.006428"
      ]
     },
     "execution_count": 9,
     "metadata": {},
     "output_type": "execute_result"
    }
   ],
   "source": [
    "# new_data[id_vars]\n",
    "df = new_data[id_vars]\n",
    "df = df.assign(pred0=new_predsa[:, 0],\n",
    "               pred1=new_predsa[:, 1])\n",
    "\n",
    "df.head()"
   ]
  },
  {
   "cell_type": "code",
   "execution_count": null,
   "metadata": {},
   "outputs": [],
   "source": [
    "# TODO: create a dict to generate the 'correct' file name - `yyyy-quartername-pred-proba.csv"
   ]
  },
  {
   "cell_type": "code",
   "execution_count": 10,
   "metadata": {
    "ExecuteTime": {
     "end_time": "2022-12-30T22:38:05.735225Z",
     "start_time": "2022-12-30T22:38:05.468388Z"
    },
    "execution": {
     "iopub.execute_input": "2021-12-31T00:32:33.216955Z",
     "iopub.status.busy": "2021-12-31T00:32:33.216674Z",
     "iopub.status.idle": "2021-12-31T00:32:33.965440Z",
     "shell.execute_reply": "2021-12-31T00:32:33.964827Z",
     "shell.execute_reply.started": "2021-12-31T00:32:33.216928Z"
    },
    "id": "A1TK7LO8sSFN",
    "outputId": "cbadd67d-3072-4a32-9486-73e2eaa289a7"
   },
   "outputs": [
    {
     "name": "stdout",
     "output_type": "stream",
     "text": [
      "writing preds to: ../data-preds/pred-proba-20231.csv\n"
     ]
    }
   ],
   "source": [
    "outpath = '../data-preds/'\n",
    "fname = 'pred-proba-' + str(df['yrq'][0]) + '.csv'\n",
    "df.to_csv(outpath + fname, index=False)\n",
    "print('writing preds to:', outpath + fname)"
   ]
  },
  {
   "cell_type": "code",
   "execution_count": 11,
   "metadata": {
    "ExecuteTime": {
     "end_time": "2022-07-11T20:01:14.178865Z",
     "start_time": "2022-07-11T20:01:14.169881Z"
    }
   },
   "outputs": [],
   "source": [
    "# # split ENG majors\n",
    "# eng_abbvs = ['A A',\n",
    "#              'BIOEN',\n",
    "#              'BSE',\n",
    "#              'C SCI',\n",
    "#              'CHEM E',\n",
    "#              'CIV E',\n",
    "#              'CMP E',\n",
    "#              'E E',\n",
    "#              'ENGRUD',\n",
    "#              'ENV E',\n",
    "#              'HCDE',\n",
    "#              'IND E',\n",
    "#              'INT EN',\n",
    "#              'M E',\n",
    "#              'MS E',\n",
    "#              'PREBSE',\n",
    "#              'STARS']\n",
    "# eng = df[df['tran_major_abbr'].isin(eng_abbvs)]"
   ]
  },
  {
   "cell_type": "code",
   "execution_count": 12,
   "metadata": {
    "ExecuteTime": {
     "end_time": "2022-07-11T20:01:14.600578Z",
     "start_time": "2022-07-11T20:01:14.596932Z"
    }
   },
   "outputs": [
    {
     "data": {
      "text/plain": [
       "(1981, 5)"
      ]
     },
     "execution_count": 12,
     "metadata": {},
     "output_type": "execute_result"
    }
   ],
   "source": [
    "# eng.shape\n",
    "# # transform\n",
    "# # np.interp(eng['prob1'], eng['prob1'].min(), eng['prob1'].max(), (-5, 5))\n",
    "# from sklearn.preprocessing import minmax_scale"
   ]
  },
  {
   "cell_type": "code",
   "execution_count": 13,
   "metadata": {
    "ExecuteTime": {
     "end_time": "2022-07-11T20:01:16.054740Z",
     "start_time": "2022-07-11T20:01:15.918459Z"
    }
   },
   "outputs": [
    {
     "data": {
      "text/html": [
       "<div>\n",
       "<style scoped>\n",
       "    .dataframe tbody tr th:only-of-type {\n",
       "        vertical-align: middle;\n",
       "    }\n",
       "\n",
       "    .dataframe tbody tr th {\n",
       "        vertical-align: top;\n",
       "    }\n",
       "\n",
       "    .dataframe thead th {\n",
       "        text-align: right;\n",
       "    }\n",
       "</style>\n",
       "<table border=\"1\" class=\"dataframe\">\n",
       "  <thead>\n",
       "    <tr style=\"text-align: right;\">\n",
       "      <th></th>\n",
       "      <th>system_key</th>\n",
       "      <th>yrq</th>\n",
       "      <th>tran_major_abbr</th>\n",
       "      <th>proba</th>\n",
       "    </tr>\n",
       "  </thead>\n",
       "  <tbody>\n",
       "    <tr>\n",
       "      <th>85</th>\n",
       "      <td>398775</td>\n",
       "      <td>20223</td>\n",
       "      <td>E E</td>\n",
       "      <td>-0.68</td>\n",
       "    </tr>\n",
       "    <tr>\n",
       "      <th>106</th>\n",
       "      <td>503745</td>\n",
       "      <td>20223</td>\n",
       "      <td>M E</td>\n",
       "      <td>-4.59</td>\n",
       "    </tr>\n",
       "    <tr>\n",
       "      <th>165</th>\n",
       "      <td>684523</td>\n",
       "      <td>20223</td>\n",
       "      <td>CIV E</td>\n",
       "      <td>-4.51</td>\n",
       "    </tr>\n",
       "    <tr>\n",
       "      <th>210</th>\n",
       "      <td>759307</td>\n",
       "      <td>20223</td>\n",
       "      <td>M E</td>\n",
       "      <td>-4.94</td>\n",
       "    </tr>\n",
       "    <tr>\n",
       "      <th>240</th>\n",
       "      <td>799511</td>\n",
       "      <td>20223</td>\n",
       "      <td>M E</td>\n",
       "      <td>-4.76</td>\n",
       "    </tr>\n",
       "  </tbody>\n",
       "</table>\n",
       "</div>"
      ],
      "text/plain": [
       "     system_key    yrq tran_major_abbr  proba\n",
       "85       398775  20223             E E  -0.68\n",
       "106      503745  20223             M E  -4.59\n",
       "165      684523  20223           CIV E  -4.51\n",
       "210      759307  20223             M E  -4.94\n",
       "240      799511  20223             M E  -4.76"
      ]
     },
     "execution_count": 13,
     "metadata": {},
     "output_type": "execute_result"
    },
    {
     "data": {
      "text/plain": [
       "(array([1629.,  118.,   50.,   45.,   37.,   25.,   23.,   15.,   11.,\n",
       "          28.]),\n",
       " array([-5., -4., -3., -2., -1.,  0.,  1.,  2.,  3.,  4.,  5.]),\n",
       " <BarContainer object of 10 artists>)"
      ]
     },
     "execution_count": 13,
     "metadata": {},
     "output_type": "execute_result"
    },
    {
     "data": {
      "image/png": "[encoded data removed]",
      "text/plain": [
       "<Figure size 432x288 with 1 Axes>"
      ]
     },
     "metadata": {
      "needs_background": "light"
     },
     "output_type": "display_data"
    }
   ],
   "source": [
    "# proba = minmax_scale(eng['pred1'], feature_range=(-5, 5))\n",
    "\n",
    "# eng_out = eng[id_vars]\n",
    "# eng_out = eng_out.assign(proba = proba)\n",
    "# eng_out['proba'] = round(eng_out['proba'], 2)\n",
    "# eng_out.head()\n",
    "# plt.hist(eng_out['proba'])"
   ]
  },
  {
   "cell_type": "code",
   "execution_count": 14,
   "metadata": {
    "ExecuteTime": {
     "end_time": "2022-07-11T20:01:32.894161Z",
     "start_time": "2022-07-11T20:01:31.179175Z"
    }
   },
   "outputs": [],
   "source": [
    "# eng_out.to_csv(outpath + 'pred-probs-eng-' + str(df['yrq'][0]) + '.csv', index=False)"
   ]
  },
  {
   "cell_type": "code",
   "execution_count": 15,
   "metadata": {
    "ExecuteTime": {
     "end_time": "2022-07-11T20:01:35.697846Z",
     "start_time": "2022-07-11T20:01:35.557680Z"
    }
   },
   "outputs": [
    {
     "data": {
      "text/html": [
       "<div>\n",
       "<style scoped>\n",
       "    .dataframe tbody tr th:only-of-type {\n",
       "        vertical-align: middle;\n",
       "    }\n",
       "\n",
       "    .dataframe tbody tr th {\n",
       "        vertical-align: top;\n",
       "    }\n",
       "\n",
       "    .dataframe thead th {\n",
       "        text-align: right;\n",
       "    }\n",
       "</style>\n",
       "<table border=\"1\" class=\"dataframe\">\n",
       "  <thead>\n",
       "    <tr style=\"text-align: right;\">\n",
       "      <th></th>\n",
       "      <th>system_key</th>\n",
       "      <th>yrq</th>\n",
       "      <th>pred0</th>\n",
       "      <th>pred1</th>\n",
       "    </tr>\n",
       "  </thead>\n",
       "  <tbody>\n",
       "    <tr>\n",
       "      <th>0</th>\n",
       "      <td>527</td>\n",
       "      <td>20223</td>\n",
       "      <td>0.978177</td>\n",
       "      <td>0.021823</td>\n",
       "    </tr>\n",
       "    <tr>\n",
       "      <th>1</th>\n",
       "      <td>4912</td>\n",
       "      <td>20223</td>\n",
       "      <td>0.975441</td>\n",
       "      <td>0.024559</td>\n",
       "    </tr>\n",
       "    <tr>\n",
       "      <th>2</th>\n",
       "      <td>7489</td>\n",
       "      <td>20223</td>\n",
       "      <td>0.885759</td>\n",
       "      <td>0.114241</td>\n",
       "    </tr>\n",
       "    <tr>\n",
       "      <th>3</th>\n",
       "      <td>12410</td>\n",
       "      <td>20223</td>\n",
       "      <td>0.842169</td>\n",
       "      <td>0.157831</td>\n",
       "    </tr>\n",
       "    <tr>\n",
       "      <th>4</th>\n",
       "      <td>13066</td>\n",
       "      <td>20223</td>\n",
       "      <td>0.690459</td>\n",
       "      <td>0.309541</td>\n",
       "    </tr>\n",
       "  </tbody>\n",
       "</table>\n",
       "</div>"
      ],
      "text/plain": [
       "   system_key    yrq     pred0     pred1\n",
       "0         527  20223  0.978177  0.021823\n",
       "1        4912  20223  0.975441  0.024559\n",
       "2        7489  20223  0.885759  0.114241\n",
       "3       12410  20223  0.842169  0.157831\n",
       "4       13066  20223  0.690459  0.309541"
      ]
     },
     "execution_count": 15,
     "metadata": {},
     "output_type": "execute_result"
    }
   ],
   "source": [
    "# # write out the regular data w/o the tran_major_abbv\n",
    "# df = df.drop(columns=['tran_major_abbr'])\n",
    "# df.head()\n",
    "# df.to_csv(outpath + fname, index=False)"
   ]
  }
 ],
 "metadata": {
  "colab": {
   "name": "pred-new-data.ipynb",
   "provenance": []
  },
  "kernelspec": {
   "display_name": "Python 3 (ipykernel)",
   "language": "python",
   "name": "python3"
  },
  "language_info": {
   "codemirror_mode": {
    "name": "ipython",
    "version": 3
   },
   "file_extension": ".py",
   "mimetype": "text/x-python",
   "name": "python",
   "nbconvert_exporter": "python",
   "pygments_lexer": "ipython3",
   "version": "3.9.12"
  },
  "varInspector": {
   "cols": {
    "lenName": 16,
    "lenType": 16,
    "lenVar": 40
   },
   "kernels_config": {
    "python": {
     "delete_cmd_postfix": "",
     "delete_cmd_prefix": "del ",
     "library": "var_list.py",
     "varRefreshCmd": "print(var_dic_list())"
    },
    "r": {
     "delete_cmd_postfix": ") ",
     "delete_cmd_prefix": "rm(",
     "library": "var_list.r",
     "varRefreshCmd": "cat(var_dic_list()) "
    }
   },
   "types_to_exclude": [
    "module",
    "function",
    "builtin_function_or_method",
    "instance",
    "_Feature"
   ],
   "window_display": false
  }
 },
 "nbformat": 4,
 "nbformat_minor": 4
}
