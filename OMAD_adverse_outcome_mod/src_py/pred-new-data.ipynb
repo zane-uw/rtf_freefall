{
 "cells": [
  {
   "cell_type": "code",
   "execution_count": 1,
   "metadata": {
    "ExecuteTime": {
     "end_time": "2020-04-28T16:31:25.702551Z",
     "start_time": "2020-04-28T16:31:24.253252Z"
    }
   },
   "outputs": [],
   "source": [
    "import pandas as pd\n",
    "import numpy as np\n",
    "import joblib\n",
    "from sklearn.model_selection import train_test_split, GridSearchCV\n",
    "from sklearn.pipeline import Pipeline, FeatureUnion\n",
    "from sklearn.linear_model import LogisticRegression, LogisticRegressionCV\n",
    "from sklearn.experimental import enable_iterative_imputer\n",
    "from sklearn.impute import SimpleImputer, IterativeImputer\n",
    "from sklearn.ensemble import ExtraTreesRegressor\n",
    "from sklearn.preprocessing import StandardScaler, OneHotEncoder\n",
    "from sklearn.neural_network import MLPClassifier\n",
    "#\n",
    "# from sklearn.metrics import classification_report, confusion_matrix, roc_auc_score, average_precision_score\n",
    "# from sklearn.metrics import accuracy_score, precision_recall_curve, plot_roc_curve, plot_confusion_matrix\n",
    "# from sklearn.metrics import SCORERS, plot_precision_recall_curve\n",
    "from sklearn.metrics import *\n",
    "from sklearn.utils import parallel_backend\n",
    "from sklearn.compose import ColumnTransformer, make_column_selector, make_column_transformer\n",
    "\n",
    "from matplotlib import pyplot as plt\n",
    "%matplotlib inline\n",
    "\n",
    "from IPython.core.interactiveshell import InteractiveShell\n",
    "InteractiveShell.ast_node_interactivity = \"all\"\n",
    "\n",
    "# Constants\n",
    "SEED = 87654"
   ]
  },
  {
   "cell_type": "code",
   "execution_count": 2,
   "metadata": {
    "ExecuteTime": {
     "end_time": "2020-04-28T16:31:26.299109Z",
     "start_time": "2020-04-28T16:31:26.285694Z"
    }
   },
   "outputs": [],
   "source": [
    "model = joblib.load('../models/fitted-nnet-activation-logistic.joblib')\n",
    "# model"
   ]
  },
  {
   "cell_type": "code",
   "execution_count": 3,
   "metadata": {
    "ExecuteTime": {
     "end_time": "2020-04-28T16:31:30.572150Z",
     "start_time": "2020-04-28T16:31:30.319199Z"
    }
   },
   "outputs": [],
   "source": [
    "new_data = pd.read_csv('../data/new-data-to-predict.csv', na_values=['NA', 'NaN', 'Inf', '-Inf'])\n",
    "\n",
    "####\n",
    "# Obvs don't use these\n",
    "id_vars = ['system_key', 'yrq']\n",
    "target = 'Y'\n",
    "####\n",
    "\n",
    "# new_data = recode_cats(new_data, cat_var_list)\n",
    "new_x_vars = [x for x in new_data.columns if x not in [target]]\n",
    "new_x_vars = [x for x in new_x_vars if x not in id_vars]\n",
    "new_x = new_data[new_x_vars]\n",
    "# missing_vars = [x for x in x_vars if x not in new_x_vars]\n",
    "# missing_vars = dict((x, np.nan) for x in missing_vars)\n",
    "\n",
    "new_preds = model.predict(new_x)\n",
    "new_predsa = model.predict_proba(new_x)"
   ]
  },
  {
   "cell_type": "code",
   "execution_count": 4,
   "metadata": {
    "ExecuteTime": {
     "end_time": "2020-04-28T16:31:33.572823Z",
     "start_time": "2020-04-28T16:31:33.567364Z"
    }
   },
   "outputs": [
    {
     "data": {
      "text/plain": [
       "array([[0.77003955, 0.22996045],\n",
       "       [0.96065931, 0.03934069],\n",
       "       [0.92729648, 0.07270352],\n",
       "       [0.86428345, 0.13571655],\n",
       "       [0.00157773, 0.99842227],\n",
       "       [0.8733425 , 0.1266575 ],\n",
       "       [0.92258013, 0.07741987],\n",
       "       [0.76678774, 0.23321226],\n",
       "       [0.98487493, 0.01512507],\n",
       "       [0.96356647, 0.03643353]])"
      ]
     },
     "execution_count": 4,
     "metadata": {},
     "output_type": "execute_result"
    }
   ],
   "source": [
    "new_predsa[0:10,]"
   ]
  },
  {
   "cell_type": "code",
   "execution_count": 5,
   "metadata": {
    "ExecuteTime": {
     "end_time": "2020-04-28T16:31:34.910940Z",
     "start_time": "2020-04-28T16:31:34.767137Z"
    }
   },
   "outputs": [
    {
     "data": {
      "text/plain": [
       "(array([1169., 1348., 1070.,  708.,  494.,  364.,  286.,  228.,  256.,\n",
       "         574.]),\n",
       " array([0.0010178 , 0.10088673, 0.20075567, 0.3006246 , 0.40049353,\n",
       "        0.50036246, 0.60023139, 0.70010032, 0.79996925, 0.89983818,\n",
       "        0.99970711]),\n",
       " <a list of 10 Patch objects>)"
      ]
     },
     "execution_count": 5,
     "metadata": {},
     "output_type": "execute_result"
    },
    {
     "data": {
      "image/png": "[encoded data removed]",
      "text/plain": [
       "<Figure size 432x288 with 1 Axes>"
      ]
     },
     "metadata": {
      "needs_background": "light"
     },
     "output_type": "display_data"
    }
   ],
   "source": [
    "# prob of `1``\n",
    "plt.hist(new_predsa[:,1])"
   ]
  },
  {
   "cell_type": "code",
   "execution_count": 6,
   "metadata": {
    "ExecuteTime": {
     "end_time": "2020-04-28T16:31:38.771763Z",
     "start_time": "2020-04-28T16:31:38.752705Z"
    }
   },
   "outputs": [
    {
     "data": {
      "text/html": [
       "<div>\n",
       "<style scoped>\n",
       "    .dataframe tbody tr th:only-of-type {\n",
       "        vertical-align: middle;\n",
       "    }\n",
       "\n",
       "    .dataframe tbody tr th {\n",
       "        vertical-align: top;\n",
       "    }\n",
       "\n",
       "    .dataframe thead th {\n",
       "        text-align: right;\n",
       "    }\n",
       "</style>\n",
       "<table border=\"1\" class=\"dataframe\">\n",
       "  <thead>\n",
       "    <tr style=\"text-align: right;\">\n",
       "      <th></th>\n",
       "      <th>system_key</th>\n",
       "      <th>yrq</th>\n",
       "      <th>pred0</th>\n",
       "      <th>pred1</th>\n",
       "    </tr>\n",
       "  </thead>\n",
       "  <tbody>\n",
       "    <tr>\n",
       "      <th>0</th>\n",
       "      <td>20634</td>\n",
       "      <td>20202</td>\n",
       "      <td>0.770040</td>\n",
       "      <td>0.229960</td>\n",
       "    </tr>\n",
       "    <tr>\n",
       "      <th>1</th>\n",
       "      <td>113936</td>\n",
       "      <td>20202</td>\n",
       "      <td>0.960659</td>\n",
       "      <td>0.039341</td>\n",
       "    </tr>\n",
       "    <tr>\n",
       "      <th>2</th>\n",
       "      <td>119434</td>\n",
       "      <td>20202</td>\n",
       "      <td>0.927296</td>\n",
       "      <td>0.072704</td>\n",
       "    </tr>\n",
       "    <tr>\n",
       "      <th>3</th>\n",
       "      <td>126198</td>\n",
       "      <td>20202</td>\n",
       "      <td>0.864283</td>\n",
       "      <td>0.135717</td>\n",
       "    </tr>\n",
       "    <tr>\n",
       "      <th>4</th>\n",
       "      <td>126647</td>\n",
       "      <td>20202</td>\n",
       "      <td>0.001578</td>\n",
       "      <td>0.998422</td>\n",
       "    </tr>\n",
       "  </tbody>\n",
       "</table>\n",
       "</div>"
      ],
      "text/plain": [
       "   system_key    yrq     pred0     pred1\n",
       "0       20634  20202  0.770040  0.229960\n",
       "1      113936  20202  0.960659  0.039341\n",
       "2      119434  20202  0.927296  0.072704\n",
       "3      126198  20202  0.864283  0.135717\n",
       "4      126647  20202  0.001578  0.998422"
      ]
     },
     "execution_count": 6,
     "metadata": {},
     "output_type": "execute_result"
    }
   ],
   "source": [
    "# new_data[id_vars]\n",
    "df = new_data[id_vars]\n",
    "df = df.assign(pred0 = new_predsa[:,0],\n",
    "               pred1 = new_predsa[:,1])\n",
    "\n",
    "df.head()"
   ]
  },
  {
   "cell_type": "code",
   "execution_count": 9,
   "metadata": {
    "ExecuteTime": {
     "end_time": "2020-04-28T16:32:36.607878Z",
     "start_time": "2020-04-28T16:32:36.034371Z"
    }
   },
   "outputs": [
    {
     "name": "stdout",
     "output_type": "stream",
     "text": [
      "writing preds to: ../data-preds/pred-proba-20202.csv\n"
     ]
    }
   ],
   "source": [
    "outpath = '../data-preds/'\n",
    "fname = 'pred-proba-' + str(df['yrq'][0]) + '.csv'\n",
    "print('writing preds to:', outpath + fname)\n",
    "df.to_csv(outpath + fname, index = False)"
   ]
  }
 ],
 "metadata": {
  "kernelspec": {
   "display_name": "Python 3",
   "language": "python",
   "name": "python3"
  },
  "language_info": {
   "codemirror_mode": {
    "name": "ipython",
    "version": 3
   },
   "file_extension": ".py",
   "mimetype": "text/x-python",
   "name": "python",
   "nbconvert_exporter": "python",
   "pygments_lexer": "ipython3",
   "version": "3.7.5"
  }
 },
 "nbformat": 4,
 "nbformat_minor": 2
}
